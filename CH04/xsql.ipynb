{
 "cells": [
  {
   "cell_type": "code",
   "execution_count": 1,
   "id": "8825c733",
   "metadata": {},
   "outputs": [],
   "source": [
    "%LOAD sqlite3 db=../databases/imdb.db timeout=2 shared_cache=true"
   ]
  },
  {
   "cell_type": "code",
   "execution_count": 2,
   "id": "6dcb4dc7",
   "metadata": {},
   "outputs": [],
   "source": [
    "ATTACH \"../databases/covid19.db\" AS covid19;"
   ]
  },
  {
   "cell_type": "code",
   "execution_count": 3,
   "id": "44802d62",
   "metadata": {},
   "outputs": [],
   "source": [
    "ATTACH \"../databases/nba.db\" AS nba;"
   ]
  },
  {
   "cell_type": "code",
   "execution_count": 4,
   "id": "34f0e551",
   "metadata": {},
   "outputs": [
    {
     "data": {
      "text/html": [
       "<table>\n",
       "<tr>\n",
       "<th>an_integer</th>\n",
       "<th>a_real</th>\n",
       "<th>a_text</th>\n",
       "<th>a_null</th>\n",
       "</tr>\n",
       "<tr>\n",
       "<td>5566</td>\n",
       "<td>2.718</td>\n",
       "<td>Hello, World!</td>\n",
       "<td>NULL</td>\n",
       "</tr>\n",
       "</table>\n",
       "1 row in set (0.00 sec)"
      ],
      "text/plain": [
       "+------------+--------+---------------+--------+\n",
       "| an_integer | a_real | a_text        | a_null |\n",
       "+------------+--------+---------------+--------+\n",
       "| 5566       | 2.718  | Hello, World! | NULL   |\n",
       "+------------+--------+---------------+--------+\n",
       "1 row in set (0.00 sec)"
      ]
     },
     "execution_count": 4,
     "metadata": {},
     "output_type": "execute_result"
    }
   ],
   "source": [
    "SELECT 5566 AS an_integer,\n",
    "       2.718 AS a_real,\n",
    "       'Hello, World!' AS a_text,\n",
    "       NULL AS a_null;"
   ]
  },
  {
   "cell_type": "code",
   "execution_count": 5,
   "id": "85a2075e",
   "metadata": {},
   "outputs": [
    {
     "data": {
      "text/html": [
       "<table>\n",
       "<tr>\n",
       "<th>typeof_an_integer</th>\n",
       "<th>typeof_a_real</th>\n",
       "<th>typeof_a_text</th>\n",
       "<th>typeof_a_null</th>\n",
       "</tr>\n",
       "<tr>\n",
       "<td>integer</td>\n",
       "<td>real</td>\n",
       "<td>text</td>\n",
       "<td>null</td>\n",
       "</tr>\n",
       "</table>\n",
       "1 row in set (0.00 sec)"
      ],
      "text/plain": [
       "+-------------------+---------------+---------------+---------------+\n",
       "| typeof_an_integer | typeof_a_real | typeof_a_text | typeof_a_null |\n",
       "+-------------------+---------------+---------------+---------------+\n",
       "| integer           | real          | text          | null          |\n",
       "+-------------------+---------------+---------------+---------------+\n",
       "1 row in set (0.00 sec)"
      ]
     },
     "execution_count": 5,
     "metadata": {},
     "output_type": "execute_result"
    }
   ],
   "source": [
    "SELECT TYPEOF(5566) AS typeof_an_integer,\n",
    "       TYPEOF(2.718) AS typeof_a_real,\n",
    "       TYPEOF('Hello, World!') AS typeof_a_text,\n",
    "       TYPEOF(NULL) AS typeof_a_null;"
   ]
  },
  {
   "cell_type": "code",
   "execution_count": 6,
   "id": "8ae15b9a",
   "metadata": {},
   "outputs": [
    {
     "data": {
      "text/html": [
       "<table>\n",
       "<tr>\n",
       "<th>add_two_integers</th>\n",
       "<th>subtract_two_integers</th>\n",
       "<th>multiply_two_integers</th>\n",
       "<th>divide_two_integers</th>\n",
       "<th>modulo</th>\n",
       "</tr>\n",
       "<tr>\n",
       "<td>121</td>\n",
       "<td>-11</td>\n",
       "<td>3630</td>\n",
       "<td>3</td>\n",
       "<td>1</td>\n",
       "</tr>\n",
       "</table>\n",
       "1 row in set (0.00 sec)"
      ],
      "text/plain": [
       "+------------------+-----------------------+-----------------------+---------------------+--------+\n",
       "| add_two_integers | subtract_two_integers | multiply_two_integers | divide_two_integers | modulo |\n",
       "+------------------+-----------------------+-----------------------+---------------------+--------+\n",
       "| 121              | -11                   | 3630                  | 3                   | 1      |\n",
       "+------------------+-----------------------+-----------------------+---------------------+--------+\n",
       "1 row in set (0.00 sec)"
      ]
     },
     "execution_count": 6,
     "metadata": {},
     "output_type": "execute_result"
    }
   ],
   "source": [
    "SELECT 55 + 66 AS add_two_integers,\n",
    "       55 - 66 AS subtract_two_integers,\n",
    "       55 * 66 AS multiply_two_integers,\n",
    "       7 / 2 AS divide_two_integers,\n",
    "       7 % 2 AS modulo;"
   ]
  },
  {
   "cell_type": "code",
   "execution_count": 7,
   "id": "367f5d0d",
   "metadata": {},
   "outputs": [
    {
     "data": {
      "text/html": [
       "<table>\n",
       "<tr>\n",
       "<th>divide_two_integers</th>\n",
       "<th>divide_real</th>\n",
       "<th>divide_integer</th>\n",
       "</tr>\n",
       "<tr>\n",
       "<td>3</td>\n",
       "<td>3.5</td>\n",
       "<td>3.0</td>\n",
       "</tr>\n",
       "</table>\n",
       "1 row in set (0.00 sec)"
      ],
      "text/plain": [
       "+---------------------+-------------+----------------+\n",
       "| divide_two_integers | divide_real | divide_integer |\n",
       "+---------------------+-------------+----------------+\n",
       "| 3                   | 3.5         | 3.0            |\n",
       "+---------------------+-------------+----------------+\n",
       "1 row in set (0.00 sec)"
      ]
     },
     "execution_count": 7,
     "metadata": {},
     "output_type": "execute_result"
    }
   ],
   "source": [
    "SELECT 7 / 2 AS divide_two_integers,\n",
    "       7 * 1.0 / 2 AS divide_real,\n",
    "       7 / 2 * 1.0 AS divide_integer; -- be aware of the priority of operation"
   ]
  },
  {
   "cell_type": "code",
   "execution_count": 8,
   "id": "6283b311",
   "metadata": {},
   "outputs": [
    {
     "data": {
      "text/html": [
       "<table>\n",
       "<tr>\n",
       "<th>runtime</th>\n",
       "<th>hours</th>\n",
       "<th>minutes</th>\n",
       "</tr>\n",
       "<tr>\n",
       "<td>142</td>\n",
       "<td>2</td>\n",
       "<td>22</td>\n",
       "</tr>\n",
       "<tr>\n",
       "<td>175</td>\n",
       "<td>2</td>\n",
       "<td>55</td>\n",
       "</tr>\n",
       "<tr>\n",
       "<td>152</td>\n",
       "<td>2</td>\n",
       "<td>32</td>\n",
       "</tr>\n",
       "<tr>\n",
       "<td>202</td>\n",
       "<td>3</td>\n",
       "<td>22</td>\n",
       "</tr>\n",
       "<tr>\n",
       "<td>96</td>\n",
       "<td>1</td>\n",
       "<td>36</td>\n",
       "</tr>\n",
       "</table>\n",
       "5 rows in set (0.00 sec)"
      ],
      "text/plain": [
       "+---------+-------+---------+\n",
       "| runtime | hours | minutes |\n",
       "+---------+-------+---------+\n",
       "| 142     | 2     | 22      |\n",
       "+---------+-------+---------+\n",
       "| 175     | 2     | 55      |\n",
       "+---------+-------+---------+\n",
       "| 152     | 2     | 32      |\n",
       "+---------+-------+---------+\n",
       "| 202     | 3     | 22      |\n",
       "+---------+-------+---------+\n",
       "| 96      | 1     | 36      |\n",
       "+---------+-------+---------+\n",
       "5 rows in set (0.00 sec)"
      ]
     },
     "execution_count": 8,
     "metadata": {},
     "output_type": "execute_result"
    }
   ],
   "source": [
    "SELECT runtime,\n",
    "       runtime / 60 AS hours,\n",
    "       runtime % 60 AS minutes\n",
    "  FROM movies\n",
    " LIMIT 5;"
   ]
  },
  {
   "cell_type": "code",
   "execution_count": 9,
   "id": "b8327360",
   "metadata": {},
   "outputs": [
    {
     "data": {
      "text/html": [
       "<table>\n",
       "<tr>\n",
       "<th>first_name</th>\n",
       "<th>last_name</th>\n",
       "<th>ironman</th>\n",
       "</tr>\n",
       "<tr>\n",
       "<td>Tony</td>\n",
       "<td>Stark</td>\n",
       "<td>Tony Stark</td>\n",
       "</tr>\n",
       "</table>\n",
       "1 row in set (0.00 sec)"
      ],
      "text/plain": [
       "+------------+-----------+------------+\n",
       "| first_name | last_name | ironman    |\n",
       "+------------+-----------+------------+\n",
       "| Tony       | Stark     | Tony Stark |\n",
       "+------------+-----------+------------+\n",
       "1 row in set (0.00 sec)"
      ]
     },
     "execution_count": 9,
     "metadata": {},
     "output_type": "execute_result"
    }
   ],
   "source": [
    "SELECT 'Tony' AS first_name,\n",
    "       'Stark' AS last_name,\n",
    "       'Tony' || ' ' || 'Stark' AS ironman;"
   ]
  },
  {
   "cell_type": "code",
   "execution_count": 10,
   "id": "1b22ec55",
   "metadata": {},
   "outputs": [
    {
     "data": {
      "text/html": [
       "<table>\n",
       "<tr>\n",
       "<th>runtime</th>\n",
       "<th>hours_minutes</th>\n",
       "</tr>\n",
       "<tr>\n",
       "<td>142</td>\n",
       "<td>2 hours 22 minutes</td>\n",
       "</tr>\n",
       "<tr>\n",
       "<td>175</td>\n",
       "<td>2 hours 55 minutes</td>\n",
       "</tr>\n",
       "<tr>\n",
       "<td>152</td>\n",
       "<td>2 hours 32 minutes</td>\n",
       "</tr>\n",
       "<tr>\n",
       "<td>202</td>\n",
       "<td>3 hours 22 minutes</td>\n",
       "</tr>\n",
       "<tr>\n",
       "<td>96</td>\n",
       "<td>1 hours 36 minutes</td>\n",
       "</tr>\n",
       "</table>\n",
       "5 rows in set (0.00 sec)"
      ],
      "text/plain": [
       "+---------+--------------------+\n",
       "| runtime | hours_minutes      |\n",
       "+---------+--------------------+\n",
       "| 142     | 2 hours 22 minutes |\n",
       "+---------+--------------------+\n",
       "| 175     | 2 hours 55 minutes |\n",
       "+---------+--------------------+\n",
       "| 152     | 2 hours 32 minutes |\n",
       "+---------+--------------------+\n",
       "| 202     | 3 hours 22 minutes |\n",
       "+---------+--------------------+\n",
       "| 96      | 1 hours 36 minutes |\n",
       "+---------+--------------------+\n",
       "5 rows in set (0.00 sec)"
      ]
     },
     "execution_count": 10,
     "metadata": {},
     "output_type": "execute_result"
    }
   ],
   "source": [
    "SELECT runtime,\n",
    "       (runtime / 60) || ' hours ' || (runtime % 60) || ' minutes' AS hours_minutes\n",
    "  FROM movies\n",
    " LIMIT 5;"
   ]
  },
  {
   "cell_type": "code",
   "execution_count": 11,
   "id": "702735b7",
   "metadata": {},
   "outputs": [
    {
     "data": {
      "text/html": [
       "<table>\n",
       "<tr>\n",
       "<th>hours</th>\n",
       "<th>typeof_hours</th>\n",
       "<th>hours_text</th>\n",
       "<th>typeof_hours_text</th>\n",
       "</tr>\n",
       "<tr>\n",
       "<td>2</td>\n",
       "<td>integer</td>\n",
       "<td>2</td>\n",
       "<td>text</td>\n",
       "</tr>\n",
       "<tr>\n",
       "<td>2</td>\n",
       "<td>integer</td>\n",
       "<td>2</td>\n",
       "<td>text</td>\n",
       "</tr>\n",
       "<tr>\n",
       "<td>2</td>\n",
       "<td>integer</td>\n",
       "<td>2</td>\n",
       "<td>text</td>\n",
       "</tr>\n",
       "<tr>\n",
       "<td>3</td>\n",
       "<td>integer</td>\n",
       "<td>3</td>\n",
       "<td>text</td>\n",
       "</tr>\n",
       "<tr>\n",
       "<td>1</td>\n",
       "<td>integer</td>\n",
       "<td>1</td>\n",
       "<td>text</td>\n",
       "</tr>\n",
       "</table>\n",
       "5 rows in set (0.00 sec)"
      ],
      "text/plain": [
       "+-------+--------------+------------+-------------------+\n",
       "| hours | typeof_hours | hours_text | typeof_hours_text |\n",
       "+-------+--------------+------------+-------------------+\n",
       "| 2     | integer      | 2          | text              |\n",
       "+-------+--------------+------------+-------------------+\n",
       "| 2     | integer      | 2          | text              |\n",
       "+-------+--------------+------------+-------------------+\n",
       "| 2     | integer      | 2          | text              |\n",
       "+-------+--------------+------------+-------------------+\n",
       "| 3     | integer      | 3          | text              |\n",
       "+-------+--------------+------------+-------------------+\n",
       "| 1     | integer      | 1          | text              |\n",
       "+-------+--------------+------------+-------------------+\n",
       "5 rows in set (0.00 sec)"
      ]
     },
     "execution_count": 11,
     "metadata": {},
     "output_type": "execute_result"
    }
   ],
   "source": [
    "SELECT runtime / 60 AS hours,\n",
    "       TYPEOF(runtime / 60) AS typeof_hours,\n",
    "       CAST(runtime / 60 AS text) AS hours_text,               -- convert datatype explicitly\n",
    "       TYPEOF(CAST(runtime / 60 AS text)) AS typeof_hours_text -- check datatype conversion\n",
    "  FROM movies\n",
    " LIMIT 5;"
   ]
  },
  {
   "cell_type": "code",
   "execution_count": 12,
   "id": "d8887ccc",
   "metadata": {},
   "outputs": [
    {
     "data": {
      "text/html": [
       "<table>\n",
       "<tr>\n",
       "<th>False</th>\n",
       "<th>True</th>\n",
       "<th>False</th>\n",
       "<th>True</th>\n",
       "<th>False</th>\n",
       "<th>True</th>\n",
       "<th>True</th>\n",
       "<th>False</th>\n",
       "<th>True</th>\n",
       "<th>True</th>\n",
       "<th>True</th>\n",
       "</tr>\n",
       "<tr>\n",
       "<td>0</td>\n",
       "<td>1</td>\n",
       "<td>0</td>\n",
       "<td>1</td>\n",
       "<td>0</td>\n",
       "<td>1</td>\n",
       "<td>1</td>\n",
       "<td>0</td>\n",
       "<td>1</td>\n",
       "<td>1</td>\n",
       "<td>1</td>\n",
       "</tr>\n",
       "</table>\n",
       "1 row in set (0.00 sec)"
      ],
      "text/plain": [
       "+-------+------+-------+------+-------+------+------+-------+------+------+------+\n",
       "| False | True | False | True | False | True | True | False | True | True | True |\n",
       "+-------+------+-------+------+-------+------+------+-------+------+------+------+\n",
       "| 0     | 1    | 0     | 1    | 0     | 1    | 1    | 0     | 1    | 1    | 1    |\n",
       "+-------+------+-------+------+-------+------+------+-------+------+------+------+\n",
       "1 row in set (0.00 sec)"
      ]
     },
     "execution_count": 12,
     "metadata": {},
     "output_type": "execute_result"
    }
   ],
   "source": [
    "SELECT 55 = 66 AS False,\n",
    "       55 != 66 AS True,\n",
    "       55 > 55 AS False,\n",
    "       55 >= 55 AS True,\n",
    "       66 < 66 AS False,\n",
    "       66 <= 66 AS True,\n",
    "       'Apple' LIKE 'A%' AS True,\n",
    "       'Banana' LIKE 'A%' AS False,\n",
    "       'A' IN ('A', 'B', 'C') AS True,\n",
    "       59 BETWEEN 55 AND 66 AS True,\n",
    "       NULL IS NULL AS True;"
   ]
  },
  {
   "cell_type": "code",
   "execution_count": 13,
   "id": "823a0dae",
   "metadata": {},
   "outputs": [
    {
     "data": {
      "text/html": [
       "<table>\n",
       "<tr>\n",
       "<th>rating_is_high</th>\n",
       "<th>is_directed_by_steven_spielberg</th>\n",
       "<th>is_specific_movie</th>\n",
       "</tr>\n",
       "<tr>\n",
       "<td>1</td>\n",
       "<td>0</td>\n",
       "<td>1</td>\n",
       "</tr>\n",
       "<tr>\n",
       "<td>1</td>\n",
       "<td>0</td>\n",
       "<td>0</td>\n",
       "</tr>\n",
       "<tr>\n",
       "<td>1</td>\n",
       "<td>0</td>\n",
       "<td>1</td>\n",
       "</tr>\n",
       "<tr>\n",
       "<td>1</td>\n",
       "<td>0</td>\n",
       "<td>0</td>\n",
       "</tr>\n",
       "<tr>\n",
       "<td>1</td>\n",
       "<td>0</td>\n",
       "<td>0</td>\n",
       "</tr>\n",
       "<tr>\n",
       "<td>1</td>\n",
       "<td>1</td>\n",
       "<td>0</td>\n",
       "</tr>\n",
       "<tr>\n",
       "<td>1</td>\n",
       "<td>0</td>\n",
       "<td>0</td>\n",
       "</tr>\n",
       "<tr>\n",
       "<td>0</td>\n",
       "<td>0</td>\n",
       "<td>0</td>\n",
       "</tr>\n",
       "<tr>\n",
       "<td>0</td>\n",
       "<td>0</td>\n",
       "<td>0</td>\n",
       "</tr>\n",
       "<tr>\n",
       "<td>0</td>\n",
       "<td>0</td>\n",
       "<td>0</td>\n",
       "</tr>\n",
       "</table>\n",
       "10 rows in set (0.00 sec)"
      ],
      "text/plain": [
       "+----------------+---------------------------------+-------------------+\n",
       "| rating_is_high | is_directed_by_steven_spielberg | is_specific_movie |\n",
       "+----------------+---------------------------------+-------------------+\n",
       "| 1              | 0                               | 1                 |\n",
       "+----------------+---------------------------------+-------------------+\n",
       "| 1              | 0                               | 0                 |\n",
       "+----------------+---------------------------------+-------------------+\n",
       "| 1              | 0                               | 1                 |\n",
       "+----------------+---------------------------------+-------------------+\n",
       "| 1              | 0                               | 0                 |\n",
       "+----------------+---------------------------------+-------------------+\n",
       "| 1              | 0                               | 0                 |\n",
       "+----------------+---------------------------------+-------------------+\n",
       "| 1              | 1                               | 0                 |\n",
       "+----------------+---------------------------------+-------------------+\n",
       "| 1              | 0                               | 0                 |\n",
       "+----------------+---------------------------------+-------------------+\n",
       "| 0              | 0                               | 0                 |\n",
       "+----------------+---------------------------------+-------------------+\n",
       "| 0              | 0                               | 0                 |\n",
       "+----------------+---------------------------------+-------------------+\n",
       "| 0              | 0                               | 0                 |\n",
       "+----------------+---------------------------------+-------------------+\n",
       "10 rows in set (0.00 sec)"
      ]
     },
     "execution_count": 13,
     "metadata": {},
     "output_type": "execute_result"
    }
   ],
   "source": [
    "SELECT rating >= 9 AS rating_is_high,\n",
    "       director == 'Steven Spielberg' AS is_directed_by_steven_spielberg,\n",
    "       title IN ('The Shawshank Redemption', 'The Dark Knight') AS is_specific_movie\n",
    "  FROM movies\n",
    " LIMIT 10;"
   ]
  },
  {
   "cell_type": "code",
   "execution_count": 14,
   "id": "bf42e7d1",
   "metadata": {},
   "outputs": [
    {
     "data": {
      "text/html": [
       "<table>\n",
       "<tr>\n",
       "<th>False</th>\n",
       "<th>False</th>\n",
       "<th>True</th>\n",
       "<th>False</th>\n",
       "<th>True</th>\n",
       "<th>True</th>\n",
       "<th>False</th>\n",
       "<th>True</th>\n",
       "<th>False</th>\n",
       "<th>False</th>\n",
       "<th>False</th>\n",
       "</tr>\n",
       "<tr>\n",
       "<td>0</td>\n",
       "<td>0</td>\n",
       "<td>1</td>\n",
       "<td>0</td>\n",
       "<td>1</td>\n",
       "<td>1</td>\n",
       "<td>0</td>\n",
       "<td>1</td>\n",
       "<td>0</td>\n",
       "<td>0</td>\n",
       "<td>0</td>\n",
       "</tr>\n",
       "</table>\n",
       "1 row in set (0.00 sec)"
      ],
      "text/plain": [
       "+-------+-------+------+-------+------+------+-------+------+-------+-------+-------+\n",
       "| False | False | True | False | True | True | False | True | False | False | False |\n",
       "+-------+-------+------+-------+------+------+-------+------+-------+-------+-------+\n",
       "| 0     | 0     | 1    | 0     | 1    | 1    | 0     | 1    | 0     | 0     | 0     |\n",
       "+-------+-------+------+-------+------+------+-------+------+-------+-------+-------+\n",
       "1 row in set (0.00 sec)"
      ]
     },
     "execution_count": 14,
     "metadata": {},
     "output_type": "execute_result"
    }
   ],
   "source": [
    "SELECT 0 AND 0 AS False,\n",
    "       0 AND 1 AS False,\n",
    "       1 AND 1 AS True,\n",
    "       0 OR 0 AS False,\n",
    "       0 OR 1 AS True,\n",
    "       1 OR 1 AS True,\n",
    "       'Apple' NOT LIKE 'A%' AS False,\n",
    "       'Banana' NOT LIKE 'A%' AS True,\n",
    "       'A' NOT IN ('A', 'B', 'C') AS False,\n",
    "       59 NOT BETWEEN 55 AND 66 AS False,\n",
    "       NULL IS NOT NULL AS False;"
   ]
  },
  {
   "cell_type": "code",
   "execution_count": 15,
   "id": "3c74df00",
   "metadata": {},
   "outputs": [
    {
     "data": {
      "text/html": [
       "<table>\n",
       "<tr>\n",
       "<th>rating_is_high_and_released_before_millennium</th>\n",
       "<th>is_directed_by_steven_spielberg_or_christopher_nolan</th>\n",
       "<th>is_specific_movie</th>\n",
       "</tr>\n",
       "<tr>\n",
       "<td>1</td>\n",
       "<td>0</td>\n",
       "<td>1</td>\n",
       "</tr>\n",
       "<tr>\n",
       "<td>1</td>\n",
       "<td>0</td>\n",
       "<td>0</td>\n",
       "</tr>\n",
       "<tr>\n",
       "<td>0</td>\n",
       "<td>1</td>\n",
       "<td>1</td>\n",
       "</tr>\n",
       "<tr>\n",
       "<td>1</td>\n",
       "<td>0</td>\n",
       "<td>0</td>\n",
       "</tr>\n",
       "<tr>\n",
       "<td>1</td>\n",
       "<td>0</td>\n",
       "<td>0</td>\n",
       "</tr>\n",
       "<tr>\n",
       "<td>1</td>\n",
       "<td>1</td>\n",
       "<td>0</td>\n",
       "</tr>\n",
       "<tr>\n",
       "<td>0</td>\n",
       "<td>0</td>\n",
       "<td>0</td>\n",
       "</tr>\n",
       "<tr>\n",
       "<td>0</td>\n",
       "<td>0</td>\n",
       "<td>0</td>\n",
       "</tr>\n",
       "<tr>\n",
       "<td>0</td>\n",
       "<td>0</td>\n",
       "<td>0</td>\n",
       "</tr>\n",
       "<tr>\n",
       "<td>0</td>\n",
       "<td>0</td>\n",
       "<td>0</td>\n",
       "</tr>\n",
       "</table>\n",
       "10 rows in set (0.00 sec)"
      ],
      "text/plain": [
       "+-----------------------------------------------+------------------------------------------------------+-------------------+\n",
       "| rating_is_high_and_released_before_millennium | is_directed_by_steven_spielberg_or_christopher_nolan | is_specific_movie |\n",
       "+-----------------------------------------------+------------------------------------------------------+-------------------+\n",
       "| 1                                             | 0                                                    | 1                 |\n",
       "+-----------------------------------------------+------------------------------------------------------+-------------------+\n",
       "| 1                                             | 0                                                    | 0                 |\n",
       "+-----------------------------------------------+------------------------------------------------------+-------------------+\n",
       "| 0                                             | 1                                                    | 1                 |\n",
       "+-----------------------------------------------+------------------------------------------------------+-------------------+\n",
       "| 1                                             | 0                                                    | 0                 |\n",
       "+-----------------------------------------------+------------------------------------------------------+-------------------+\n",
       "| 1                                             | 0                                                    | 0                 |\n",
       "+-----------------------------------------------+------------------------------------------------------+-------------------+\n",
       "| 1                                             | 1                                                    | 0                 |\n",
       "+-----------------------------------------------+------------------------------------------------------+-------------------+\n",
       "| 0                                             | 0                                                    | 0                 |\n",
       "+-----------------------------------------------+------------------------------------------------------+-------------------+\n",
       "| 0                                             | 0                                                    | 0                 |\n",
       "+-----------------------------------------------+------------------------------------------------------+-------------------+\n",
       "| 0                                             | 0                                                    | 0                 |\n",
       "+-----------------------------------------------+------------------------------------------------------+-------------------+\n",
       "| 0                                             | 0                                                    | 0                 |\n",
       "+-----------------------------------------------+------------------------------------------------------+-------------------+\n",
       "10 rows in set (0.00 sec)"
      ]
     },
     "execution_count": 15,
     "metadata": {},
     "output_type": "execute_result"
    }
   ],
   "source": [
    "SELECT rating >= 9 AND release_year < 2000 AS rating_is_high_and_released_before_millennium,\n",
    "       director == 'Steven Spielberg' OR\n",
    "       director == 'Christopher Nolan' AS is_directed_by_steven_spielberg_or_christopher_nolan,\n",
    "       title == 'The Shawshank Redemption' OR\n",
    "       title == 'The Dark Knight' AS is_specific_movie\n",
    "  FROM movies\n",
    " LIMIT 10;"
   ]
  },
  {
   "cell_type": "markdown",
   "id": "21c33a48",
   "metadata": {},
   "source": [
    "# Exercise"
   ]
  },
  {
   "cell_type": "code",
   "execution_count": 17,
   "id": "c428383f",
   "metadata": {},
   "outputs": [
    {
     "data": {
      "text/html": [
       "<table>\n",
       "<tr>\n",
       "<th>Confirmed</th>\n",
       "<th>Deaths</th>\n",
       "<th>Fatality_Ratio</th>\n",
       "</tr>\n",
       "<tr>\n",
       "<td>180347</td>\n",
       "<td>7705</td>\n",
       "<td>0.0427231947301591</td>\n",
       "</tr>\n",
       "<tr>\n",
       "<td>276101</td>\n",
       "<td>3497</td>\n",
       "<td>0.0126656549595981</td>\n",
       "</tr>\n",
       "<tr>\n",
       "<td>265884</td>\n",
       "<td>6875</td>\n",
       "<td>0.0258571407079779</td>\n",
       "</tr>\n",
       "<tr>\n",
       "<td>42894</td>\n",
       "<td>153</td>\n",
       "<td>0.00356693243810323</td>\n",
       "</tr>\n",
       "<tr>\n",
       "<td>99761</td>\n",
       "<td>1900</td>\n",
       "<td>0.0190455187899079</td>\n",
       "</tr>\n",
       "</table>\n",
       "5 rows in set (0.00 sec)"
      ],
      "text/plain": [
       "+-----------+--------+---------------------+\n",
       "| Confirmed | Deaths | Fatality_Ratio      |\n",
       "+-----------+--------+---------------------+\n",
       "| 180347    | 7705   | 0.0427231947301591  |\n",
       "+-----------+--------+---------------------+\n",
       "| 276101    | 3497   | 0.0126656549595981  |\n",
       "+-----------+--------+---------------------+\n",
       "| 265884    | 6875   | 0.0258571407079779  |\n",
       "+-----------+--------+---------------------+\n",
       "| 42894     | 153    | 0.00356693243810323 |\n",
       "+-----------+--------+---------------------+\n",
       "| 99761     | 1900   | 0.0190455187899079  |\n",
       "+-----------+--------+---------------------+\n",
       "5 rows in set (0.00 sec)"
      ]
     },
     "execution_count": 17,
     "metadata": {},
     "output_type": "execute_result"
    }
   ],
   "source": [
    "SELECT Confirmed, Deaths,\n",
    "       Deaths*1.0 / Confirmed AS Fatality_Ratio\n",
    "  FROM covid19.daily_report\n",
    " LIMIT 5;"
   ]
  },
  {
   "cell_type": "code",
   "execution_count": 19,
   "id": "961d59ae",
   "metadata": {},
   "outputs": [
    {
     "data": {
      "text/html": [
       "<table>\n",
       "<tr>\n",
       "<th>heightMeters</th>\n",
       "<th>weightKilograms</th>\n",
       "<th>bmi</th>\n",
       "</tr>\n",
       "<tr>\n",
       "<td>2.06</td>\n",
       "<td>113.4</td>\n",
       "<td>26.7225940239419</td>\n",
       "</tr>\n",
       "<tr>\n",
       "<td>2.01</td>\n",
       "<td>108</td>\n",
       "<td>26.7320115838717</td>\n",
       "</tr>\n",
       "<tr>\n",
       "<td>2.03</td>\n",
       "<td>106.6</td>\n",
       "<td>25.8681356014463</td>\n",
       "</tr>\n",
       "<tr>\n",
       "<td>2.08</td>\n",
       "<td>120.2</td>\n",
       "<td>27.7829142011834</td>\n",
       "</tr>\n",
       "<tr>\n",
       "<td>1.98</td>\n",
       "<td>97.5</td>\n",
       "<td>24.8699112335476</td>\n",
       "</tr>\n",
       "</table>\n",
       "5 rows in set (0.00 sec)"
      ],
      "text/plain": [
       "+--------------+-----------------+------------------+\n",
       "| heightMeters | weightKilograms | bmi              |\n",
       "+--------------+-----------------+------------------+\n",
       "| 2.06         | 113.4           | 26.7225940239419 |\n",
       "+--------------+-----------------+------------------+\n",
       "| 2.01         | 108             | 26.7320115838717 |\n",
       "+--------------+-----------------+------------------+\n",
       "| 2.03         | 106.6           | 25.8681356014463 |\n",
       "+--------------+-----------------+------------------+\n",
       "| 2.08         | 120.2           | 27.7829142011834 |\n",
       "+--------------+-----------------+------------------+\n",
       "| 1.98         | 97.5            | 24.8699112335476 |\n",
       "+--------------+-----------------+------------------+\n",
       "5 rows in set (0.00 sec)"
      ]
     },
     "execution_count": 19,
     "metadata": {},
     "output_type": "execute_result"
    }
   ],
   "source": [
    "SELECT heightMeters, weightKilograms,\n",
    "       weightKilograms / (heightMeters * heightMeters) AS bmi\n",
    "  FROM nba.players\n",
    " LIMIT 5;"
   ]
  },
  {
   "cell_type": "code",
   "execution_count": null,
   "id": "456dd542",
   "metadata": {},
   "outputs": [],
   "source": [
    "-- sqlite 沒有很多內建function，但可以自己建"
   ]
  },
  {
   "cell_type": "code",
   "execution_count": 30,
   "id": "f126f3b8",
   "metadata": {},
   "outputs": [
    {
     "ename": "Error",
     "evalue": "sqlite3_statement_backend::prepare: no such function: pow while preparing \"SELECT heightMeters, weightKilograms,\n       weightKilograms / pow(heightMeters, 2) AS bmi\n  FROM nba.players\n LIMIT 5;\".",
     "output_type": "error",
     "traceback": [
      "Error: sqlite3_statement_backend::prepare: no such function: pow while preparing \"SELECT heightMeters, weightKilograms,\n       weightKilograms / pow(heightMeters, 2) AS bmi\n  FROM nba.players\n LIMIT 5;\"."
     ]
    }
   ],
   "source": [
    "SELECT heightMeters, weightKilograms,\n",
    "       weightKilograms / pow(heightMeters, 2) AS bmi\n",
    "  FROM nba.players\n",
    " LIMIT 5;"
   ]
  },
  {
   "cell_type": "code",
   "execution_count": 28,
   "id": "e6c03ac3",
   "metadata": {},
   "outputs": [
    {
     "data": {
      "text/html": [
       "<table>\n",
       "<tr>\n",
       "<th>conf_div</th>\n",
       "</tr>\n",
       "<tr>\n",
       "<td>East, Southeast</td>\n",
       "</tr>\n",
       "<tr>\n",
       "<td>East, Atlantic</td>\n",
       "</tr>\n",
       "<tr>\n",
       "<td>East, Central</td>\n",
       "</tr>\n",
       "<tr>\n",
       "<td>West, Southwest</td>\n",
       "</tr>\n",
       "<tr>\n",
       "<td>West, Northwest</td>\n",
       "</tr>\n",
       "<tr>\n",
       "<td>West, Pacific</td>\n",
       "</tr>\n",
       "</table>\n",
       "6 rows in set (0.00 sec)"
      ],
      "text/plain": [
       "+-----------------+\n",
       "| conf_div        |\n",
       "+-----------------+\n",
       "| East, Southeast |\n",
       "+-----------------+\n",
       "| East, Atlantic  |\n",
       "+-----------------+\n",
       "| East, Central   |\n",
       "+-----------------+\n",
       "| West, Southwest |\n",
       "+-----------------+\n",
       "| West, Northwest |\n",
       "+-----------------+\n",
       "| West, Pacific   |\n",
       "+-----------------+\n",
       "6 rows in set (0.00 sec)"
      ]
     },
     "execution_count": 28,
     "metadata": {},
     "output_type": "execute_result"
    }
   ],
   "source": [
    "SELECT DISTINCT confName || ', ' || divName AS conf_div\n",
    "FROM nba.teams"
   ]
  },
  {
   "cell_type": "code",
   "execution_count": null,
   "id": "543a930d",
   "metadata": {},
   "outputs": [],
   "source": []
  }
 ],
 "metadata": {
  "kernelspec": {
   "display_name": "xsql",
   "language": "sqlite",
   "name": "xsql"
  },
  "language_info": {
   "codemirror_mode": "sql",
   "file_extension": "",
   "mimetype": "",
   "name": "mysql",
   "version": "0.2.1"
  }
 },
 "nbformat": 4,
 "nbformat_minor": 5
}
