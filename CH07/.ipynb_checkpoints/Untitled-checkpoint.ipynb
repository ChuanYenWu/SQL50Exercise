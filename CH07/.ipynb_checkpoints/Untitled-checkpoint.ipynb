{
 "cells": [
  {
   "cell_type": "code",
   "execution_count": 1,
   "id": "8c479228",
   "metadata": {},
   "outputs": [],
   "source": [
    "%LOAD sqlite3 db=../databases/imdb.db timeout=2 shared_cache=true"
   ]
  },
  {
   "cell_type": "code",
   "execution_count": 2,
   "id": "537e886c",
   "metadata": {},
   "outputs": [],
   "source": [
    "ATTACH \"../databases/covid19.db\" AS covid19;"
   ]
  },
  {
   "cell_type": "code",
   "execution_count": 3,
   "id": "aab63653",
   "metadata": {},
   "outputs": [
    {
     "data": {
      "text/html": [
       "<table>\n",
       "<tr>\n",
       "<th>release_year</th>\n",
       "<th>released_in_1994</th>\n",
       "</tr>\n",
       "<tr>\n",
       "<td>1994</td>\n",
       "<td>1</td>\n",
       "</tr>\n",
       "<tr>\n",
       "<td>1972</td>\n",
       "<td>0</td>\n",
       "</tr>\n",
       "<tr>\n",
       "<td>2008</td>\n",
       "<td>0</td>\n",
       "</tr>\n",
       "<tr>\n",
       "<td>1974</td>\n",
       "<td>0</td>\n",
       "</tr>\n",
       "<tr>\n",
       "<td>1957</td>\n",
       "<td>0</td>\n",
       "</tr>\n",
       "<tr>\n",
       "<td>1993</td>\n",
       "<td>0</td>\n",
       "</tr>\n",
       "<tr>\n",
       "<td>2003</td>\n",
       "<td>0</td>\n",
       "</tr>\n",
       "<tr>\n",
       "<td>1994</td>\n",
       "<td>1</td>\n",
       "</tr>\n",
       "<tr>\n",
       "<td>2001</td>\n",
       "<td>0</td>\n",
       "</tr>\n",
       "<tr>\n",
       "<td>1966</td>\n",
       "<td>0</td>\n",
       "</tr>\n",
       "</table>\n",
       "10 rows in set (0.00 sec)"
      ],
      "text/plain": [
       "+--------------+------------------+\n",
       "| release_year | released_in_1994 |\n",
       "+--------------+------------------+\n",
       "| 1994         | 1                |\n",
       "+--------------+------------------+\n",
       "| 1972         | 0                |\n",
       "+--------------+------------------+\n",
       "| 2008         | 0                |\n",
       "+--------------+------------------+\n",
       "| 1974         | 0                |\n",
       "+--------------+------------------+\n",
       "| 1957         | 0                |\n",
       "+--------------+------------------+\n",
       "| 1993         | 0                |\n",
       "+--------------+------------------+\n",
       "| 2003         | 0                |\n",
       "+--------------+------------------+\n",
       "| 1994         | 1                |\n",
       "+--------------+------------------+\n",
       "| 2001         | 0                |\n",
       "+--------------+------------------+\n",
       "| 1966         | 0                |\n",
       "+--------------+------------------+\n",
       "10 rows in set (0.00 sec)"
      ]
     },
     "execution_count": 3,
     "metadata": {},
     "output_type": "execute_result"
    }
   ],
   "source": [
    "SELECT release_year,\n",
    "       release_year = 1994 AS released_in_1994\n",
    "  FROM movies\n",
    " LIMIT 10;"
   ]
  },
  {
   "cell_type": "code",
   "execution_count": 4,
   "id": "95e26d29",
   "metadata": {},
   "outputs": [
    {
     "data": {
      "text/html": [
       "<table>\n",
       "<tr>\n",
       "<th>release_year</th>\n",
       "<th>released_in_1994</th>\n",
       "</tr>\n",
       "<tr>\n",
       "<td>1994</td>\n",
       "<td>1</td>\n",
       "</tr>\n",
       "<tr>\n",
       "<td>1994</td>\n",
       "<td>1</td>\n",
       "</tr>\n",
       "<tr>\n",
       "<td>1994</td>\n",
       "<td>1</td>\n",
       "</tr>\n",
       "<tr>\n",
       "<td>1994</td>\n",
       "<td>1</td>\n",
       "</tr>\n",
       "<tr>\n",
       "<td>1994</td>\n",
       "<td>1</td>\n",
       "</tr>\n",
       "</table>\n",
       "5 rows in set (0.00 sec)"
      ],
      "text/plain": [
       "+--------------+------------------+\n",
       "| release_year | released_in_1994 |\n",
       "+--------------+------------------+\n",
       "| 1994         | 1                |\n",
       "+--------------+------------------+\n",
       "| 1994         | 1                |\n",
       "+--------------+------------------+\n",
       "| 1994         | 1                |\n",
       "+--------------+------------------+\n",
       "| 1994         | 1                |\n",
       "+--------------+------------------+\n",
       "| 1994         | 1                |\n",
       "+--------------+------------------+\n",
       "5 rows in set (0.00 sec)"
      ]
     },
     "execution_count": 4,
     "metadata": {},
     "output_type": "execute_result"
    }
   ],
   "source": [
    "SELECT release_year,\n",
    "       release_year = 1994 AS released_in_1994\n",
    "  FROM movies\n",
    " WHERE release_year = 1994;"
   ]
  },
  {
   "cell_type": "code",
   "execution_count": 5,
   "id": "fdea10fe",
   "metadata": {},
   "outputs": [
    {
     "data": {
      "text/html": [
       "<table>\n",
       "<tr>\n",
       "<th>title</th>\n",
       "<th>release_year</th>\n",
       "<th>rating</th>\n",
       "<th>runtime</th>\n",
       "</tr>\n",
       "<tr>\n",
       "<td>The Shawshank Redemption</td>\n",
       "<td>1994</td>\n",
       "<td>9.3</td>\n",
       "<td>142</td>\n",
       "</tr>\n",
       "<tr>\n",
       "<td>Pulp Fiction</td>\n",
       "<td>1994</td>\n",
       "<td>8.9</td>\n",
       "<td>154</td>\n",
       "</tr>\n",
       "<tr>\n",
       "<td>Forrest Gump</td>\n",
       "<td>1994</td>\n",
       "<td>8.8</td>\n",
       "<td>142</td>\n",
       "</tr>\n",
       "<tr>\n",
       "<td>Léon: The Professional</td>\n",
       "<td>1994</td>\n",
       "<td>8.5</td>\n",
       "<td>110</td>\n",
       "</tr>\n",
       "<tr>\n",
       "<td>The Lion King</td>\n",
       "<td>1994</td>\n",
       "<td>8.5</td>\n",
       "<td>88</td>\n",
       "</tr>\n",
       "</table>\n",
       "5 rows in set (0.00 sec)"
      ],
      "text/plain": [
       "+--------------------------+--------------+--------+---------+\n",
       "| title                    | release_year | rating | runtime |\n",
       "+--------------------------+--------------+--------+---------+\n",
       "| The Shawshank Redemption | 1994         | 9.3    | 142     |\n",
       "+--------------------------+--------------+--------+---------+\n",
       "| Pulp Fiction             | 1994         | 8.9    | 154     |\n",
       "+--------------------------+--------------+--------+---------+\n",
       "| Forrest Gump             | 1994         | 8.8    | 142     |\n",
       "+--------------------------+--------------+--------+---------+\n",
       "| Léon: The Professional  | 1994         | 8.5    | 110     |\n",
       "+--------------------------+--------------+--------+---------+\n",
       "| The Lion King            | 1994         | 8.5    | 88      |\n",
       "+--------------------------+--------------+--------+---------+\n",
       "5 rows in set (0.00 sec)"
      ]
     },
     "execution_count": 5,
     "metadata": {},
     "output_type": "execute_result"
    }
   ],
   "source": [
    "SELECT title,\n",
    "       release_year,\n",
    "       rating,\n",
    "       runtime\n",
    "  FROM movies\n",
    " WHERE release_year = 1994;"
   ]
  },
  {
   "cell_type": "code",
   "execution_count": 6,
   "id": "56ed4cb4",
   "metadata": {},
   "outputs": [
    {
     "data": {
      "text/html": [
       "<table>\n",
       "<tr>\n",
       "<th>title</th>\n",
       "<th>release_year</th>\n",
       "<th>director</th>\n",
       "</tr>\n",
       "<tr>\n",
       "<td>Memento</td>\n",
       "<td>2000</td>\n",
       "<td>Christopher Nolan</td>\n",
       "</tr>\n",
       "<tr>\n",
       "<td>Batman Begins</td>\n",
       "<td>2005</td>\n",
       "<td>Christopher Nolan</td>\n",
       "</tr>\n",
       "<tr>\n",
       "<td>The Prestige</td>\n",
       "<td>2006</td>\n",
       "<td>Christopher Nolan</td>\n",
       "</tr>\n",
       "<tr>\n",
       "<td>The Dark Knight</td>\n",
       "<td>2008</td>\n",
       "<td>Christopher Nolan</td>\n",
       "</tr>\n",
       "<tr>\n",
       "<td>Inception</td>\n",
       "<td>2010</td>\n",
       "<td>Christopher Nolan</td>\n",
       "</tr>\n",
       "<tr>\n",
       "<td>The Dark Knight Rises</td>\n",
       "<td>2012</td>\n",
       "<td>Christopher Nolan</td>\n",
       "</tr>\n",
       "<tr>\n",
       "<td>Interstellar</td>\n",
       "<td>2014</td>\n",
       "<td>Christopher Nolan</td>\n",
       "</tr>\n",
       "</table>\n",
       "7 rows in set (0.00 sec)"
      ],
      "text/plain": [
       "+-----------------------+--------------+-------------------+\n",
       "| title                 | release_year | director          |\n",
       "+-----------------------+--------------+-------------------+\n",
       "| Memento               | 2000         | Christopher Nolan |\n",
       "+-----------------------+--------------+-------------------+\n",
       "| Batman Begins         | 2005         | Christopher Nolan |\n",
       "+-----------------------+--------------+-------------------+\n",
       "| The Prestige          | 2006         | Christopher Nolan |\n",
       "+-----------------------+--------------+-------------------+\n",
       "| The Dark Knight       | 2008         | Christopher Nolan |\n",
       "+-----------------------+--------------+-------------------+\n",
       "| Inception             | 2010         | Christopher Nolan |\n",
       "+-----------------------+--------------+-------------------+\n",
       "| The Dark Knight Rises | 2012         | Christopher Nolan |\n",
       "+-----------------------+--------------+-------------------+\n",
       "| Interstellar          | 2014         | Christopher Nolan |\n",
       "+-----------------------+--------------+-------------------+\n",
       "7 rows in set (0.00 sec)"
      ]
     },
     "execution_count": 6,
     "metadata": {},
     "output_type": "execute_result"
    }
   ],
   "source": [
    "SELECT title,\n",
    "       release_year,\n",
    "       director\n",
    "  FROM movies\n",
    " WHERE director = 'Christopher Nolan'\n",
    " ORDER BY release_year;"
   ]
  },
  {
   "cell_type": "code",
   "execution_count": 7,
   "id": "4dd9f89f",
   "metadata": {},
   "outputs": [
    {
     "data": {
      "text/html": [
       "<table>\n",
       "<tr>\n",
       "<th>title</th>\n",
       "</tr>\n",
       "<tr>\n",
       "<td>The Lord of the Rings: The Return of the King</td>\n",
       "</tr>\n",
       "<tr>\n",
       "<td>The Lord of the Rings: The Fellowship of the Ring</td>\n",
       "</tr>\n",
       "<tr>\n",
       "<td>The Lord of the Rings: The Two Towers</td>\n",
       "</tr>\n",
       "</table>\n",
       "3 rows in set (0.00 sec)"
      ],
      "text/plain": [
       "+---------------------------------------------------+\n",
       "| title                                             |\n",
       "+---------------------------------------------------+\n",
       "| The Lord of the Rings: The Return of the King     |\n",
       "+---------------------------------------------------+\n",
       "| The Lord of the Rings: The Fellowship of the Ring |\n",
       "+---------------------------------------------------+\n",
       "| The Lord of the Rings: The Two Towers             |\n",
       "+---------------------------------------------------+\n",
       "3 rows in set (0.00 sec)"
      ]
     },
     "execution_count": 7,
     "metadata": {},
     "output_type": "execute_result"
    }
   ],
   "source": [
    "SELECT title\n",
    "  FROM movies\n",
    " WHERE title LIKE 'The Lord of the Rings%'; -- The Lord of the Rings followed by any characters"
   ]
  },
  {
   "cell_type": "code",
   "execution_count": 8,
   "id": "4c5d6e86",
   "metadata": {},
   "outputs": [
    {
     "data": {
      "text/html": [
       "<table>\n",
       "<tr>\n",
       "<th>title</th>\n",
       "</tr>\n",
       "<tr>\n",
       "<td>The Matrix</td>\n",
       "</tr>\n",
       "<tr>\n",
       "<td>The Father</td>\n",
       "</tr>\n",
       "</table>\n",
       "2 rows in set (0.00 sec)"
      ],
      "text/plain": [
       "+------------+\n",
       "| title      |\n",
       "+------------+\n",
       "| The Matrix |\n",
       "+------------+\n",
       "| The Father |\n",
       "+------------+\n",
       "2 rows in set (0.00 sec)"
      ]
     },
     "execution_count": 8,
     "metadata": {},
     "output_type": "execute_result"
    }
   ],
   "source": [
    "SELECT title\n",
    "  FROM movies\n",
    " WHERE title LIKE 'The ______'; -- The followed by a space and 6 characters"
   ]
  },
  {
   "cell_type": "code",
   "execution_count": 13,
   "id": "7fe3b355",
   "metadata": {},
   "outputs": [
    {
     "data": {
      "text/html": [
       "<table>\n",
       "<tr>\n",
       "<th>title</th>\n",
       "</tr>\n",
       "<tr>\n",
       "<td>The Lord of the Rings: The Return of the King</td>\n",
       "</tr>\n",
       "<tr>\n",
       "<td>The Lion King</td>\n",
       "</tr>\n",
       "</table>\n",
       "2 rows in set (0.00 sec)"
      ],
      "text/plain": [
       "+-----------------------------------------------+\n",
       "| title                                         |\n",
       "+-----------------------------------------------+\n",
       "| The Lord of the Rings: The Return of the King |\n",
       "+-----------------------------------------------+\n",
       "| The Lion King                                 |\n",
       "+-----------------------------------------------+\n",
       "2 rows in set (0.00 sec)"
      ]
     },
     "execution_count": 13,
     "metadata": {},
     "output_type": "execute_result"
    }
   ],
   "source": [
    "SELECT title\n",
    "  FROM movies\n",
    " WHERE title LIKE '% king'; -- The Lord of the Rings followed by any characters"
   ]
  },
  {
   "cell_type": "code",
   "execution_count": 14,
   "id": "1b7386bc",
   "metadata": {},
   "outputs": [
    {
     "data": {
      "text/html": [
       "<table>\n",
       "<tr>\n",
       "<th>title</th>\n",
       "</tr>\n",
       "<tr>\n",
       "<td>The Lord of the Rings: The Return of the King</td>\n",
       "</tr>\n",
       "<tr>\n",
       "<td>The Lion King</td>\n",
       "</tr>\n",
       "<tr>\n",
       "<td>To Kill a Mockingbird</td>\n",
       "</tr>\n",
       "<tr>\n",
       "<td>Lock, Stock and Two Smoking Barrels</td>\n",
       "</tr>\n",
       "</table>\n",
       "4 rows in set (0.00 sec)"
      ],
      "text/plain": [
       "+-----------------------------------------------+\n",
       "| title                                         |\n",
       "+-----------------------------------------------+\n",
       "| The Lord of the Rings: The Return of the King |\n",
       "+-----------------------------------------------+\n",
       "| The Lion King                                 |\n",
       "+-----------------------------------------------+\n",
       "| To Kill a Mockingbird                         |\n",
       "+-----------------------------------------------+\n",
       "| Lock, Stock and Two Smoking Barrels           |\n",
       "+-----------------------------------------------+\n",
       "4 rows in set (0.00 sec)"
      ]
     },
     "execution_count": 14,
     "metadata": {},
     "output_type": "execute_result"
    }
   ],
   "source": [
    "SELECT title\n",
    "  FROM movies\n",
    " WHERE title LIKE '%king%'; -- The Lord of the Rings followed by any characters"
   ]
  },
  {
   "cell_type": "code",
   "execution_count": 21,
   "id": "223b3dca",
   "metadata": {},
   "outputs": [
    {
     "data": {
      "text/html": [
       "<table>\n",
       "<tr>\n",
       "<th>False</th>\n",
       "<th>False</th>\n",
       "<th>False</th>\n",
       "<th>True</th>\n",
       "</tr>\n",
       "<tr>\n",
       "<td>0</td>\n",
       "<td>0</td>\n",
       "<td>0</td>\n",
       "<td>1</td>\n",
       "</tr>\n",
       "</table>\n",
       "1 row in set (0.00 sec)"
      ],
      "text/plain": [
       "+-------+-------+-------+------+\n",
       "| False | False | False | True |\n",
       "+-------+-------+-------+------+\n",
       "| 0     | 0     | 0     | 1    |\n",
       "+-------+-------+-------+------+\n",
       "1 row in set (0.00 sec)"
      ]
     },
     "execution_count": 21,
     "metadata": {},
     "output_type": "execute_result"
    }
   ],
   "source": [
    "SELECT 0 AND 0 AS False,\n",
    "       0 AND 1 AS False,\n",
    "       1 AND 0 AS False,\n",
    "       1 AND 1 AS True;"
   ]
  },
  {
   "cell_type": "code",
   "execution_count": 22,
   "id": "09f112bf",
   "metadata": {},
   "outputs": [
    {
     "data": {
      "text/html": [
       "<table>\n",
       "<tr>\n",
       "<th>condition_1</th>\n",
       "<th>condition_2</th>\n",
       "<th>condtion_1_and_condition_2</th>\n",
       "</tr>\n",
       "<tr>\n",
       "<td>1</td>\n",
       "<td>1</td>\n",
       "<td>1</td>\n",
       "</tr>\n",
       "<tr>\n",
       "<td>0</td>\n",
       "<td>1</td>\n",
       "<td>0</td>\n",
       "</tr>\n",
       "<tr>\n",
       "<td>1</td>\n",
       "<td>1</td>\n",
       "<td>1</td>\n",
       "</tr>\n",
       "<tr>\n",
       "<td>0</td>\n",
       "<td>1</td>\n",
       "<td>0</td>\n",
       "</tr>\n",
       "<tr>\n",
       "<td>0</td>\n",
       "<td>1</td>\n",
       "<td>0</td>\n",
       "</tr>\n",
       "</table>\n",
       "5 rows in set (0.00 sec)"
      ],
      "text/plain": [
       "+-------------+-------------+----------------------------+\n",
       "| condition_1 | condition_2 | condtion_1_and_condition_2 |\n",
       "+-------------+-------------+----------------------------+\n",
       "| 1           | 1           | 1                          |\n",
       "+-------------+-------------+----------------------------+\n",
       "| 0           | 1           | 0                          |\n",
       "+-------------+-------------+----------------------------+\n",
       "| 1           | 1           | 1                          |\n",
       "+-------------+-------------+----------------------------+\n",
       "| 0           | 1           | 0                          |\n",
       "+-------------+-------------+----------------------------+\n",
       "| 0           | 1           | 0                          |\n",
       "+-------------+-------------+----------------------------+\n",
       "5 rows in set (0.00 sec)"
      ]
     },
     "execution_count": 22,
     "metadata": {},
     "output_type": "execute_result"
    }
   ],
   "source": [
    "SELECT release_year >= 1990 AS condition_1,\n",
    "       release_year <= 2010 AS condition_2,\n",
    "       release_year >= 1990 AND release_year <= 2010 AS condtion_1_and_condition_2\n",
    "  FROM movies\n",
    " LIMIT 5;"
   ]
  },
  {
   "cell_type": "code",
   "execution_count": 25,
   "id": "b90b9535",
   "metadata": {},
   "outputs": [
    {
     "data": {
      "text/html": [
       "<table>\n",
       "<tr>\n",
       "<th>release_year</th>\n",
       "<th>release_year BETWEEN 1990 AND 2010</th>\n",
       "</tr>\n",
       "<tr>\n",
       "<td>1994</td>\n",
       "<td>1</td>\n",
       "</tr>\n",
       "<tr>\n",
       "<td>1972</td>\n",
       "<td>0</td>\n",
       "</tr>\n",
       "<tr>\n",
       "<td>2008</td>\n",
       "<td>1</td>\n",
       "</tr>\n",
       "<tr>\n",
       "<td>1974</td>\n",
       "<td>0</td>\n",
       "</tr>\n",
       "<tr>\n",
       "<td>1957</td>\n",
       "<td>0</td>\n",
       "</tr>\n",
       "</table>\n",
       "5 rows in set (0.00 sec)"
      ],
      "text/plain": [
       "+--------------+------------------------------------+\n",
       "| release_year | release_year BETWEEN 1990 AND 2010 |\n",
       "+--------------+------------------------------------+\n",
       "| 1994         | 1                                  |\n",
       "+--------------+------------------------------------+\n",
       "| 1972         | 0                                  |\n",
       "+--------------+------------------------------------+\n",
       "| 2008         | 1                                  |\n",
       "+--------------+------------------------------------+\n",
       "| 1974         | 0                                  |\n",
       "+--------------+------------------------------------+\n",
       "| 1957         | 0                                  |\n",
       "+--------------+------------------------------------+\n",
       "5 rows in set (0.00 sec)"
      ]
     },
     "execution_count": 25,
     "metadata": {},
     "output_type": "execute_result"
    }
   ],
   "source": [
    "SELECT release_year,\n",
    "       release_year BETWEEN 1990 AND 2010\n",
    "  FROM movies\n",
    " LIMIT 5;"
   ]
  },
  {
   "cell_type": "code",
   "execution_count": 26,
   "id": "dcfe678e",
   "metadata": {},
   "outputs": [
    {
     "data": {
      "text/html": [
       "<table>\n",
       "<tr>\n",
       "<th>condition_1</th>\n",
       "<th>condition_2</th>\n",
       "<th>condtion_1_and_condition_2</th>\n",
       "</tr>\n",
       "<tr>\n",
       "<td>1</td>\n",
       "<td>1</td>\n",
       "<td>1</td>\n",
       "</tr>\n",
       "<tr>\n",
       "<td>0</td>\n",
       "<td>1</td>\n",
       "<td>0</td>\n",
       "</tr>\n",
       "<tr>\n",
       "<td>1</td>\n",
       "<td>1</td>\n",
       "<td>1</td>\n",
       "</tr>\n",
       "<tr>\n",
       "<td>0</td>\n",
       "<td>1</td>\n",
       "<td>0</td>\n",
       "</tr>\n",
       "<tr>\n",
       "<td>0</td>\n",
       "<td>1</td>\n",
       "<td>0</td>\n",
       "</tr>\n",
       "</table>\n",
       "5 rows in set (0.00 sec)"
      ],
      "text/plain": [
       "+-------------+-------------+----------------------------+\n",
       "| condition_1 | condition_2 | condtion_1_and_condition_2 |\n",
       "+-------------+-------------+----------------------------+\n",
       "| 1           | 1           | 1                          |\n",
       "+-------------+-------------+----------------------------+\n",
       "| 0           | 1           | 0                          |\n",
       "+-------------+-------------+----------------------------+\n",
       "| 1           | 1           | 1                          |\n",
       "+-------------+-------------+----------------------------+\n",
       "| 0           | 1           | 0                          |\n",
       "+-------------+-------------+----------------------------+\n",
       "| 0           | 1           | 0                          |\n",
       "+-------------+-------------+----------------------------+\n",
       "5 rows in set (0.00 sec)"
      ]
     },
     "execution_count": 26,
     "metadata": {},
     "output_type": "execute_result"
    }
   ],
   "source": [
    "SELECT release_year >= 1990 AS condition_1,\n",
    "       release_year <= 2010 AS condition_2,\n",
    "       release_year BETWEEN 1990 AND 2010 AS condtion_1_and_condition_2\n",
    "  FROM movies\n",
    " LIMIT 5;"
   ]
  },
  {
   "cell_type": "code",
   "execution_count": 27,
   "id": "12c9ff84",
   "metadata": {},
   "outputs": [
    {
     "data": {
      "text/html": [
       "<table>\n",
       "<tr>\n",
       "<th>title</th>\n",
       "<th>release_year</th>\n",
       "</tr>\n",
       "<tr>\n",
       "<td>The Shawshank Redemption</td>\n",
       "<td>1994</td>\n",
       "</tr>\n",
       "<tr>\n",
       "<td>The Dark Knight</td>\n",
       "<td>2008</td>\n",
       "</tr>\n",
       "<tr>\n",
       "<td>Schindler's List</td>\n",
       "<td>1993</td>\n",
       "</tr>\n",
       "<tr>\n",
       "<td>The Lord of the Rings: The Return of the King</td>\n",
       "<td>2003</td>\n",
       "</tr>\n",
       "<tr>\n",
       "<td>Pulp Fiction</td>\n",
       "<td>1994</td>\n",
       "</tr>\n",
       "</table>\n",
       "5 rows in set (0.00 sec)"
      ],
      "text/plain": [
       "+-----------------------------------------------+--------------+\n",
       "| title                                         | release_year |\n",
       "+-----------------------------------------------+--------------+\n",
       "| The Shawshank Redemption                      | 1994         |\n",
       "+-----------------------------------------------+--------------+\n",
       "| The Dark Knight                               | 2008         |\n",
       "+-----------------------------------------------+--------------+\n",
       "| Schindler's List                              | 1993         |\n",
       "+-----------------------------------------------+--------------+\n",
       "| The Lord of the Rings: The Return of the King | 2003         |\n",
       "+-----------------------------------------------+--------------+\n",
       "| Pulp Fiction                                  | 1994         |\n",
       "+-----------------------------------------------+--------------+\n",
       "5 rows in set (0.00 sec)"
      ]
     },
     "execution_count": 27,
     "metadata": {},
     "output_type": "execute_result"
    }
   ],
   "source": [
    "SELECT title,\n",
    "       release_year\n",
    "  FROM movies\n",
    " WHERE release_year BETWEEN 1990 AND 2010\n",
    " LIMIT 5;"
   ]
  },
  {
   "cell_type": "code",
   "execution_count": 28,
   "id": "f80d5906",
   "metadata": {},
   "outputs": [
    {
     "data": {
      "text/html": [
       "<table>\n",
       "<tr>\n",
       "<th>False</th>\n",
       "<th>True</th>\n",
       "<th>True</th>\n",
       "<th>True</th>\n",
       "</tr>\n",
       "<tr>\n",
       "<td>0</td>\n",
       "<td>1</td>\n",
       "<td>1</td>\n",
       "<td>1</td>\n",
       "</tr>\n",
       "</table>\n",
       "1 row in set (0.00 sec)"
      ],
      "text/plain": [
       "+-------+------+------+------+\n",
       "| False | True | True | True |\n",
       "+-------+------+------+------+\n",
       "| 0     | 1    | 1    | 1    |\n",
       "+-------+------+------+------+\n",
       "1 row in set (0.00 sec)"
      ]
     },
     "execution_count": 28,
     "metadata": {},
     "output_type": "execute_result"
    }
   ],
   "source": [
    "SELECT 0 OR 0 AS False,\n",
    "       0 OR 1 AS True,\n",
    "       1 OR 0 AS True,\n",
    "       1 OR 1 AS True;"
   ]
  },
  {
   "cell_type": "code",
   "execution_count": 29,
   "id": "c983b91d",
   "metadata": {},
   "outputs": [
    {
     "data": {
      "text/html": [
       "<table>\n",
       "<tr>\n",
       "<th>condition_1</th>\n",
       "<th>condition_2</th>\n",
       "<th>condtion_1_or_condition_2</th>\n",
       "</tr>\n",
       "<tr>\n",
       "<td>0</td>\n",
       "<td>0</td>\n",
       "<td>0</td>\n",
       "</tr>\n",
       "<tr>\n",
       "<td>0</td>\n",
       "<td>0</td>\n",
       "<td>0</td>\n",
       "</tr>\n",
       "<tr>\n",
       "<td>0</td>\n",
       "<td>1</td>\n",
       "<td>1</td>\n",
       "</tr>\n",
       "<tr>\n",
       "<td>0</td>\n",
       "<td>0</td>\n",
       "<td>0</td>\n",
       "</tr>\n",
       "<tr>\n",
       "<td>0</td>\n",
       "<td>0</td>\n",
       "<td>0</td>\n",
       "</tr>\n",
       "<tr>\n",
       "<td>1</td>\n",
       "<td>0</td>\n",
       "<td>1</td>\n",
       "</tr>\n",
       "<tr>\n",
       "<td>0</td>\n",
       "<td>0</td>\n",
       "<td>0</td>\n",
       "</tr>\n",
       "<tr>\n",
       "<td>0</td>\n",
       "<td>0</td>\n",
       "<td>0</td>\n",
       "</tr>\n",
       "<tr>\n",
       "<td>0</td>\n",
       "<td>0</td>\n",
       "<td>0</td>\n",
       "</tr>\n",
       "<tr>\n",
       "<td>0</td>\n",
       "<td>0</td>\n",
       "<td>0</td>\n",
       "</tr>\n",
       "</table>\n",
       "10 rows in set (0.00 sec)"
      ],
      "text/plain": [
       "+-------------+-------------+---------------------------+\n",
       "| condition_1 | condition_2 | condtion_1_or_condition_2 |\n",
       "+-------------+-------------+---------------------------+\n",
       "| 0           | 0           | 0                         |\n",
       "+-------------+-------------+---------------------------+\n",
       "| 0           | 0           | 0                         |\n",
       "+-------------+-------------+---------------------------+\n",
       "| 0           | 1           | 1                         |\n",
       "+-------------+-------------+---------------------------+\n",
       "| 0           | 0           | 0                         |\n",
       "+-------------+-------------+---------------------------+\n",
       "| 0           | 0           | 0                         |\n",
       "+-------------+-------------+---------------------------+\n",
       "| 1           | 0           | 1                         |\n",
       "+-------------+-------------+---------------------------+\n",
       "| 0           | 0           | 0                         |\n",
       "+-------------+-------------+---------------------------+\n",
       "| 0           | 0           | 0                         |\n",
       "+-------------+-------------+---------------------------+\n",
       "| 0           | 0           | 0                         |\n",
       "+-------------+-------------+---------------------------+\n",
       "| 0           | 0           | 0                         |\n",
       "+-------------+-------------+---------------------------+\n",
       "10 rows in set (0.00 sec)"
      ]
     },
     "execution_count": 29,
     "metadata": {},
     "output_type": "execute_result"
    }
   ],
   "source": [
    "SELECT director = 'Steven Spielberg' AS condition_1,\n",
    "       director = 'Christopher Nolan' AS condition_2,\n",
    "       director = 'Steven Spielberg' OR director = 'Christopher Nolan' AS condtion_1_or_condition_2\n",
    "  FROM movies\n",
    " LIMIT 10;"
   ]
  },
  {
   "cell_type": "code",
   "execution_count": 30,
   "id": "323f9620",
   "metadata": {},
   "outputs": [
    {
     "data": {
      "text/html": [
       "<table>\n",
       "<tr>\n",
       "<th>condition_1</th>\n",
       "<th>condition_2</th>\n",
       "<th>condtion_1_or_condition_2</th>\n",
       "</tr>\n",
       "<tr>\n",
       "<td>0</td>\n",
       "<td>0</td>\n",
       "<td>0</td>\n",
       "</tr>\n",
       "<tr>\n",
       "<td>0</td>\n",
       "<td>0</td>\n",
       "<td>0</td>\n",
       "</tr>\n",
       "<tr>\n",
       "<td>0</td>\n",
       "<td>1</td>\n",
       "<td>1</td>\n",
       "</tr>\n",
       "<tr>\n",
       "<td>0</td>\n",
       "<td>0</td>\n",
       "<td>0</td>\n",
       "</tr>\n",
       "<tr>\n",
       "<td>0</td>\n",
       "<td>0</td>\n",
       "<td>0</td>\n",
       "</tr>\n",
       "<tr>\n",
       "<td>1</td>\n",
       "<td>0</td>\n",
       "<td>1</td>\n",
       "</tr>\n",
       "<tr>\n",
       "<td>0</td>\n",
       "<td>0</td>\n",
       "<td>0</td>\n",
       "</tr>\n",
       "<tr>\n",
       "<td>0</td>\n",
       "<td>0</td>\n",
       "<td>0</td>\n",
       "</tr>\n",
       "<tr>\n",
       "<td>0</td>\n",
       "<td>0</td>\n",
       "<td>0</td>\n",
       "</tr>\n",
       "<tr>\n",
       "<td>0</td>\n",
       "<td>0</td>\n",
       "<td>0</td>\n",
       "</tr>\n",
       "</table>\n",
       "10 rows in set (0.00 sec)"
      ],
      "text/plain": [
       "+-------------+-------------+---------------------------+\n",
       "| condition_1 | condition_2 | condtion_1_or_condition_2 |\n",
       "+-------------+-------------+---------------------------+\n",
       "| 0           | 0           | 0                         |\n",
       "+-------------+-------------+---------------------------+\n",
       "| 0           | 0           | 0                         |\n",
       "+-------------+-------------+---------------------------+\n",
       "| 0           | 1           | 1                         |\n",
       "+-------------+-------------+---------------------------+\n",
       "| 0           | 0           | 0                         |\n",
       "+-------------+-------------+---------------------------+\n",
       "| 0           | 0           | 0                         |\n",
       "+-------------+-------------+---------------------------+\n",
       "| 1           | 0           | 1                         |\n",
       "+-------------+-------------+---------------------------+\n",
       "| 0           | 0           | 0                         |\n",
       "+-------------+-------------+---------------------------+\n",
       "| 0           | 0           | 0                         |\n",
       "+-------------+-------------+---------------------------+\n",
       "| 0           | 0           | 0                         |\n",
       "+-------------+-------------+---------------------------+\n",
       "| 0           | 0           | 0                         |\n",
       "+-------------+-------------+---------------------------+\n",
       "10 rows in set (0.00 sec)"
      ]
     },
     "execution_count": 30,
     "metadata": {},
     "output_type": "execute_result"
    }
   ],
   "source": [
    "SELECT director = 'Steven Spielberg' AS condition_1,\n",
    "       director = 'Christopher Nolan' AS condition_2,\n",
    "       director IN ('Steven Spielberg', 'Christopher Nolan') AS condtion_1_or_condition_2\n",
    "  FROM movies\n",
    " LIMIT 10;"
   ]
  },
  {
   "cell_type": "code",
   "execution_count": 35,
   "id": "26df19ba",
   "metadata": {},
   "outputs": [
    {
     "data": {
      "text/html": [
       "<table>\n",
       "<tr>\n",
       "<th>condition_1</th>\n",
       "<th>condition_2</th>\n",
       "<th>condtion_1_and_condition_2</th>\n",
       "</tr>\n",
       "<tr>\n",
       "<td>0</td>\n",
       "<td>0</td>\n",
       "<td>0</td>\n",
       "</tr>\n",
       "<tr>\n",
       "<td>1</td>\n",
       "<td>0</td>\n",
       "<td>1</td>\n",
       "</tr>\n",
       "<tr>\n",
       "<td>0</td>\n",
       "<td>1</td>\n",
       "<td>1</td>\n",
       "</tr>\n",
       "<tr>\n",
       "<td>1</td>\n",
       "<td>0</td>\n",
       "<td>1</td>\n",
       "</tr>\n",
       "<tr>\n",
       "<td>1</td>\n",
       "<td>0</td>\n",
       "<td>1</td>\n",
       "</tr>\n",
       "</table>\n",
       "5 rows in set (0.00 sec)"
      ],
      "text/plain": [
       "+-------------+-------------+----------------------------+\n",
       "| condition_1 | condition_2 | condtion_1_and_condition_2 |\n",
       "+-------------+-------------+----------------------------+\n",
       "| 0           | 0           | 0                          |\n",
       "+-------------+-------------+----------------------------+\n",
       "| 1           | 0           | 1                          |\n",
       "+-------------+-------------+----------------------------+\n",
       "| 0           | 1           | 1                          |\n",
       "+-------------+-------------+----------------------------+\n",
       "| 1           | 0           | 1                          |\n",
       "+-------------+-------------+----------------------------+\n",
       "| 1           | 0           | 1                          |\n",
       "+-------------+-------------+----------------------------+\n",
       "5 rows in set (0.00 sec)"
      ]
     },
     "execution_count": 35,
     "metadata": {},
     "output_type": "execute_result"
    }
   ],
   "source": [
    "SELECT release_year < 1990 AS condition_1,\n",
    "       release_year > 2000 AS condition_2,\n",
    "       1 IN (release_year< 1990, release_year> 2000) AS condtion_1_and_condition_2\n",
    "  FROM movies\n",
    " LIMIT 5;"
   ]
  },
  {
   "cell_type": "code",
   "execution_count": 36,
   "id": "a25a7877",
   "metadata": {},
   "outputs": [
    {
     "data": {
      "text/html": [
       "<table>\n",
       "<tr>\n",
       "<th>title</th>\n",
       "<th>director</th>\n",
       "</tr>\n",
       "<tr>\n",
       "<td>The Dark Knight</td>\n",
       "<td>Christopher Nolan</td>\n",
       "</tr>\n",
       "<tr>\n",
       "<td>Schindler's List</td>\n",
       "<td>Steven Spielberg</td>\n",
       "</tr>\n",
       "<tr>\n",
       "<td>Inception</td>\n",
       "<td>Christopher Nolan</td>\n",
       "</tr>\n",
       "<tr>\n",
       "<td>Saving Private Ryan</td>\n",
       "<td>Steven Spielberg</td>\n",
       "</tr>\n",
       "<tr>\n",
       "<td>Interstellar</td>\n",
       "<td>Christopher Nolan</td>\n",
       "</tr>\n",
       "</table>\n",
       "5 rows in set (0.00 sec)"
      ],
      "text/plain": [
       "+---------------------+-------------------+\n",
       "| title               | director          |\n",
       "+---------------------+-------------------+\n",
       "| The Dark Knight     | Christopher Nolan |\n",
       "+---------------------+-------------------+\n",
       "| Schindler's List    | Steven Spielberg  |\n",
       "+---------------------+-------------------+\n",
       "| Inception           | Christopher Nolan |\n",
       "+---------------------+-------------------+\n",
       "| Saving Private Ryan | Steven Spielberg  |\n",
       "+---------------------+-------------------+\n",
       "| Interstellar        | Christopher Nolan |\n",
       "+---------------------+-------------------+\n",
       "5 rows in set (0.00 sec)"
      ]
     },
     "execution_count": 36,
     "metadata": {},
     "output_type": "execute_result"
    }
   ],
   "source": [
    "SELECT title,\n",
    "       director\n",
    "  FROM movies\n",
    " WHERE director IN ('Steven Spielberg', 'Christopher Nolan')\n",
    " LIMIT 5;"
   ]
  },
  {
   "cell_type": "code",
   "execution_count": 37,
   "id": "36fd3681",
   "metadata": {},
   "outputs": [
    {
     "data": {
      "text/html": [
       "<table>\n",
       "<tr>\n",
       "<th>False</th>\n",
       "<th>True</th>\n",
       "</tr>\n",
       "<tr>\n",
       "<td>0</td>\n",
       "<td>1</td>\n",
       "</tr>\n",
       "</table>\n",
       "1 row in set (0.00 sec)"
      ],
      "text/plain": [
       "+-------+------+\n",
       "| False | True |\n",
       "+-------+------+\n",
       "| 0     | 1    |\n",
       "+-------+------+\n",
       "1 row in set (0.00 sec)"
      ]
     },
     "execution_count": 37,
     "metadata": {},
     "output_type": "execute_result"
    }
   ],
   "source": [
    "SELECT NOT 1 AS False,\n",
    "       NOT 0 AS True;"
   ]
  },
  {
   "cell_type": "code",
   "execution_count": 38,
   "id": "8ef11869",
   "metadata": {},
   "outputs": [
    {
     "data": {
      "text/html": [
       "<table>\n",
       "<tr>\n",
       "<th>title</th>\n",
       "<th>director</th>\n",
       "</tr>\n",
       "<tr>\n",
       "<td>The Shawshank Redemption</td>\n",
       "<td>Frank Darabont</td>\n",
       "</tr>\n",
       "<tr>\n",
       "<td>The Godfather</td>\n",
       "<td>Francis Ford Coppola</td>\n",
       "</tr>\n",
       "<tr>\n",
       "<td>The Godfather Part II</td>\n",
       "<td>Francis Ford Coppola</td>\n",
       "</tr>\n",
       "<tr>\n",
       "<td>12 Angry Men</td>\n",
       "<td>Sidney Lumet</td>\n",
       "</tr>\n",
       "<tr>\n",
       "<td>The Lord of the Rings: The Return of the King</td>\n",
       "<td>Peter Jackson</td>\n",
       "</tr>\n",
       "</table>\n",
       "5 rows in set (0.00 sec)"
      ],
      "text/plain": [
       "+-----------------------------------------------+----------------------+\n",
       "| title                                         | director             |\n",
       "+-----------------------------------------------+----------------------+\n",
       "| The Shawshank Redemption                      | Frank Darabont       |\n",
       "+-----------------------------------------------+----------------------+\n",
       "| The Godfather                                 | Francis Ford Coppola |\n",
       "+-----------------------------------------------+----------------------+\n",
       "| The Godfather Part II                         | Francis Ford Coppola |\n",
       "+-----------------------------------------------+----------------------+\n",
       "| 12 Angry Men                                  | Sidney Lumet         |\n",
       "+-----------------------------------------------+----------------------+\n",
       "| The Lord of the Rings: The Return of the King | Peter Jackson        |\n",
       "+-----------------------------------------------+----------------------+\n",
       "5 rows in set (0.00 sec)"
      ]
     },
     "execution_count": 38,
     "metadata": {},
     "output_type": "execute_result"
    }
   ],
   "source": [
    "SELECT title,\n",
    "       director\n",
    "  FROM movies\n",
    " WHERE director NOT IN ('Steven Spielberg', 'Christopher Nolan') -- preferred\n",
    " LIMIT 5;"
   ]
  },
  {
   "cell_type": "code",
   "execution_count": 39,
   "id": "ff9ffe82",
   "metadata": {},
   "outputs": [
    {
     "data": {
      "text/html": [
       "<table>\n",
       "<tr>\n",
       "<th>title</th>\n",
       "<th>director</th>\n",
       "</tr>\n",
       "<tr>\n",
       "<td>The Shawshank Redemption</td>\n",
       "<td>Frank Darabont</td>\n",
       "</tr>\n",
       "<tr>\n",
       "<td>The Godfather</td>\n",
       "<td>Francis Ford Coppola</td>\n",
       "</tr>\n",
       "<tr>\n",
       "<td>The Godfather Part II</td>\n",
       "<td>Francis Ford Coppola</td>\n",
       "</tr>\n",
       "<tr>\n",
       "<td>12 Angry Men</td>\n",
       "<td>Sidney Lumet</td>\n",
       "</tr>\n",
       "<tr>\n",
       "<td>The Lord of the Rings: The Return of the King</td>\n",
       "<td>Peter Jackson</td>\n",
       "</tr>\n",
       "</table>\n",
       "5 rows in set (0.00 sec)"
      ],
      "text/plain": [
       "+-----------------------------------------------+----------------------+\n",
       "| title                                         | director             |\n",
       "+-----------------------------------------------+----------------------+\n",
       "| The Shawshank Redemption                      | Frank Darabont       |\n",
       "+-----------------------------------------------+----------------------+\n",
       "| The Godfather                                 | Francis Ford Coppola |\n",
       "+-----------------------------------------------+----------------------+\n",
       "| The Godfather Part II                         | Francis Ford Coppola |\n",
       "+-----------------------------------------------+----------------------+\n",
       "| 12 Angry Men                                  | Sidney Lumet         |\n",
       "+-----------------------------------------------+----------------------+\n",
       "| The Lord of the Rings: The Return of the King | Peter Jackson        |\n",
       "+-----------------------------------------------+----------------------+\n",
       "5 rows in set (0.00 sec)"
      ]
     },
     "execution_count": 39,
     "metadata": {},
     "output_type": "execute_result"
    }
   ],
   "source": [
    "SELECT title,\n",
    "       director\n",
    "  FROM movies\n",
    " WHERE NOT director IN ('Steven Spielberg', 'Christopher Nolan')\n",
    " LIMIT 5;"
   ]
  },
  {
   "cell_type": "code",
   "execution_count": 40,
   "id": "4dac6163",
   "metadata": {},
   "outputs": [
    {
     "data": {
      "text/html": [
       "<table>\n",
       "<tr>\n",
       "<th>null_value</th>\n",
       "<th>null_value</th>\n",
       "<th>True</th>\n",
       "<th>False</th>\n",
       "</tr>\n",
       "<tr>\n",
       "<td>NULL</td>\n",
       "<td>NULL</td>\n",
       "<td>1</td>\n",
       "<td>0</td>\n",
       "</tr>\n",
       "</table>\n",
       "1 row in set (0.00 sec)"
      ],
      "text/plain": [
       "+------------+------------+------+-------+\n",
       "| null_value | null_value | True | False |\n",
       "+------------+------------+------+-------+\n",
       "| NULL       | NULL       | 1    | 0     |\n",
       "+------------+------------+------+-------+\n",
       "1 row in set (0.00 sec)"
      ]
     },
     "execution_count": 40,
     "metadata": {},
     "output_type": "execute_result"
    }
   ],
   "source": [
    "SELECT NULL = NULL AS null_value,\n",
    "       NULL != NULL AS null_value,\n",
    "       NULL IS NULL AS True,\n",
    "       NULL IS NOT NULL AS False;"
   ]
  },
  {
   "cell_type": "code",
   "execution_count": 41,
   "id": "00d7a1c1",
   "metadata": {},
   "outputs": [
    {
     "data": {
      "text/html": [
       "<table>\n",
       "<tr>\n",
       "<th>Province_State</th>\n",
       "<th>Admin2</th>\n",
       "<th>Province_State_equals_to_null</th>\n",
       "<th>Admin2_not_equals_to_null</th>\n",
       "</tr>\n",
       "<tr>\n",
       "<td>NULL</td>\n",
       "<td>NULL</td>\n",
       "<td>NULL</td>\n",
       "<td>NULL</td>\n",
       "</tr>\n",
       "<tr>\n",
       "<td>NULL</td>\n",
       "<td>NULL</td>\n",
       "<td>NULL</td>\n",
       "<td>NULL</td>\n",
       "</tr>\n",
       "<tr>\n",
       "<td>NULL</td>\n",
       "<td>NULL</td>\n",
       "<td>NULL</td>\n",
       "<td>NULL</td>\n",
       "</tr>\n",
       "<tr>\n",
       "<td>NULL</td>\n",
       "<td>NULL</td>\n",
       "<td>NULL</td>\n",
       "<td>NULL</td>\n",
       "</tr>\n",
       "<tr>\n",
       "<td>American Samoa</td>\n",
       "<td>NULL</td>\n",
       "<td>NULL</td>\n",
       "<td>NULL</td>\n",
       "</tr>\n",
       "</table>\n",
       "5 rows in set (0.00 sec)"
      ],
      "text/plain": [
       "+----------------+--------+-------------------------------+---------------------------+\n",
       "| Province_State | Admin2 | Province_State_equals_to_null | Admin2_not_equals_to_null |\n",
       "+----------------+--------+-------------------------------+---------------------------+\n",
       "| NULL           | NULL   | NULL                          | NULL                      |\n",
       "+----------------+--------+-------------------------------+---------------------------+\n",
       "| NULL           | NULL   | NULL                          | NULL                      |\n",
       "+----------------+--------+-------------------------------+---------------------------+\n",
       "| NULL           | NULL   | NULL                          | NULL                      |\n",
       "+----------------+--------+-------------------------------+---------------------------+\n",
       "| NULL           | NULL   | NULL                          | NULL                      |\n",
       "+----------------+--------+-------------------------------+---------------------------+\n",
       "| American Samoa | NULL   | NULL                          | NULL                      |\n",
       "+----------------+--------+-------------------------------+---------------------------+\n",
       "5 rows in set (0.00 sec)"
      ]
     },
     "execution_count": 41,
     "metadata": {},
     "output_type": "execute_result"
    }
   ],
   "source": [
    "SELECT Province_State,\n",
    "       Admin2,\n",
    "       Province_State = NULL AS Province_State_equals_to_null,\n",
    "       Admin2 != NULL AS Admin2_not_equals_to_null\n",
    "  FROM lookup_table\n",
    " LIMIT 5;"
   ]
  },
  {
   "cell_type": "code",
   "execution_count": 42,
   "id": "077ba925",
   "metadata": {},
   "outputs": [
    {
     "data": {
      "text/html": [
       "<table>\n",
       "<tr>\n",
       "<th>Province_State</th>\n",
       "<th>Admin2</th>\n",
       "<th>Province_State_is_null</th>\n",
       "<th>Admin2_is_not_null</th>\n",
       "</tr>\n",
       "<tr>\n",
       "<td>NULL</td>\n",
       "<td>NULL</td>\n",
       "<td>1</td>\n",
       "<td>0</td>\n",
       "</tr>\n",
       "<tr>\n",
       "<td>NULL</td>\n",
       "<td>NULL</td>\n",
       "<td>1</td>\n",
       "<td>0</td>\n",
       "</tr>\n",
       "<tr>\n",
       "<td>NULL</td>\n",
       "<td>NULL</td>\n",
       "<td>1</td>\n",
       "<td>0</td>\n",
       "</tr>\n",
       "<tr>\n",
       "<td>NULL</td>\n",
       "<td>NULL</td>\n",
       "<td>1</td>\n",
       "<td>0</td>\n",
       "</tr>\n",
       "<tr>\n",
       "<td>American Samoa</td>\n",
       "<td>NULL</td>\n",
       "<td>0</td>\n",
       "<td>0</td>\n",
       "</tr>\n",
       "</table>\n",
       "5 rows in set (0.00 sec)"
      ],
      "text/plain": [
       "+----------------+--------+------------------------+--------------------+\n",
       "| Province_State | Admin2 | Province_State_is_null | Admin2_is_not_null |\n",
       "+----------------+--------+------------------------+--------------------+\n",
       "| NULL           | NULL   | 1                      | 0                  |\n",
       "+----------------+--------+------------------------+--------------------+\n",
       "| NULL           | NULL   | 1                      | 0                  |\n",
       "+----------------+--------+------------------------+--------------------+\n",
       "| NULL           | NULL   | 1                      | 0                  |\n",
       "+----------------+--------+------------------------+--------------------+\n",
       "| NULL           | NULL   | 1                      | 0                  |\n",
       "+----------------+--------+------------------------+--------------------+\n",
       "| American Samoa | NULL   | 0                      | 0                  |\n",
       "+----------------+--------+------------------------+--------------------+\n",
       "5 rows in set (0.00 sec)"
      ]
     },
     "execution_count": 42,
     "metadata": {},
     "output_type": "execute_result"
    }
   ],
   "source": [
    "SELECT Province_State,\n",
    "       Admin2,\n",
    "       Province_State IS NULL AS Province_State_is_null,\n",
    "       Admin2 IS NOT NULL AS Admin2_is_not_null\n",
    "  FROM lookup_table\n",
    " LIMIT 5;"
   ]
  },
  {
   "cell_type": "code",
   "execution_count": 44,
   "id": "8d4889bc",
   "metadata": {},
   "outputs": [
    {
     "data": {
      "text/html": [
       "<table>\n",
       "<tr>\n",
       "<th>Admin2_is_not_null</th>\n",
       "</tr>\n",
       "<tr>\n",
       "<td>0</td>\n",
       "</tr>\n",
       "<tr>\n",
       "<td>0</td>\n",
       "</tr>\n",
       "<tr>\n",
       "<td>0</td>\n",
       "</tr>\n",
       "<tr>\n",
       "<td>0</td>\n",
       "</tr>\n",
       "<tr>\n",
       "<td>0</td>\n",
       "</tr>\n",
       "</table>\n",
       "5 rows in set (0.00 sec)"
      ],
      "text/plain": [
       "+--------------------+\n",
       "| Admin2_is_not_null |\n",
       "+--------------------+\n",
       "| 0                  |\n",
       "+--------------------+\n",
       "| 0                  |\n",
       "+--------------------+\n",
       "| 0                  |\n",
       "+--------------------+\n",
       "| 0                  |\n",
       "+--------------------+\n",
       "| 0                  |\n",
       "+--------------------+\n",
       "5 rows in set (0.00 sec)"
      ]
     },
     "execution_count": 44,
     "metadata": {},
     "output_type": "execute_result"
    }
   ],
   "source": [
    "SELECT \n",
    "       NOT Admin2 IS NULL AS Admin2_is_not_null\n",
    "  FROM lookup_table\n",
    " LIMIT 5;"
   ]
  },
  {
   "cell_type": "code",
   "execution_count": 45,
   "id": "64d91241",
   "metadata": {},
   "outputs": [
    {
     "data": {
      "text/html": [
       "<table>\n",
       "<tr>\n",
       "<th>Province_State</th>\n",
       "<th>Admin2</th>\n",
       "</tr>\n",
       "<tr>\n",
       "<td>Sint Eustatius and Saba</td>\n",
       "<td>Bonaire</td>\n",
       "</tr>\n",
       "<tr>\n",
       "<td>Ascension and Tristan da Cunha</td>\n",
       "<td>Saint Helena</td>\n",
       "</tr>\n",
       "<tr>\n",
       "<td>Puerto Rico</td>\n",
       "<td>Adjuntas</td>\n",
       "</tr>\n",
       "<tr>\n",
       "<td>Puerto Rico</td>\n",
       "<td>Aguada</td>\n",
       "</tr>\n",
       "<tr>\n",
       "<td>Puerto Rico</td>\n",
       "<td>Aguadilla</td>\n",
       "</tr>\n",
       "</table>\n",
       "5 rows in set (0.00 sec)"
      ],
      "text/plain": [
       "+--------------------------------+--------------+\n",
       "| Province_State                 | Admin2       |\n",
       "+--------------------------------+--------------+\n",
       "| Sint Eustatius and Saba        | Bonaire      |\n",
       "+--------------------------------+--------------+\n",
       "| Ascension and Tristan da Cunha | Saint Helena |\n",
       "+--------------------------------+--------------+\n",
       "| Puerto Rico                    | Adjuntas     |\n",
       "+--------------------------------+--------------+\n",
       "| Puerto Rico                    | Aguada       |\n",
       "+--------------------------------+--------------+\n",
       "| Puerto Rico                    | Aguadilla    |\n",
       "+--------------------------------+--------------+\n",
       "5 rows in set (0.00 sec)"
      ]
     },
     "execution_count": 45,
     "metadata": {},
     "output_type": "execute_result"
    }
   ],
   "source": [
    "SELECT Province_State,\n",
    "       Admin2\n",
    "  FROM lookup_table\n",
    " WHERE Province_State IS NOT NULL AND\n",
    "       Admin2 IS NOT NULL\n",
    " LIMIT 5;"
   ]
  },
  {
   "cell_type": "markdown",
   "id": "eb840f14",
   "metadata": {},
   "source": [
    "# Exercise"
   ]
  },
  {
   "cell_type": "code",
   "execution_count": 47,
   "id": "35417a92",
   "metadata": {},
   "outputs": [
    {
     "data": {
      "text/html": [
       "<table>\n",
       "<tr>\n",
       "<th>Country_Region</th>\n",
       "<th>Date</th>\n",
       "<th>Confirmed</th>\n",
       "<th>Daily_Cases</th>\n",
       "</tr>\n",
       "<tr>\n",
       "<td>Taiwan</td>\n",
       "<td>2020-01-22</td>\n",
       "<td>1</td>\n",
       "<td>1</td>\n",
       "</tr>\n",
       "<tr>\n",
       "<td>Taiwan</td>\n",
       "<td>2020-01-23</td>\n",
       "<td>1</td>\n",
       "<td>0</td>\n",
       "</tr>\n",
       "<tr>\n",
       "<td>Taiwan</td>\n",
       "<td>2020-01-24</td>\n",
       "<td>3</td>\n",
       "<td>2</td>\n",
       "</tr>\n",
       "<tr>\n",
       "<td>Taiwan</td>\n",
       "<td>2020-01-25</td>\n",
       "<td>3</td>\n",
       "<td>0</td>\n",
       "</tr>\n",
       "<tr>\n",
       "<td>Taiwan</td>\n",
       "<td>2020-01-26</td>\n",
       "<td>4</td>\n",
       "<td>1</td>\n",
       "</tr>\n",
       "</table>\n",
       "5 rows in set (0.00 sec)"
      ],
      "text/plain": [
       "+----------------+------------+-----------+-------------+\n",
       "| Country_Region | Date       | Confirmed | Daily_Cases |\n",
       "+----------------+------------+-----------+-------------+\n",
       "| Taiwan         | 2020-01-22 | 1         | 1           |\n",
       "+----------------+------------+-----------+-------------+\n",
       "| Taiwan         | 2020-01-23 | 1         | 0           |\n",
       "+----------------+------------+-----------+-------------+\n",
       "| Taiwan         | 2020-01-24 | 3         | 2           |\n",
       "+----------------+------------+-----------+-------------+\n",
       "| Taiwan         | 2020-01-25 | 3         | 0           |\n",
       "+----------------+------------+-----------+-------------+\n",
       "| Taiwan         | 2020-01-26 | 4         | 1           |\n",
       "+----------------+------------+-----------+-------------+\n",
       "5 rows in set (0.00 sec)"
      ]
     },
     "execution_count": 47,
     "metadata": {},
     "output_type": "execute_result"
    }
   ],
   "source": [
    "SELECT Country_Region,\n",
    "       Date,\n",
    "       Confirmed,\n",
    "       Daily_Cases\n",
    "  FROM covid19.time_series\n",
    " WHERE Country_Region = 'Taiwan'\n",
    " LIMIT 5;"
   ]
  },
  {
   "cell_type": "code",
   "execution_count": 51,
   "id": "8c6bd48d",
   "metadata": {},
   "outputs": [
    {
     "data": {
      "text/html": [
       "<table>\n",
       "<tr>\n",
       "<th>title</th>\n",
       "<th>rating</th>\n",
       "<th>director</th>\n",
       "<th>runtime</th>\n",
       "</tr>\n",
       "<tr>\n",
       "<td>The Shawshank Redemption</td>\n",
       "<td>9.3</td>\n",
       "<td>Frank Darabont</td>\n",
       "<td>142</td>\n",
       "</tr>\n",
       "<tr>\n",
       "<td>Pulp Fiction</td>\n",
       "<td>8.9</td>\n",
       "<td>Quentin Tarantino</td>\n",
       "<td>154</td>\n",
       "</tr>\n",
       "<tr>\n",
       "<td>Forrest Gump</td>\n",
       "<td>8.8</td>\n",
       "<td>Robert Zemeckis</td>\n",
       "<td>142</td>\n",
       "</tr>\n",
       "<tr>\n",
       "<td>Léon: The Professional</td>\n",
       "<td>8.5</td>\n",
       "<td>Luc Besson</td>\n",
       "<td>110</td>\n",
       "</tr>\n",
       "<tr>\n",
       "<td>The Lion King</td>\n",
       "<td>8.5</td>\n",
       "<td>Roger Allers</td>\n",
       "<td>88</td>\n",
       "</tr>\n",
       "</table>\n",
       "5 rows in set (0.00 sec)"
      ],
      "text/plain": [
       "+--------------------------+--------+-------------------+---------+\n",
       "| title                    | rating | director          | runtime |\n",
       "+--------------------------+--------+-------------------+---------+\n",
       "| The Shawshank Redemption | 9.3    | Frank Darabont    | 142     |\n",
       "+--------------------------+--------+-------------------+---------+\n",
       "| Pulp Fiction             | 8.9    | Quentin Tarantino | 154     |\n",
       "+--------------------------+--------+-------------------+---------+\n",
       "| Forrest Gump             | 8.8    | Robert Zemeckis   | 142     |\n",
       "+--------------------------+--------+-------------------+---------+\n",
       "| Léon: The Professional  | 8.5    | Luc Besson        | 110     |\n",
       "+--------------------------+--------+-------------------+---------+\n",
       "| The Lion King            | 8.5    | Roger Allers      | 88      |\n",
       "+--------------------------+--------+-------------------+---------+\n",
       "5 rows in set (0.00 sec)"
      ]
     },
     "execution_count": 51,
     "metadata": {},
     "output_type": "execute_result"
    }
   ],
   "source": [
    "SELECT title,\n",
    "       rating,\n",
    "       director,\n",
    "       runtime\n",
    "  FROM movies\n",
    " WHERE release_year = 1994;"
   ]
  },
  {
   "cell_type": "code",
   "execution_count": 54,
   "id": "47e4e33a",
   "metadata": {},
   "outputs": [
    {
     "data": {
      "text/html": [
       "<table>\n",
       "<tr>\n",
       "<th>id</th>\n",
       "<th>name</th>\n",
       "</tr>\n",
       "<tr>\n",
       "<td>518</td>\n",
       "<td>Christian Bale</td>\n",
       "</tr>\n",
       "<tr>\n",
       "<td>1860</td>\n",
       "<td>Leonardo DiCaprio</td>\n",
       "</tr>\n",
       "<tr>\n",
       "<td>2957</td>\n",
       "<td>Tom Hanks</td>\n",
       "</tr>\n",
       "</table>\n",
       "3 rows in set (0.00 sec)"
      ],
      "text/plain": [
       "+------+-------------------+\n",
       "| id   | name              |\n",
       "+------+-------------------+\n",
       "| 518  | Christian Bale    |\n",
       "+------+-------------------+\n",
       "| 1860 | Leonardo DiCaprio |\n",
       "+------+-------------------+\n",
       "| 2957 | Tom Hanks         |\n",
       "+------+-------------------+\n",
       "3 rows in set (0.00 sec)"
      ]
     },
     "execution_count": 54,
     "metadata": {},
     "output_type": "execute_result"
    }
   ],
   "source": [
    "SELECT id,\n",
    "       name\n",
    "  FROM actors\n",
    " WHERE name IN ('Tom Hanks', 'Christian Bale', 'Leonardo DiCaprio' );"
   ]
  },
  {
   "cell_type": "code",
   "execution_count": 55,
   "id": "81c5b629",
   "metadata": {},
   "outputs": [
    {
     "data": {
      "text/html": [
       "<table>\n",
       "<tr>\n",
       "<th>id</th>\n",
       "<th>name</th>\n",
       "</tr>\n",
       "<tr>\n",
       "<td>518</td>\n",
       "<td>Christian Bale</td>\n",
       "</tr>\n",
       "<tr>\n",
       "<td>1860</td>\n",
       "<td>Leonardo DiCaprio</td>\n",
       "</tr>\n",
       "<tr>\n",
       "<td>2957</td>\n",
       "<td>Tom Hanks</td>\n",
       "</tr>\n",
       "</table>\n",
       "3 rows in set (0.00 sec)"
      ],
      "text/plain": [
       "+------+-------------------+\n",
       "| id   | name              |\n",
       "+------+-------------------+\n",
       "| 518  | Christian Bale    |\n",
       "+------+-------------------+\n",
       "| 1860 | Leonardo DiCaprio |\n",
       "+------+-------------------+\n",
       "| 2957 | Tom Hanks         |\n",
       "+------+-------------------+\n",
       "3 rows in set (0.00 sec)"
      ]
     },
     "execution_count": 55,
     "metadata": {},
     "output_type": "execute_result"
    }
   ],
   "source": [
    "SELECT *\n",
    "  FROM actors\n",
    " WHERE name IN ('Tom Hanks', 'Christian Bale', 'Leonardo DiCaprio');"
   ]
  },
  {
   "cell_type": "code",
   "execution_count": 57,
   "id": "75ee618f",
   "metadata": {},
   "outputs": [
    {
     "data": {
      "text/html": [
       "<table>\n",
       "<tr>\n",
       "<th>title</th>\n",
       "<th>director</th>\n",
       "</tr>\n",
       "<tr>\n",
       "<td>The Dark Knight</td>\n",
       "<td>Christopher Nolan</td>\n",
       "</tr>\n",
       "<tr>\n",
       "<td>Inception</td>\n",
       "<td>Christopher Nolan</td>\n",
       "</tr>\n",
       "<tr>\n",
       "<td>Interstellar</td>\n",
       "<td>Christopher Nolan</td>\n",
       "</tr>\n",
       "<tr>\n",
       "<td>The Prestige</td>\n",
       "<td>Christopher Nolan</td>\n",
       "</tr>\n",
       "<tr>\n",
       "<td>Memento</td>\n",
       "<td>Christopher Nolan</td>\n",
       "</tr>\n",
       "<tr>\n",
       "<td>The Dark Knight Rises</td>\n",
       "<td>Christopher Nolan</td>\n",
       "</tr>\n",
       "<tr>\n",
       "<td>Batman Begins</td>\n",
       "<td>Christopher Nolan</td>\n",
       "</tr>\n",
       "<tr>\n",
       "<td>The Lord of the Rings: The Return of the King</td>\n",
       "<td>Peter Jackson</td>\n",
       "</tr>\n",
       "<tr>\n",
       "<td>The Lord of the Rings: The Fellowship of the Ring</td>\n",
       "<td>Peter Jackson</td>\n",
       "</tr>\n",
       "<tr>\n",
       "<td>The Lord of the Rings: The Two Towers</td>\n",
       "<td>Peter Jackson</td>\n",
       "</tr>\n",
       "</table>\n",
       "10 rows in set (0.00 sec)"
      ],
      "text/plain": [
       "+---------------------------------------------------+-------------------+\n",
       "| title                                             | director          |\n",
       "+---------------------------------------------------+-------------------+\n",
       "| The Dark Knight                                   | Christopher Nolan |\n",
       "+---------------------------------------------------+-------------------+\n",
       "| Inception                                         | Christopher Nolan |\n",
       "+---------------------------------------------------+-------------------+\n",
       "| Interstellar                                      | Christopher Nolan |\n",
       "+---------------------------------------------------+-------------------+\n",
       "| The Prestige                                      | Christopher Nolan |\n",
       "+---------------------------------------------------+-------------------+\n",
       "| Memento                                           | Christopher Nolan |\n",
       "+---------------------------------------------------+-------------------+\n",
       "| The Dark Knight Rises                             | Christopher Nolan |\n",
       "+---------------------------------------------------+-------------------+\n",
       "| Batman Begins                                     | Christopher Nolan |\n",
       "+---------------------------------------------------+-------------------+\n",
       "| The Lord of the Rings: The Return of the King     | Peter Jackson     |\n",
       "+---------------------------------------------------+-------------------+\n",
       "| The Lord of the Rings: The Fellowship of the Ring | Peter Jackson     |\n",
       "+---------------------------------------------------+-------------------+\n",
       "| The Lord of the Rings: The Two Towers             | Peter Jackson     |\n",
       "+---------------------------------------------------+-------------------+\n",
       "10 rows in set (0.00 sec)"
      ]
     },
     "execution_count": 57,
     "metadata": {},
     "output_type": "execute_result"
    }
   ],
   "source": [
    "SELECT title,\n",
    "       director\n",
    "  FROM movies\n",
    " WHERE director in ('Christopher Nolan', 'Peter Jackson')\n",
    " ORDER BY director;"
   ]
  },
  {
   "cell_type": "code",
   "execution_count": 59,
   "id": "dcee6999",
   "metadata": {},
   "outputs": [
    {
     "data": {
      "text/html": [
       "<table>\n",
       "<tr>\n",
       "<th>Country_Region</th>\n",
       "</tr>\n",
       "<tr>\n",
       "<td>Solomon Islands</td>\n",
       "</tr>\n",
       "<tr>\n",
       "<td>New Zealand</td>\n",
       "</tr>\n",
       "<tr>\n",
       "<td>Finland</td>\n",
       "</tr>\n",
       "<tr>\n",
       "<td>Iceland</td>\n",
       "</tr>\n",
       "<tr>\n",
       "<td>Ireland</td>\n",
       "</tr>\n",
       "<tr>\n",
       "<td>Netherlands</td>\n",
       "</tr>\n",
       "<tr>\n",
       "<td>Marshall Islands</td>\n",
       "</tr>\n",
       "<tr>\n",
       "<td>Poland</td>\n",
       "</tr>\n",
       "<tr>\n",
       "<td>Switzerland</td>\n",
       "</tr>\n",
       "<tr>\n",
       "<td>Thailand</td>\n",
       "</tr>\n",
       "</table>\n",
       "10 rows in set (0.00 sec)"
      ],
      "text/plain": [
       "+------------------+\n",
       "| Country_Region   |\n",
       "+------------------+\n",
       "| Solomon Islands  |\n",
       "+------------------+\n",
       "| New Zealand      |\n",
       "+------------------+\n",
       "| Finland          |\n",
       "+------------------+\n",
       "| Iceland          |\n",
       "+------------------+\n",
       "| Ireland          |\n",
       "+------------------+\n",
       "| Netherlands      |\n",
       "+------------------+\n",
       "| Marshall Islands |\n",
       "+------------------+\n",
       "| Poland           |\n",
       "+------------------+\n",
       "| Switzerland      |\n",
       "+------------------+\n",
       "| Thailand         |\n",
       "+------------------+\n",
       "10 rows in set (0.00 sec)"
      ]
     },
     "execution_count": 59,
     "metadata": {},
     "output_type": "execute_result"
    }
   ],
   "source": [
    "SELECT DISTINCT Country_Region\n",
    "  FROM covid19.lookup_table \n",
    " WHERE Country_Region LIKE '%land%';"
   ]
  }
 ],
 "metadata": {
  "kernelspec": {
   "display_name": "xsql",
   "language": "sqlite",
   "name": "xsql"
  },
  "language_info": {
   "codemirror_mode": "sql",
   "file_extension": "",
   "mimetype": "",
   "name": "mysql",
   "version": "0.2.1"
  }
 },
 "nbformat": 4,
 "nbformat_minor": 5
}
