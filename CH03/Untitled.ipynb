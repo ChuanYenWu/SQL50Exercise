{
 "cells": [
  {
   "cell_type": "code",
   "execution_count": 2,
   "id": "5cb356e7",
   "metadata": {},
   "outputs": [],
   "source": [
    "%LOAD sqlite3 db=../databases/imdb.db timeout=2 shared_cache=true"
   ]
  },
  {
   "cell_type": "code",
   "execution_count": 3,
   "id": "07aabece",
   "metadata": {},
   "outputs": [
    {
     "data": {
      "text/html": [
       "<table>\n",
       "<tr>\n",
       "<th>id</th>\n",
       "<th>name</th>\n",
       "</tr>\n",
       "<tr>\n",
       "<td>1</td>\n",
       "<td>Aamir Khan</td>\n",
       "</tr>\n",
       "<tr>\n",
       "<td>2</td>\n",
       "<td>Aaron Eckhart</td>\n",
       "</tr>\n",
       "<tr>\n",
       "<td>3</td>\n",
       "<td>Aaron Lazar</td>\n",
       "</tr>\n",
       "<tr>\n",
       "<td>4</td>\n",
       "<td>Abbas-Ali Roomandi</td>\n",
       "</tr>\n",
       "<tr>\n",
       "<td>5</td>\n",
       "<td>Abbey Lee</td>\n",
       "</tr>\n",
       "</table>\n",
       "5 rows in set (0.00 sec)"
      ],
      "text/plain": [
       "+----+--------------------+\n",
       "| id | name               |\n",
       "+----+--------------------+\n",
       "| 1  | Aamir Khan         |\n",
       "+----+--------------------+\n",
       "| 2  | Aaron Eckhart      |\n",
       "+----+--------------------+\n",
       "| 3  | Aaron Lazar        |\n",
       "+----+--------------------+\n",
       "| 4  | Abbas-Ali Roomandi |\n",
       "+----+--------------------+\n",
       "| 5  | Abbey Lee          |\n",
       "+----+--------------------+\n",
       "5 rows in set (0.00 sec)"
      ]
     },
     "execution_count": 3,
     "metadata": {},
     "output_type": "execute_result"
    }
   ],
   "source": [
    "SELECT *\n",
    "  FROM actors\n",
    " LIMIT 5;"
   ]
  },
  {
   "cell_type": "code",
   "execution_count": 4,
   "id": "b50afd06",
   "metadata": {},
   "outputs": [],
   "source": [
    "--comment\n",
    "SELECT *\n",
    "  FROM actors\n",
    " LIMIT 5;"
   ]
  },
  {
   "cell_type": "code",
   "execution_count": null,
   "id": "3fc74a54",
   "metadata": {},
   "outputs": [],
   "source": []
  }
 ],
 "metadata": {
  "kernelspec": {
   "display_name": "xsql",
   "language": "sqlite",
   "name": "xsql"
  },
  "language_info": {
   "codemirror_mode": "sql",
   "file_extension": "",
   "mimetype": "",
   "name": "mysql",
   "version": "0.2.1"
  }
 },
 "nbformat": 4,
 "nbformat_minor": 5
}
