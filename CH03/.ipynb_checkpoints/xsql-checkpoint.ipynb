{
 "cells": [
  {
   "cell_type": "markdown",
   "id": "24f3f098",
   "metadata": {},
   "source": [
    "在 Jupyter notebook 中使用 xeus-sql 時，每個 cell 只能執行一條 SQL 語句。如果你想要在同一個 cell 中執行多條 SQL 語句，你需要將這些語句包裹在一個 BEGIN/COMMIT 區塊中，像這樣："
   ]
  },
  {
   "cell_type": "code",
   "execution_count": null,
   "id": "5a04531e",
   "metadata": {},
   "outputs": [],
   "source": [
    "BEGIN;\n",
    "-- 你的第一條語句\n",
    "SELECT * FROM movies LIMIT 5;\n",
    "-- 你的第二條語句\n",
    "SELECT * FROM actors LIMIT 5;\n",
    "COMMIT;\n"
   ]
  },
  {
   "cell_type": "code",
   "execution_count": 1,
   "id": "10a91173",
   "metadata": {},
   "outputs": [],
   "source": [
    "%LOAD sqlite3 db=../databases/imdb.db timeout=2 shared_cache=true"
   ]
  },
  {
   "cell_type": "code",
   "execution_count": 48,
   "id": "b70e8750",
   "metadata": {},
   "outputs": [],
   "source": [
    "ATTACH \"../databases/nba.db\" AS nba;"
   ]
  },
  {
   "cell_type": "code",
   "execution_count": 49,
   "id": "1c5d8466",
   "metadata": {},
   "outputs": [],
   "source": [
    "ATTACH \"../databases/twElection2020.db\" AS twElection2020;"
   ]
  },
  {
   "cell_type": "code",
   "execution_count": 50,
   "id": "5cae13e9",
   "metadata": {},
   "outputs": [],
   "source": [
    "ATTACH \"../databases/covid19.db\" AS covid19;"
   ]
  },
  {
   "cell_type": "code",
   "execution_count": 2,
   "id": "c30c10b8",
   "metadata": {},
   "outputs": [
    {
     "data": {
      "text/html": [
       "<table>\n",
       "<tr>\n",
       "<th>'Hello, World!'</th>\n",
       "</tr>\n",
       "<tr>\n",
       "<td>Hello, World!</td>\n",
       "</tr>\n",
       "</table>\n",
       "1 row in set (0.00 sec)"
      ],
      "text/plain": [
       "+-----------------+\n",
       "| 'Hello, World!' |\n",
       "+-----------------+\n",
       "| Hello, World!   |\n",
       "+-----------------+\n",
       "1 row in set (0.00 sec)"
      ]
     },
     "execution_count": 2,
     "metadata": {},
     "output_type": "execute_result"
    }
   ],
   "source": [
    "SELECT 'Hello, World!';"
   ]
  },
  {
   "cell_type": "code",
   "execution_count": 3,
   "id": "645d1ee9",
   "metadata": {},
   "outputs": [
    {
     "data": {
      "text/html": [
       "<table>\n",
       "<tr>\n",
       "<th>id</th>\n",
       "<th>name</th>\n",
       "</tr>\n",
       "<tr>\n",
       "<td>1</td>\n",
       "<td>Aamir Khan</td>\n",
       "</tr>\n",
       "<tr>\n",
       "<td>2</td>\n",
       "<td>Aaron Eckhart</td>\n",
       "</tr>\n",
       "<tr>\n",
       "<td>3</td>\n",
       "<td>Aaron Lazar</td>\n",
       "</tr>\n",
       "<tr>\n",
       "<td>4</td>\n",
       "<td>Abbas-Ali Roomandi</td>\n",
       "</tr>\n",
       "<tr>\n",
       "<td>5</td>\n",
       "<td>Abbey Lee</td>\n",
       "</tr>\n",
       "</table>\n",
       "5 rows in set (0.00 sec)"
      ],
      "text/plain": [
       "+----+--------------------+\n",
       "| id | name               |\n",
       "+----+--------------------+\n",
       "| 1  | Aamir Khan         |\n",
       "+----+--------------------+\n",
       "| 2  | Aaron Eckhart      |\n",
       "+----+--------------------+\n",
       "| 3  | Aaron Lazar        |\n",
       "+----+--------------------+\n",
       "| 4  | Abbas-Ali Roomandi |\n",
       "+----+--------------------+\n",
       "| 5  | Abbey Lee          |\n",
       "+----+--------------------+\n",
       "5 rows in set (0.00 sec)"
      ]
     },
     "execution_count": 3,
     "metadata": {},
     "output_type": "execute_result"
    }
   ],
   "source": [
    "SELECT *\n",
    "  FROM actors\n",
    " LIMIT 5;"
   ]
  },
  {
   "cell_type": "code",
   "execution_count": 4,
   "id": "0ca9f088",
   "metadata": {},
   "outputs": [
    {
     "data": {
      "text/html": [
       "<table>\n",
       "<tr>\n",
       "<th>cid</th>\n",
       "<th>name</th>\n",
       "<th>type</th>\n",
       "<th>notnull</th>\n",
       "<th>dflt_value</th>\n",
       "<th>pk</th>\n",
       "</tr>\n",
       "<tr>\n",
       "<td>0</td>\n",
       "<td>id</td>\n",
       "<td>INTEGER</td>\n",
       "<td>0</td>\n",
       "<td>NULL</td>\n",
       "<td>1</td>\n",
       "</tr>\n",
       "<tr>\n",
       "<td>1</td>\n",
       "<td>name</td>\n",
       "<td>TEXT</td>\n",
       "<td>0</td>\n",
       "<td>NULL</td>\n",
       "<td>0</td>\n",
       "</tr>\n",
       "</table>\n",
       "2 rows in set (0.00 sec)"
      ],
      "text/plain": [
       "+-----+------+---------+---------+------------+----+\n",
       "| cid | name | type    | notnull | dflt_value | pk |\n",
       "+-----+------+---------+---------+------------+----+\n",
       "| 0   | id   | INTEGER | 0       | NULL       | 1  |\n",
       "+-----+------+---------+---------+------------+----+\n",
       "| 1   | name | TEXT    | 0       | NULL       | 0  |\n",
       "+-----+------+---------+---------+------------+----+\n",
       "2 rows in set (0.00 sec)"
      ]
     },
     "execution_count": 4,
     "metadata": {},
     "output_type": "execute_result"
    }
   ],
   "source": [
    "SELECT *\n",
    "  FROM PRAGMA_TABLE_INFO('actors');"
   ]
  },
  {
   "cell_type": "code",
   "execution_count": 5,
   "id": "f2740c31",
   "metadata": {},
   "outputs": [
    {
     "data": {
      "text/html": [
       "<table>\n",
       "<tr>\n",
       "<th>5566</th>\n",
       "<th>TYPEOF(5566)</th>\n",
       "</tr>\n",
       "<tr>\n",
       "<td>5566</td>\n",
       "<td>integer</td>\n",
       "</tr>\n",
       "</table>\n",
       "1 row in set (0.00 sec)"
      ],
      "text/plain": [
       "+------+--------------+\n",
       "| 5566 | TYPEOF(5566) |\n",
       "+------+--------------+\n",
       "| 5566 | integer      |\n",
       "+------+--------------+\n",
       "1 row in set (0.00 sec)"
      ]
     },
     "execution_count": 5,
     "metadata": {},
     "output_type": "execute_result"
    }
   ],
   "source": [
    "SELECT 5566,\n",
    "       TYPEOF(5566);"
   ]
  },
  {
   "cell_type": "code",
   "execution_count": 6,
   "id": "96c793fa",
   "metadata": {},
   "outputs": [
    {
     "data": {
      "text/html": [
       "<table>\n",
       "<tr>\n",
       "<th>2.718</th>\n",
       "<th>TYPEOF(2.718)</th>\n",
       "</tr>\n",
       "<tr>\n",
       "<td>2.718</td>\n",
       "<td>real</td>\n",
       "</tr>\n",
       "</table>\n",
       "1 row in set (0.00 sec)"
      ],
      "text/plain": [
       "+-------+---------------+\n",
       "| 2.718 | TYPEOF(2.718) |\n",
       "+-------+---------------+\n",
       "| 2.718 | real          |\n",
       "+-------+---------------+\n",
       "1 row in set (0.00 sec)"
      ]
     },
     "execution_count": 6,
     "metadata": {},
     "output_type": "execute_result"
    }
   ],
   "source": [
    "SELECT 2.718,\n",
    "       TYPEOF(2.718);"
   ]
  },
  {
   "cell_type": "code",
   "execution_count": 7,
   "id": "b3445073",
   "metadata": {},
   "outputs": [
    {
     "data": {
      "text/html": [
       "<table>\n",
       "<tr>\n",
       "<th>'Hello, World!'</th>\n",
       "<th>TYPEOF('Hello, World!')</th>\n",
       "</tr>\n",
       "<tr>\n",
       "<td>Hello, World!</td>\n",
       "<td>text</td>\n",
       "</tr>\n",
       "</table>\n",
       "1 row in set (0.00 sec)"
      ],
      "text/plain": [
       "+-----------------+-------------------------+\n",
       "| 'Hello, World!' | TYPEOF('Hello, World!') |\n",
       "+-----------------+-------------------------+\n",
       "| Hello, World!   | text                    |\n",
       "+-----------------+-------------------------+\n",
       "1 row in set (0.00 sec)"
      ]
     },
     "execution_count": 7,
     "metadata": {},
     "output_type": "execute_result"
    }
   ],
   "source": [
    "SELECT 'Hello, World!',\n",
    "       TYPEOF('Hello, World!');"
   ]
  },
  {
   "cell_type": "code",
   "execution_count": 10,
   "id": "eae0b3a6",
   "metadata": {},
   "outputs": [
    {
     "data": {
      "text/html": [
       "<table>\n",
       "<tr>\n",
       "<th>NULL</th>\n",
       "<th>TYPEOF(NULL)</th>\n",
       "</tr>\n",
       "<tr>\n",
       "<td>NULL</td>\n",
       "<td>null</td>\n",
       "</tr>\n",
       "</table>\n",
       "1 row in set (0.00 sec)"
      ],
      "text/plain": [
       "+------+--------------+\n",
       "| NULL | TYPEOF(NULL) |\n",
       "+------+--------------+\n",
       "| NULL | null         |\n",
       "+------+--------------+\n",
       "1 row in set (0.00 sec)"
      ]
     },
     "execution_count": 10,
     "metadata": {},
     "output_type": "execute_result"
    }
   ],
   "source": [
    "SELECT NULL,\n",
    "       TYPEOF(NULL);"
   ]
  },
  {
   "cell_type": "code",
   "execution_count": 27,
   "id": "c04922fc",
   "metadata": {},
   "outputs": [
    {
     "data": {
      "text/html": [
       "<table>\n",
       "<tr>\n",
       "<th>id</th>\n",
       "<th>title</th>\n",
       "<th>release_year</th>\n",
       "<th>rating</th>\n",
       "<th>director</th>\n",
       "<th>runtime</th>\n",
       "</tr>\n",
       "<tr>\n",
       "<td>1</td>\n",
       "<td>The Shawshank Redemption</td>\n",
       "<td>1994</td>\n",
       "<td>9.3</td>\n",
       "<td>Frank Darabont</td>\n",
       "<td>142</td>\n",
       "</tr>\n",
       "</table>\n",
       "1 row in set (0.00 sec)"
      ],
      "text/plain": [
       "+----+--------------------------+--------------+--------+----------------+---------+\n",
       "| id | title                    | release_year | rating | director       | runtime |\n",
       "+----+--------------------------+--------------+--------+----------------+---------+\n",
       "| 1  | The Shawshank Redemption | 1994         | 9.3    | Frank Darabont | 142     |\n",
       "+----+--------------------------+--------------+--------+----------------+---------+\n",
       "1 row in set (0.00 sec)"
      ]
     },
     "execution_count": 27,
     "metadata": {},
     "output_type": "execute_result"
    }
   ],
   "source": [
    "SELECT *\n",
    "  FROM movies   -- end of line comment\n",
    " LIMIT 1; \n",
    " \n",
    " -- single line comment\n",
    " \n",
    " /*\n",
    "multiple-line comments...\n",
    "multiple-line comments...\n",
    "multiple-line comments...\n",
    "*/"
   ]
  },
  {
   "cell_type": "markdown",
   "id": "6d57159d",
   "metadata": {},
   "source": [
    "https://github.com/jupyter-xeus/xeus-sql/issues/63 <br>\n",
    "官網有解決postgres 的問題的樣子\n",
    "不過不知道是否修改部分與sqlite無關，所以sqlite部分沒變? <br>\n",
    "postgres是linux系統的(至少conda中套件只有linux和Mac)，因此可能核心部分不同。"
   ]
  },
  {
   "cell_type": "code",
   "execution_count": 28,
   "id": "873f08c1",
   "metadata": {},
   "outputs": [],
   "source": [
    "  --  comment 放在上方好像會使結果不顯示?原因不明\n",
    "SELECT *\n",
    "  FROM movies \n",
    " LIMIT 5; "
   ]
  },
  {
   "cell_type": "code",
   "execution_count": 59,
   "id": "2366b094",
   "metadata": {},
   "outputs": [
    {
     "data": {
      "text/html": [
       "<table>\n",
       "<tr>\n",
       "<th>COUNT(*)</th>\n",
       "</tr>\n",
       "<tr>\n",
       "<td>250</td>\n",
       "</tr>\n",
       "</table>\n",
       "1 row in set (0.00 sec)"
      ],
      "text/plain": [
       "+----------+\n",
       "| COUNT(*) |\n",
       "+----------+\n",
       "| 250      |\n",
       "+----------+\n",
       "1 row in set (0.00 sec)"
      ]
     },
     "execution_count": 59,
     "metadata": {},
     "output_type": "execute_result"
    }
   ],
   "source": [
    "SELECT COUNT(*) FROM movies;"
   ]
  },
  {
   "cell_type": "code",
   "execution_count": 60,
   "id": "943d27b8",
   "metadata": {},
   "outputs": [],
   "source": [
    " --  comment 放在上方好像會使結果不顯示?原因不明\n",
    " SELECT COUNT(*) FROM movies;"
   ]
  },
  {
   "cell_type": "code",
   "execution_count": 29,
   "id": "f4a7f212",
   "metadata": {},
   "outputs": [
    {
     "data": {
      "text/html": [
       "<table>\n",
       "<tr>\n",
       "<th>id</th>\n",
       "<th>title</th>\n",
       "<th>release_year</th>\n",
       "<th>rating</th>\n",
       "<th>director</th>\n",
       "<th>runtime</th>\n",
       "</tr>\n",
       "<tr>\n",
       "<td>1</td>\n",
       "<td>The Shawshank Redemption</td>\n",
       "<td>1994</td>\n",
       "<td>9.3</td>\n",
       "<td>Frank Darabont</td>\n",
       "<td>142</td>\n",
       "</tr>\n",
       "<tr>\n",
       "<td>2</td>\n",
       "<td>The Godfather</td>\n",
       "<td>1972</td>\n",
       "<td>9.2</td>\n",
       "<td>Francis Ford Coppola</td>\n",
       "<td>175</td>\n",
       "</tr>\n",
       "<tr>\n",
       "<td>3</td>\n",
       "<td>The Dark Knight</td>\n",
       "<td>2008</td>\n",
       "<td>9</td>\n",
       "<td>Christopher Nolan</td>\n",
       "<td>152</td>\n",
       "</tr>\n",
       "</table>\n",
       "3 rows in set (0.00 sec)"
      ],
      "text/plain": [
       "+----+--------------------------+--------------+--------+----------------------+---------+\n",
       "| id | title                    | release_year | rating | director             | runtime |\n",
       "+----+--------------------------+--------------+--------+----------------------+---------+\n",
       "| 1  | The Shawshank Redemption | 1994         | 9.3    | Frank Darabont       | 142     |\n",
       "+----+--------------------------+--------------+--------+----------------------+---------+\n",
       "| 2  | The Godfather            | 1972         | 9.2    | Francis Ford Coppola | 175     |\n",
       "+----+--------------------------+--------------+--------+----------------------+---------+\n",
       "| 3  | The Dark Knight          | 2008         | 9      | Christopher Nolan    | 152     |\n",
       "+----+--------------------------+--------------+--------+----------------------+---------+\n",
       "3 rows in set (0.00 sec)"
      ]
     },
     "execution_count": 29,
     "metadata": {},
     "output_type": "execute_result"
    }
   ],
   "source": [
    "SELECT *\n",
    "  FROM movies\n",
    " LIMIT 3;"
   ]
  },
  {
   "cell_type": "code",
   "execution_count": 30,
   "id": "78dece5c",
   "metadata": {},
   "outputs": [
    {
     "data": {
      "text/html": [
       "<table>\n",
       "<tr>\n",
       "<th>id</th>\n",
       "<th>title</th>\n",
       "<th>release_year</th>\n",
       "<th>rating</th>\n",
       "<th>director</th>\n",
       "<th>runtime</th>\n",
       "</tr>\n",
       "<tr>\n",
       "<td>1</td>\n",
       "<td>The Shawshank Redemption</td>\n",
       "<td>1994</td>\n",
       "<td>9.3</td>\n",
       "<td>Frank Darabont</td>\n",
       "<td>142</td>\n",
       "</tr>\n",
       "<tr>\n",
       "<td>2</td>\n",
       "<td>The Godfather</td>\n",
       "<td>1972</td>\n",
       "<td>9.2</td>\n",
       "<td>Francis Ford Coppola</td>\n",
       "<td>175</td>\n",
       "</tr>\n",
       "<tr>\n",
       "<td>3</td>\n",
       "<td>The Dark Knight</td>\n",
       "<td>2008</td>\n",
       "<td>9</td>\n",
       "<td>Christopher Nolan</td>\n",
       "<td>152</td>\n",
       "</tr>\n",
       "<tr>\n",
       "<td>4</td>\n",
       "<td>The Godfather Part II</td>\n",
       "<td>1974</td>\n",
       "<td>9</td>\n",
       "<td>Francis Ford Coppola</td>\n",
       "<td>202</td>\n",
       "</tr>\n",
       "<tr>\n",
       "<td>5</td>\n",
       "<td>12 Angry Men</td>\n",
       "<td>1957</td>\n",
       "<td>9</td>\n",
       "<td>Sidney Lumet</td>\n",
       "<td>96</td>\n",
       "</tr>\n",
       "</table>\n",
       "5 rows in set (0.00 sec)"
      ],
      "text/plain": [
       "+----+--------------------------+--------------+--------+----------------------+---------+\n",
       "| id | title                    | release_year | rating | director             | runtime |\n",
       "+----+--------------------------+--------------+--------+----------------------+---------+\n",
       "| 1  | The Shawshank Redemption | 1994         | 9.3    | Frank Darabont       | 142     |\n",
       "+----+--------------------------+--------------+--------+----------------------+---------+\n",
       "| 2  | The Godfather            | 1972         | 9.2    | Francis Ford Coppola | 175     |\n",
       "+----+--------------------------+--------------+--------+----------------------+---------+\n",
       "| 3  | The Dark Knight          | 2008         | 9      | Christopher Nolan    | 152     |\n",
       "+----+--------------------------+--------------+--------+----------------------+---------+\n",
       "| 4  | The Godfather Part II    | 1974         | 9      | Francis Ford Coppola | 202     |\n",
       "+----+--------------------------+--------------+--------+----------------------+---------+\n",
       "| 5  | 12 Angry Men             | 1957         | 9      | Sidney Lumet         | 96      |\n",
       "+----+--------------------------+--------------+--------+----------------------+---------+\n",
       "5 rows in set (0.00 sec)"
      ]
     },
     "execution_count": 30,
     "metadata": {},
     "output_type": "execute_result"
    }
   ],
   "source": [
    "SELECT *\n",
    "  FROM movies\n",
    " LIMIT 5;"
   ]
  },
  {
   "cell_type": "code",
   "execution_count": 31,
   "id": "f67a970d",
   "metadata": {},
   "outputs": [
    {
     "data": {
      "text/html": [
       "<table>\n",
       "<tr>\n",
       "<th>title</th>\n",
       "</tr>\n",
       "<tr>\n",
       "<td>The Shawshank Redemption</td>\n",
       "</tr>\n",
       "<tr>\n",
       "<td>The Godfather</td>\n",
       "</tr>\n",
       "<tr>\n",
       "<td>The Dark Knight</td>\n",
       "</tr>\n",
       "<tr>\n",
       "<td>The Godfather Part II</td>\n",
       "</tr>\n",
       "<tr>\n",
       "<td>12 Angry Men</td>\n",
       "</tr>\n",
       "</table>\n",
       "5 rows in set (0.00 sec)"
      ],
      "text/plain": [
       "+--------------------------+\n",
       "| title                    |\n",
       "+--------------------------+\n",
       "| The Shawshank Redemption |\n",
       "+--------------------------+\n",
       "| The Godfather            |\n",
       "+--------------------------+\n",
       "| The Dark Knight          |\n",
       "+--------------------------+\n",
       "| The Godfather Part II    |\n",
       "+--------------------------+\n",
       "| 12 Angry Men             |\n",
       "+--------------------------+\n",
       "5 rows in set (0.00 sec)"
      ]
     },
     "execution_count": 31,
     "metadata": {},
     "output_type": "execute_result"
    }
   ],
   "source": [
    "SELECT title\n",
    "  FROM movies\n",
    " LIMIT 5;"
   ]
  },
  {
   "cell_type": "code",
   "execution_count": 32,
   "id": "5a007854",
   "metadata": {},
   "outputs": [
    {
     "data": {
      "text/html": [
       "<table>\n",
       "<tr>\n",
       "<th>title</th>\n",
       "<th>release_year</th>\n",
       "<th>director</th>\n",
       "</tr>\n",
       "<tr>\n",
       "<td>The Shawshank Redemption</td>\n",
       "<td>1994</td>\n",
       "<td>Frank Darabont</td>\n",
       "</tr>\n",
       "<tr>\n",
       "<td>The Godfather</td>\n",
       "<td>1972</td>\n",
       "<td>Francis Ford Coppola</td>\n",
       "</tr>\n",
       "<tr>\n",
       "<td>The Dark Knight</td>\n",
       "<td>2008</td>\n",
       "<td>Christopher Nolan</td>\n",
       "</tr>\n",
       "<tr>\n",
       "<td>The Godfather Part II</td>\n",
       "<td>1974</td>\n",
       "<td>Francis Ford Coppola</td>\n",
       "</tr>\n",
       "<tr>\n",
       "<td>12 Angry Men</td>\n",
       "<td>1957</td>\n",
       "<td>Sidney Lumet</td>\n",
       "</tr>\n",
       "</table>\n",
       "5 rows in set (0.00 sec)"
      ],
      "text/plain": [
       "+--------------------------+--------------+----------------------+\n",
       "| title                    | release_year | director             |\n",
       "+--------------------------+--------------+----------------------+\n",
       "| The Shawshank Redemption | 1994         | Frank Darabont       |\n",
       "+--------------------------+--------------+----------------------+\n",
       "| The Godfather            | 1972         | Francis Ford Coppola |\n",
       "+--------------------------+--------------+----------------------+\n",
       "| The Dark Knight          | 2008         | Christopher Nolan    |\n",
       "+--------------------------+--------------+----------------------+\n",
       "| The Godfather Part II    | 1974         | Francis Ford Coppola |\n",
       "+--------------------------+--------------+----------------------+\n",
       "| 12 Angry Men             | 1957         | Sidney Lumet         |\n",
       "+--------------------------+--------------+----------------------+\n",
       "5 rows in set (0.00 sec)"
      ]
     },
     "execution_count": 32,
     "metadata": {},
     "output_type": "execute_result"
    }
   ],
   "source": [
    "SELECT title,\n",
    "       release_year,\n",
    "       director\n",
    "  FROM movies\n",
    " LIMIT 5;"
   ]
  },
  {
   "cell_type": "code",
   "execution_count": 33,
   "id": "10f0bd41",
   "metadata": {},
   "outputs": [
    {
     "data": {
      "text/html": [
       "<table>\n",
       "<tr>\n",
       "<th>hello_world</th>\n",
       "<th>typeof_hello_world</th>\n",
       "</tr>\n",
       "<tr>\n",
       "<td>Hello, World!</td>\n",
       "<td>text</td>\n",
       "</tr>\n",
       "</table>\n",
       "1 row in set (0.00 sec)"
      ],
      "text/plain": [
       "+---------------+--------------------+\n",
       "| hello_world   | typeof_hello_world |\n",
       "+---------------+--------------------+\n",
       "| Hello, World! | text               |\n",
       "+---------------+--------------------+\n",
       "1 row in set (0.00 sec)"
      ]
     },
     "execution_count": 33,
     "metadata": {},
     "output_type": "execute_result"
    }
   ],
   "source": [
    "SELECT 'Hello, World!' AS hello_world,\n",
    "       TYPEOF('Hello, World!') AS typeof_hello_world;"
   ]
  },
  {
   "cell_type": "code",
   "execution_count": 34,
   "id": "62c98791",
   "metadata": {},
   "outputs": [
    {
     "data": {
      "text/html": [
       "<table>\n",
       "<tr>\n",
       "<th>movie</th>\n",
       "<th>released_in</th>\n",
       "<th>directed_by</th>\n",
       "</tr>\n",
       "<tr>\n",
       "<td>The Shawshank Redemption</td>\n",
       "<td>1994</td>\n",
       "<td>Frank Darabont</td>\n",
       "</tr>\n",
       "<tr>\n",
       "<td>The Godfather</td>\n",
       "<td>1972</td>\n",
       "<td>Francis Ford Coppola</td>\n",
       "</tr>\n",
       "<tr>\n",
       "<td>The Dark Knight</td>\n",
       "<td>2008</td>\n",
       "<td>Christopher Nolan</td>\n",
       "</tr>\n",
       "<tr>\n",
       "<td>The Godfather Part II</td>\n",
       "<td>1974</td>\n",
       "<td>Francis Ford Coppola</td>\n",
       "</tr>\n",
       "<tr>\n",
       "<td>12 Angry Men</td>\n",
       "<td>1957</td>\n",
       "<td>Sidney Lumet</td>\n",
       "</tr>\n",
       "</table>\n",
       "5 rows in set (0.00 sec)"
      ],
      "text/plain": [
       "+--------------------------+-------------+----------------------+\n",
       "| movie                    | released_in | directed_by          |\n",
       "+--------------------------+-------------+----------------------+\n",
       "| The Shawshank Redemption | 1994        | Frank Darabont       |\n",
       "+--------------------------+-------------+----------------------+\n",
       "| The Godfather            | 1972        | Francis Ford Coppola |\n",
       "+--------------------------+-------------+----------------------+\n",
       "| The Dark Knight          | 2008        | Christopher Nolan    |\n",
       "+--------------------------+-------------+----------------------+\n",
       "| The Godfather Part II    | 1974        | Francis Ford Coppola |\n",
       "+--------------------------+-------------+----------------------+\n",
       "| 12 Angry Men             | 1957        | Sidney Lumet         |\n",
       "+--------------------------+-------------+----------------------+\n",
       "5 rows in set (0.00 sec)"
      ]
     },
     "execution_count": 34,
     "metadata": {},
     "output_type": "execute_result"
    }
   ],
   "source": [
    "SELECT title AS movie,\n",
    "       release_year AS released_in,\n",
    "       director AS directed_by\n",
    "  FROM movies\n",
    " LIMIT 5;"
   ]
  },
  {
   "cell_type": "code",
   "execution_count": 35,
   "id": "de7f343c",
   "metadata": {},
   "outputs": [
    {
     "data": {
      "text/html": [
       "<table>\n",
       "<tr>\n",
       "<th>director</th>\n",
       "</tr>\n",
       "<tr>\n",
       "<td>Frank Darabont</td>\n",
       "</tr>\n",
       "<tr>\n",
       "<td>Francis Ford Coppola</td>\n",
       "</tr>\n",
       "<tr>\n",
       "<td>Christopher Nolan</td>\n",
       "</tr>\n",
       "<tr>\n",
       "<td>Francis Ford Coppola</td>\n",
       "</tr>\n",
       "<tr>\n",
       "<td>Sidney Lumet</td>\n",
       "</tr>\n",
       "<tr>\n",
       "<td>Steven Spielberg</td>\n",
       "</tr>\n",
       "<tr>\n",
       "<td>Peter Jackson</td>\n",
       "</tr>\n",
       "<tr>\n",
       "<td>Quentin Tarantino</td>\n",
       "</tr>\n",
       "<tr>\n",
       "<td>Peter Jackson</td>\n",
       "</tr>\n",
       "<tr>\n",
       "<td>Sergio Leone</td>\n",
       "</tr>\n",
       "</table>\n",
       "10 rows in set (0.00 sec)"
      ],
      "text/plain": [
       "+----------------------+\n",
       "| director             |\n",
       "+----------------------+\n",
       "| Frank Darabont       |\n",
       "+----------------------+\n",
       "| Francis Ford Coppola |\n",
       "+----------------------+\n",
       "| Christopher Nolan    |\n",
       "+----------------------+\n",
       "| Francis Ford Coppola |\n",
       "+----------------------+\n",
       "| Sidney Lumet         |\n",
       "+----------------------+\n",
       "| Steven Spielberg     |\n",
       "+----------------------+\n",
       "| Peter Jackson        |\n",
       "+----------------------+\n",
       "| Quentin Tarantino    |\n",
       "+----------------------+\n",
       "| Peter Jackson        |\n",
       "+----------------------+\n",
       "| Sergio Leone         |\n",
       "+----------------------+\n",
       "10 rows in set (0.00 sec)"
      ]
     },
     "execution_count": 35,
     "metadata": {},
     "output_type": "execute_result"
    }
   ],
   "source": [
    "SELECT director\n",
    "  FROM movies\n",
    " LIMIT 10;"
   ]
  },
  {
   "cell_type": "code",
   "execution_count": 36,
   "id": "1587acf3",
   "metadata": {},
   "outputs": [
    {
     "data": {
      "text/html": [
       "<table>\n",
       "<tr>\n",
       "<th>director</th>\n",
       "</tr>\n",
       "<tr>\n",
       "<td>Frank Darabont</td>\n",
       "</tr>\n",
       "<tr>\n",
       "<td>Francis Ford Coppola</td>\n",
       "</tr>\n",
       "<tr>\n",
       "<td>Christopher Nolan</td>\n",
       "</tr>\n",
       "<tr>\n",
       "<td>Sidney Lumet</td>\n",
       "</tr>\n",
       "<tr>\n",
       "<td>Steven Spielberg</td>\n",
       "</tr>\n",
       "<tr>\n",
       "<td>Peter Jackson</td>\n",
       "</tr>\n",
       "<tr>\n",
       "<td>Quentin Tarantino</td>\n",
       "</tr>\n",
       "<tr>\n",
       "<td>Sergio Leone</td>\n",
       "</tr>\n",
       "<tr>\n",
       "<td>Robert Zemeckis</td>\n",
       "</tr>\n",
       "<tr>\n",
       "<td>David Fincher</td>\n",
       "</tr>\n",
       "</table>\n",
       "10 rows in set (0.00 sec)"
      ],
      "text/plain": [
       "+----------------------+\n",
       "| director             |\n",
       "+----------------------+\n",
       "| Frank Darabont       |\n",
       "+----------------------+\n",
       "| Francis Ford Coppola |\n",
       "+----------------------+\n",
       "| Christopher Nolan    |\n",
       "+----------------------+\n",
       "| Sidney Lumet         |\n",
       "+----------------------+\n",
       "| Steven Spielberg     |\n",
       "+----------------------+\n",
       "| Peter Jackson        |\n",
       "+----------------------+\n",
       "| Quentin Tarantino    |\n",
       "+----------------------+\n",
       "| Sergio Leone         |\n",
       "+----------------------+\n",
       "| Robert Zemeckis      |\n",
       "+----------------------+\n",
       "| David Fincher        |\n",
       "+----------------------+\n",
       "10 rows in set (0.00 sec)"
      ]
     },
     "execution_count": 36,
     "metadata": {},
     "output_type": "execute_result"
    }
   ],
   "source": [
    "SELECT DISTINCT director\n",
    "  FROM movies\n",
    " LIMIT 10;"
   ]
  },
  {
   "cell_type": "code",
   "execution_count": 37,
   "id": "01a39327",
   "metadata": {},
   "outputs": [
    {
     "data": {
      "text/html": [
       "<table>\n",
       "<tr>\n",
       "<th>director</th>\n",
       "<th>title</th>\n",
       "</tr>\n",
       "<tr>\n",
       "<td>Frank Darabont</td>\n",
       "<td>The Shawshank Redemption</td>\n",
       "</tr>\n",
       "<tr>\n",
       "<td>Francis Ford Coppola</td>\n",
       "<td>The Godfather</td>\n",
       "</tr>\n",
       "<tr>\n",
       "<td>Christopher Nolan</td>\n",
       "<td>The Dark Knight</td>\n",
       "</tr>\n",
       "<tr>\n",
       "<td>Francis Ford Coppola</td>\n",
       "<td>The Godfather Part II</td>\n",
       "</tr>\n",
       "<tr>\n",
       "<td>Sidney Lumet</td>\n",
       "<td>12 Angry Men</td>\n",
       "</tr>\n",
       "<tr>\n",
       "<td>Steven Spielberg</td>\n",
       "<td>Schindler's List</td>\n",
       "</tr>\n",
       "<tr>\n",
       "<td>Peter Jackson</td>\n",
       "<td>The Lord of the Rings: The Return of the King</td>\n",
       "</tr>\n",
       "<tr>\n",
       "<td>Quentin Tarantino</td>\n",
       "<td>Pulp Fiction</td>\n",
       "</tr>\n",
       "<tr>\n",
       "<td>Peter Jackson</td>\n",
       "<td>The Lord of the Rings: The Fellowship of the Ring</td>\n",
       "</tr>\n",
       "<tr>\n",
       "<td>Sergio Leone</td>\n",
       "<td>The Good, the Bad and the Ugly</td>\n",
       "</tr>\n",
       "</table>\n",
       "10 rows in set (0.00 sec)"
      ],
      "text/plain": [
       "+----------------------+---------------------------------------------------+\n",
       "| director             | title                                             |\n",
       "+----------------------+---------------------------------------------------+\n",
       "| Frank Darabont       | The Shawshank Redemption                          |\n",
       "+----------------------+---------------------------------------------------+\n",
       "| Francis Ford Coppola | The Godfather                                     |\n",
       "+----------------------+---------------------------------------------------+\n",
       "| Christopher Nolan    | The Dark Knight                                   |\n",
       "+----------------------+---------------------------------------------------+\n",
       "| Francis Ford Coppola | The Godfather Part II                             |\n",
       "+----------------------+---------------------------------------------------+\n",
       "| Sidney Lumet         | 12 Angry Men                                      |\n",
       "+----------------------+---------------------------------------------------+\n",
       "| Steven Spielberg     | Schindler's List                                  |\n",
       "+----------------------+---------------------------------------------------+\n",
       "| Peter Jackson        | The Lord of the Rings: The Return of the King     |\n",
       "+----------------------+---------------------------------------------------+\n",
       "| Quentin Tarantino    | Pulp Fiction                                      |\n",
       "+----------------------+---------------------------------------------------+\n",
       "| Peter Jackson        | The Lord of the Rings: The Fellowship of the Ring |\n",
       "+----------------------+---------------------------------------------------+\n",
       "| Sergio Leone         | The Good, the Bad and the Ugly                    |\n",
       "+----------------------+---------------------------------------------------+\n",
       "10 rows in set (0.00 sec)"
      ]
     },
     "execution_count": 37,
     "metadata": {},
     "output_type": "execute_result"
    }
   ],
   "source": [
    "SELECT DISTINCT director, title\n",
    "  FROM movies\n",
    " LIMIT 10;"
   ]
  },
  {
   "cell_type": "code",
   "execution_count": 39,
   "id": "1daa6746",
   "metadata": {},
   "outputs": [
    {
     "data": {
      "text/html": [
       "<table>\n",
       "<tr>\n",
       "<th>title</th>\n",
       "<th>release_year</th>\n",
       "<th>rating</th>\n",
       "</tr>\n",
       "<tr>\n",
       "<td>The Shawshank Redemption</td>\n",
       "<td>1994</td>\n",
       "<td>9.3</td>\n",
       "</tr>\n",
       "<tr>\n",
       "<td>The Godfather</td>\n",
       "<td>1972</td>\n",
       "<td>9.2</td>\n",
       "</tr>\n",
       "<tr>\n",
       "<td>The Dark Knight</td>\n",
       "<td>2008</td>\n",
       "<td>9</td>\n",
       "</tr>\n",
       "<tr>\n",
       "<td>The Godfather Part II</td>\n",
       "<td>1974</td>\n",
       "<td>9</td>\n",
       "</tr>\n",
       "<tr>\n",
       "<td>12 Angry Men</td>\n",
       "<td>1957</td>\n",
       "<td>9</td>\n",
       "</tr>\n",
       "</table>\n",
       "5 rows in set (0.00 sec)"
      ],
      "text/plain": [
       "+--------------------------+--------------+--------+\n",
       "| title                    | release_year | rating |\n",
       "+--------------------------+--------------+--------+\n",
       "| The Shawshank Redemption | 1994         | 9.3    |\n",
       "+--------------------------+--------------+--------+\n",
       "| The Godfather            | 1972         | 9.2    |\n",
       "+--------------------------+--------------+--------+\n",
       "| The Dark Knight          | 2008         | 9      |\n",
       "+--------------------------+--------------+--------+\n",
       "| The Godfather Part II    | 1974         | 9      |\n",
       "+--------------------------+--------------+--------+\n",
       "| 12 Angry Men             | 1957         | 9      |\n",
       "+--------------------------+--------------+--------+\n",
       "5 rows in set (0.00 sec)"
      ]
     },
     "execution_count": 39,
     "metadata": {},
     "output_type": "execute_result"
    }
   ],
   "source": [
    "Select title, release_year,\n",
    "       rating\n",
    "from movies liMiT 5;"
   ]
  },
  {
   "cell_type": "code",
   "execution_count": 40,
   "id": "eab94577",
   "metadata": {},
   "outputs": [
    {
     "data": {
      "text/html": [
       "<table>\n",
       "<tr>\n",
       "<th>distinct_director</th>\n",
       "</tr>\n",
       "<tr>\n",
       "<td>Frank Darabont</td>\n",
       "</tr>\n",
       "<tr>\n",
       "<td>Francis Ford Coppola</td>\n",
       "</tr>\n",
       "<tr>\n",
       "<td>Christopher Nolan</td>\n",
       "</tr>\n",
       "<tr>\n",
       "<td>Sidney Lumet</td>\n",
       "</tr>\n",
       "<tr>\n",
       "<td>Steven Spielberg</td>\n",
       "</tr>\n",
       "<tr>\n",
       "<td>Peter Jackson</td>\n",
       "</tr>\n",
       "<tr>\n",
       "<td>Quentin Tarantino</td>\n",
       "</tr>\n",
       "<tr>\n",
       "<td>Sergio Leone</td>\n",
       "</tr>\n",
       "<tr>\n",
       "<td>Robert Zemeckis</td>\n",
       "</tr>\n",
       "<tr>\n",
       "<td>David Fincher</td>\n",
       "</tr>\n",
       "</table>\n",
       "10 rows in set (0.00 sec)"
      ],
      "text/plain": [
       "+----------------------+\n",
       "| distinct_director    |\n",
       "+----------------------+\n",
       "| Frank Darabont       |\n",
       "+----------------------+\n",
       "| Francis Ford Coppola |\n",
       "+----------------------+\n",
       "| Christopher Nolan    |\n",
       "+----------------------+\n",
       "| Sidney Lumet         |\n",
       "+----------------------+\n",
       "| Steven Spielberg     |\n",
       "+----------------------+\n",
       "| Peter Jackson        |\n",
       "+----------------------+\n",
       "| Quentin Tarantino    |\n",
       "+----------------------+\n",
       "| Sergio Leone         |\n",
       "+----------------------+\n",
       "| Robert Zemeckis      |\n",
       "+----------------------+\n",
       "| David Fincher        |\n",
       "+----------------------+\n",
       "10 rows in set (0.00 sec)"
      ]
     },
     "execution_count": 40,
     "metadata": {},
     "output_type": "execute_result"
    }
   ],
   "source": [
    "SELECT DISTINCT director AS distinct_director\n",
    "  FROM movies\n",
    " LIMIT 10;"
   ]
  },
  {
   "cell_type": "markdown",
   "id": "f5bb9008",
   "metadata": {},
   "source": [
    "# Exercise"
   ]
  },
  {
   "cell_type": "code",
   "execution_count": 51,
   "id": "2b8ecf8b",
   "metadata": {},
   "outputs": [
    {
     "data": {
      "text/html": [
       "<table>\n",
       "<tr>\n",
       "<th>id</th>\n",
       "<th>county</th>\n",
       "<th>town</th>\n",
       "<th>village</th>\n",
       "</tr>\n",
       "<tr>\n",
       "<td>1</td>\n",
       "<td>南投縣</td>\n",
       "<td>中寮鄉</td>\n",
       "<td>中寮村</td>\n",
       "</tr>\n",
       "<tr>\n",
       "<td>2</td>\n",
       "<td>南投縣</td>\n",
       "<td>中寮鄉</td>\n",
       "<td>內城村</td>\n",
       "</tr>\n",
       "<tr>\n",
       "<td>3</td>\n",
       "<td>南投縣</td>\n",
       "<td>中寮鄉</td>\n",
       "<td>八仙村</td>\n",
       "</tr>\n",
       "<tr>\n",
       "<td>4</td>\n",
       "<td>南投縣</td>\n",
       "<td>中寮鄉</td>\n",
       "<td>和興村</td>\n",
       "</tr>\n",
       "<tr>\n",
       "<td>5</td>\n",
       "<td>南投縣</td>\n",
       "<td>中寮鄉</td>\n",
       "<td>崁頂村</td>\n",
       "</tr>\n",
       "</table>\n",
       "5 rows in set (0.00 sec)"
      ],
      "text/plain": [
       "+----+-----------+-----------+-----------+\n",
       "| id | county    | town      | village   |\n",
       "+----+-----------+-----------+-----------+\n",
       "| 1  | 南投縣 | 中寮鄉 | 中寮村 |\n",
       "+----+-----------+-----------+-----------+\n",
       "| 2  | 南投縣 | 中寮鄉 | 內城村 |\n",
       "+----+-----------+-----------+-----------+\n",
       "| 3  | 南投縣 | 中寮鄉 | 八仙村 |\n",
       "+----+-----------+-----------+-----------+\n",
       "| 4  | 南投縣 | 中寮鄉 | 和興村 |\n",
       "+----+-----------+-----------+-----------+\n",
       "| 5  | 南投縣 | 中寮鄉 | 崁頂村 |\n",
       "+----+-----------+-----------+-----------+\n",
       "5 rows in set (0.00 sec)"
      ]
     },
     "execution_count": 51,
     "metadata": {},
     "output_type": "execute_result"
    }
   ],
   "source": [
    "SELECT *\n",
    "  FROM admin_regions\n",
    " LIMIT 5;"
   ]
  },
  {
   "cell_type": "code",
   "execution_count": 52,
   "id": "40e96969",
   "metadata": {},
   "outputs": [
    {
     "data": {
      "text/html": [
       "<table>\n",
       "<tr>\n",
       "<th>id</th>\n",
       "<th>county</th>\n",
       "<th>town</th>\n",
       "<th>village</th>\n",
       "</tr>\n",
       "<tr>\n",
       "<td>1</td>\n",
       "<td>南投縣</td>\n",
       "<td>中寮鄉</td>\n",
       "<td>中寮村</td>\n",
       "</tr>\n",
       "<tr>\n",
       "<td>2</td>\n",
       "<td>南投縣</td>\n",
       "<td>中寮鄉</td>\n",
       "<td>內城村</td>\n",
       "</tr>\n",
       "<tr>\n",
       "<td>3</td>\n",
       "<td>南投縣</td>\n",
       "<td>中寮鄉</td>\n",
       "<td>八仙村</td>\n",
       "</tr>\n",
       "<tr>\n",
       "<td>4</td>\n",
       "<td>南投縣</td>\n",
       "<td>中寮鄉</td>\n",
       "<td>和興村</td>\n",
       "</tr>\n",
       "<tr>\n",
       "<td>5</td>\n",
       "<td>南投縣</td>\n",
       "<td>中寮鄉</td>\n",
       "<td>崁頂村</td>\n",
       "</tr>\n",
       "</table>\n",
       "5 rows in set (0.00 sec)"
      ],
      "text/plain": [
       "+----+-----------+-----------+-----------+\n",
       "| id | county    | town      | village   |\n",
       "+----+-----------+-----------+-----------+\n",
       "| 1  | 南投縣 | 中寮鄉 | 中寮村 |\n",
       "+----+-----------+-----------+-----------+\n",
       "| 2  | 南投縣 | 中寮鄉 | 內城村 |\n",
       "+----+-----------+-----------+-----------+\n",
       "| 3  | 南投縣 | 中寮鄉 | 八仙村 |\n",
       "+----+-----------+-----------+-----------+\n",
       "| 4  | 南投縣 | 中寮鄉 | 和興村 |\n",
       "+----+-----------+-----------+-----------+\n",
       "| 5  | 南投縣 | 中寮鄉 | 崁頂村 |\n",
       "+----+-----------+-----------+-----------+\n",
       "5 rows in set (0.00 sec)"
      ]
     },
     "execution_count": 52,
     "metadata": {},
     "output_type": "execute_result"
    }
   ],
   "source": [
    "SELECT *\n",
    "  FROM twElection2020.admin_regions\n",
    " LIMIT 5;"
   ]
  },
  {
   "cell_type": "code",
   "execution_count": 53,
   "id": "facd199c",
   "metadata": {},
   "outputs": [
    {
     "data": {
      "text/html": [
       "<table>\n",
       "<tr>\n",
       "<th>confName</th>\n",
       "<th>divName</th>\n",
       "<th>fullName</th>\n",
       "</tr>\n",
       "<tr>\n",
       "<td>East</td>\n",
       "<td>Southeast</td>\n",
       "<td>Atlanta Hawks</td>\n",
       "</tr>\n",
       "<tr>\n",
       "<td>East</td>\n",
       "<td>Atlantic</td>\n",
       "<td>Boston Celtics</td>\n",
       "</tr>\n",
       "<tr>\n",
       "<td>East</td>\n",
       "<td>Central</td>\n",
       "<td>Cleveland Cavaliers</td>\n",
       "</tr>\n",
       "<tr>\n",
       "<td>West</td>\n",
       "<td>Southwest</td>\n",
       "<td>New Orleans Pelicans</td>\n",
       "</tr>\n",
       "<tr>\n",
       "<td>East</td>\n",
       "<td>Central</td>\n",
       "<td>Chicago Bulls</td>\n",
       "</tr>\n",
       "<tr>\n",
       "<td>West</td>\n",
       "<td>Southwest</td>\n",
       "<td>Dallas Mavericks</td>\n",
       "</tr>\n",
       "<tr>\n",
       "<td>West</td>\n",
       "<td>Northwest</td>\n",
       "<td>Denver Nuggets</td>\n",
       "</tr>\n",
       "<tr>\n",
       "<td>West</td>\n",
       "<td>Pacific</td>\n",
       "<td>Golden State Warriors</td>\n",
       "</tr>\n",
       "<tr>\n",
       "<td>West</td>\n",
       "<td>Southwest</td>\n",
       "<td>Houston Rockets</td>\n",
       "</tr>\n",
       "<tr>\n",
       "<td>West</td>\n",
       "<td>Pacific</td>\n",
       "<td>LA Clippers</td>\n",
       "</tr>\n",
       "</table>\n",
       "10 rows in set (0.00 sec)"
      ],
      "text/plain": [
       "+----------+-----------+-----------------------+\n",
       "| confName | divName   | fullName              |\n",
       "+----------+-----------+-----------------------+\n",
       "| East     | Southeast | Atlanta Hawks         |\n",
       "+----------+-----------+-----------------------+\n",
       "| East     | Atlantic  | Boston Celtics        |\n",
       "+----------+-----------+-----------------------+\n",
       "| East     | Central   | Cleveland Cavaliers   |\n",
       "+----------+-----------+-----------------------+\n",
       "| West     | Southwest | New Orleans Pelicans  |\n",
       "+----------+-----------+-----------------------+\n",
       "| East     | Central   | Chicago Bulls         |\n",
       "+----------+-----------+-----------------------+\n",
       "| West     | Southwest | Dallas Mavericks      |\n",
       "+----------+-----------+-----------------------+\n",
       "| West     | Northwest | Denver Nuggets        |\n",
       "+----------+-----------+-----------------------+\n",
       "| West     | Pacific   | Golden State Warriors |\n",
       "+----------+-----------+-----------------------+\n",
       "| West     | Southwest | Houston Rockets       |\n",
       "+----------+-----------+-----------------------+\n",
       "| West     | Pacific   | LA Clippers           |\n",
       "+----------+-----------+-----------------------+\n",
       "10 rows in set (0.00 sec)"
      ]
     },
     "execution_count": 53,
     "metadata": {},
     "output_type": "execute_result"
    }
   ],
   "source": [
    "SELECT confName, divName, fullName\n",
    "  FROM nba.teams\n",
    " LIMIT 10;"
   ]
  },
  {
   "cell_type": "code",
   "execution_count": 54,
   "id": "64708aea",
   "metadata": {},
   "outputs": [
    {
     "data": {
      "text/html": [
       "<table>\n",
       "<tr>\n",
       "<th>firstName</th>\n",
       "<th>lastName</th>\n",
       "</tr>\n",
       "<tr>\n",
       "<td>LeBron</td>\n",
       "<td>James</td>\n",
       "</tr>\n",
       "<tr>\n",
       "<td>Carmelo</td>\n",
       "<td>Anthony</td>\n",
       "</tr>\n",
       "<tr>\n",
       "<td>Udonis</td>\n",
       "<td>Haslem</td>\n",
       "</tr>\n",
       "<tr>\n",
       "<td>Dwight</td>\n",
       "<td>Howard</td>\n",
       "</tr>\n",
       "<tr>\n",
       "<td>Andre</td>\n",
       "<td>Iguodala</td>\n",
       "</tr>\n",
       "</table>\n",
       "5 rows in set (0.00 sec)"
      ],
      "text/plain": [
       "+-----------+----------+\n",
       "| firstName | lastName |\n",
       "+-----------+----------+\n",
       "| LeBron    | James    |\n",
       "+-----------+----------+\n",
       "| Carmelo   | Anthony  |\n",
       "+-----------+----------+\n",
       "| Udonis    | Haslem   |\n",
       "+-----------+----------+\n",
       "| Dwight    | Howard   |\n",
       "+-----------+----------+\n",
       "| Andre     | Iguodala |\n",
       "+-----------+----------+\n",
       "5 rows in set (0.00 sec)"
      ]
     },
     "execution_count": 54,
     "metadata": {},
     "output_type": "execute_result"
    }
   ],
   "source": [
    "SELECT firstName, lastName\n",
    "  FROM nba.players\n",
    " LIMIT 5;"
   ]
  },
  {
   "cell_type": "code",
   "execution_count": null,
   "id": "06d9ec34",
   "metadata": {},
   "outputs": [],
   "source": [
    "SELECT firstName AS first_name,\n",
    "       lastName AS last_name\n",
    "  FROM players\n",
    " LIMIT 5;"
   ]
  },
  {
   "cell_type": "code",
   "execution_count": 57,
   "id": "c299b196",
   "metadata": {},
   "outputs": [
    {
     "data": {
      "text/html": [
       "<table>\n",
       "<tr>\n",
       "<th>distinct_counties</th>\n",
       "</tr>\n",
       "<tr>\n",
       "<td>南投縣</td>\n",
       "</tr>\n",
       "<tr>\n",
       "<td>嘉義市</td>\n",
       "</tr>\n",
       "<tr>\n",
       "<td>嘉義縣</td>\n",
       "</tr>\n",
       "<tr>\n",
       "<td>基隆市</td>\n",
       "</tr>\n",
       "<tr>\n",
       "<td>宜蘭縣</td>\n",
       "</tr>\n",
       "<tr>\n",
       "<td>屏東縣</td>\n",
       "</tr>\n",
       "<tr>\n",
       "<td>彰化縣</td>\n",
       "</tr>\n",
       "<tr>\n",
       "<td>新北市</td>\n",
       "</tr>\n",
       "<tr>\n",
       "<td>新竹市</td>\n",
       "</tr>\n",
       "<tr>\n",
       "<td>新竹縣</td>\n",
       "</tr>\n",
       "<tr>\n",
       "<td>桃園市</td>\n",
       "</tr>\n",
       "<tr>\n",
       "<td>澎湖縣</td>\n",
       "</tr>\n",
       "<tr>\n",
       "<td>臺中市</td>\n",
       "</tr>\n",
       "<tr>\n",
       "<td>臺北市</td>\n",
       "</tr>\n",
       "<tr>\n",
       "<td>臺南市</td>\n",
       "</tr>\n",
       "<tr>\n",
       "<td>臺東縣</td>\n",
       "</tr>\n",
       "<tr>\n",
       "<td>花蓮縣</td>\n",
       "</tr>\n",
       "<tr>\n",
       "<td>苗栗縣</td>\n",
       "</tr>\n",
       "<tr>\n",
       "<td>連江縣</td>\n",
       "</tr>\n",
       "<tr>\n",
       "<td>金門縣</td>\n",
       "</tr>\n",
       "<tr>\n",
       "<td>雲林縣</td>\n",
       "</tr>\n",
       "<tr>\n",
       "<td>高雄市</td>\n",
       "</tr>\n",
       "</table>\n",
       "22 rows in set (0.00 sec)"
      ],
      "text/plain": [
       "+-------------------+\n",
       "| distinct_counties |\n",
       "+-------------------+\n",
       "| 南投縣         |\n",
       "+-------------------+\n",
       "| 嘉義市         |\n",
       "+-------------------+\n",
       "| 嘉義縣         |\n",
       "+-------------------+\n",
       "| 基隆市         |\n",
       "+-------------------+\n",
       "| 宜蘭縣         |\n",
       "+-------------------+\n",
       "| 屏東縣         |\n",
       "+-------------------+\n",
       "| 彰化縣         |\n",
       "+-------------------+\n",
       "| 新北市         |\n",
       "+-------------------+\n",
       "| 新竹市         |\n",
       "+-------------------+\n",
       "| 新竹縣         |\n",
       "+-------------------+\n",
       "| 桃園市         |\n",
       "+-------------------+\n",
       "| 澎湖縣         |\n",
       "+-------------------+\n",
       "| 臺中市         |\n",
       "+-------------------+\n",
       "| 臺北市         |\n",
       "+-------------------+\n",
       "| 臺南市         |\n",
       "+-------------------+\n",
       "| 臺東縣         |\n",
       "+-------------------+\n",
       "| 花蓮縣         |\n",
       "+-------------------+\n",
       "| 苗栗縣         |\n",
       "+-------------------+\n",
       "| 連江縣         |\n",
       "+-------------------+\n",
       "| 金門縣         |\n",
       "+-------------------+\n",
       "| 雲林縣         |\n",
       "+-------------------+\n",
       "| 高雄市         |\n",
       "+-------------------+\n",
       "22 rows in set (0.00 sec)"
      ]
     },
     "execution_count": 57,
     "metadata": {},
     "output_type": "execute_result"
    }
   ],
   "source": [
    "SELECT DISTINCT county AS distinct_counties\n",
    "  FROM twElection2020.admin_regions;"
   ]
  },
  {
   "cell_type": "code",
   "execution_count": 58,
   "id": "f440ab05",
   "metadata": {},
   "outputs": [
    {
     "data": {
      "text/html": [
       "<table>\n",
       "<tr>\n",
       "<th>distinct_divisions</th>\n",
       "</tr>\n",
       "<tr>\n",
       "<td>Southeast</td>\n",
       "</tr>\n",
       "<tr>\n",
       "<td>Atlantic</td>\n",
       "</tr>\n",
       "<tr>\n",
       "<td>Central</td>\n",
       "</tr>\n",
       "<tr>\n",
       "<td>Southwest</td>\n",
       "</tr>\n",
       "<tr>\n",
       "<td>Northwest</td>\n",
       "</tr>\n",
       "<tr>\n",
       "<td>Pacific</td>\n",
       "</tr>\n",
       "</table>\n",
       "6 rows in set (0.00 sec)"
      ],
      "text/plain": [
       "+--------------------+\n",
       "| distinct_divisions |\n",
       "+--------------------+\n",
       "| Southeast          |\n",
       "+--------------------+\n",
       "| Atlantic           |\n",
       "+--------------------+\n",
       "| Central            |\n",
       "+--------------------+\n",
       "| Southwest          |\n",
       "+--------------------+\n",
       "| Northwest          |\n",
       "+--------------------+\n",
       "| Pacific            |\n",
       "+--------------------+\n",
       "6 rows in set (0.00 sec)"
      ]
     },
     "execution_count": 58,
     "metadata": {},
     "output_type": "execute_result"
    }
   ],
   "source": [
    "SELECT DISTINCT divName AS distinct_divisions\n",
    "  FROM nba.teams;"
   ]
  },
  {
   "cell_type": "code",
   "execution_count": null,
   "id": "db035a9e",
   "metadata": {},
   "outputs": [],
   "source": []
  }
 ],
 "metadata": {
  "kernelspec": {
   "display_name": "xsql",
   "language": "sqlite",
   "name": "xsql"
  },
  "language_info": {
   "codemirror_mode": "sql",
   "file_extension": "",
   "mimetype": "",
   "name": "mysql",
   "version": "0.2.1"
  }
 },
 "nbformat": 4,
 "nbformat_minor": 5
}
