{
 "cells": [
  {
   "cell_type": "code",
   "execution_count": 1,
   "id": "f55dfae1",
   "metadata": {},
   "outputs": [],
   "source": [
    "%LOAD sqlite3 db=../databases/imdb.db timeout=2 shared_cache=true"
   ]
  },
  {
   "cell_type": "code",
   "execution_count": 6,
   "id": "546cd238",
   "metadata": {},
   "outputs": [],
   "source": [
    "ATTACH \"../databases/covid19.db\" AS covid19;"
   ]
  },
  {
   "cell_type": "code",
   "execution_count": 23,
   "id": "9391c72c",
   "metadata": {},
   "outputs": [],
   "source": [
    "ATTACH \"../databases/nba.db\" AS nba;"
   ]
  },
  {
   "cell_type": "code",
   "execution_count": 24,
   "id": "d37c42de",
   "metadata": {},
   "outputs": [],
   "source": [
    "ATTACH \"../databases/twElection2020.db\" AS twElection2020;"
   ]
  },
  {
   "cell_type": "code",
   "execution_count": 3,
   "id": "292c1d6e",
   "metadata": {},
   "outputs": [
    {
     "data": {
      "text/html": [
       "<table>\n",
       "<tr>\n",
       "<th>e</th>\n",
       "<th>round_e_0</th>\n",
       "<th>round_e_1</th>\n",
       "<th>round_e_2</th>\n",
       "</tr>\n",
       "<tr>\n",
       "<td>2.718</td>\n",
       "<td>3.0</td>\n",
       "<td>2.7</td>\n",
       "<td>2.72</td>\n",
       "</tr>\n",
       "</table>\n",
       "1 row in set (0.00 sec)"
      ],
      "text/plain": [
       "+-------+-----------+-----------+-----------+\n",
       "| e     | round_e_0 | round_e_1 | round_e_2 |\n",
       "+-------+-----------+-----------+-----------+\n",
       "| 2.718 | 3.0       | 2.7       | 2.72      |\n",
       "+-------+-----------+-----------+-----------+\n",
       "1 row in set (0.00 sec)"
      ]
     },
     "execution_count": 3,
     "metadata": {},
     "output_type": "execute_result"
    }
   ],
   "source": [
    "SELECT 2.718 AS e,\n",
    "       ROUND(2.718) AS round_e_0,    -- round to 0 digit\n",
    "       ROUND(2.718, 1) AS round_e_1, -- round to 1 digit\n",
    "       ROUND(2.718, 2) AS round_e_2; -- round to 2 digits"
   ]
  },
  {
   "cell_type": "code",
   "execution_count": 4,
   "id": "32c17787",
   "metadata": {},
   "outputs": [
    {
     "data": {
      "text/html": [
       "<table>\n",
       "<tr>\n",
       "<th>ironman</th>\n",
       "<th>first_name</th>\n",
       "<th>last_name</th>\n",
       "</tr>\n",
       "<tr>\n",
       "<td>Tony Stark</td>\n",
       "<td>Tony</td>\n",
       "<td>Stark</td>\n",
       "</tr>\n",
       "</table>\n",
       "1 row in set (0.00 sec)"
      ],
      "text/plain": [
       "+------------+------------+-----------+\n",
       "| ironman    | first_name | last_name |\n",
       "+------------+------------+-----------+\n",
       "| Tony Stark | Tony       | Stark     |\n",
       "+------------+------------+-----------+\n",
       "1 row in set (0.00 sec)"
      ]
     },
     "execution_count": 4,
     "metadata": {},
     "output_type": "execute_result"
    }
   ],
   "source": [
    "SELECT 'Tony Stark' AS ironman,\n",
    "       SUBSTR('Tony Stark', 1, 4) AS first_name, -- sub-string from the 1st character for length of 4\n",
    "       SUBSTR('Tony Stark', 6, 5) AS last_name;  -- sub-string from the 6th character for length of 5"
   ]
  },
  {
   "cell_type": "code",
   "execution_count": 6,
   "id": "ad12f305",
   "metadata": {},
   "outputs": [
    {
     "data": {
      "text/html": [
       "<table>\n",
       "<tr>\n",
       "<th>round_e_0</th>\n",
       "<th>todays_date</th>\n",
       "</tr>\n",
       "<tr>\n",
       "<td>3.0</td>\n",
       "<td>2024-04-16</td>\n",
       "</tr>\n",
       "</table>\n",
       "1 row in set (0.00 sec)"
      ],
      "text/plain": [
       "+-----------+-------------+\n",
       "| round_e_0 | todays_date |\n",
       "+-----------+-------------+\n",
       "| 3.0       | 2024-04-16  |\n",
       "+-----------+-------------+\n",
       "1 row in set (0.00 sec)"
      ]
     },
     "execution_count": 6,
     "metadata": {},
     "output_type": "execute_result"
    }
   ],
   "source": [
    "SELECT ROUND(2.718) AS round_e_0,\n",
    "       DATE() AS todays_date;"
   ]
  },
  {
   "cell_type": "code",
   "execution_count": 5,
   "id": "e4d2aea0",
   "metadata": {},
   "outputs": [
    {
     "data": {
      "text/html": [
       "<table>\n",
       "<tr>\n",
       "<th>city</th>\n",
       "<th>composite_function</th>\n",
       "</tr>\n",
       "<tr>\n",
       "<td>Boston</td>\n",
       "<td>BOS</td>\n",
       "</tr>\n",
       "</table>\n",
       "1 row in set (0.00 sec)"
      ],
      "text/plain": [
       "+--------+--------------------+\n",
       "| city   | composite_function |\n",
       "+--------+--------------------+\n",
       "| Boston | BOS                |\n",
       "+--------+--------------------+\n",
       "1 row in set (0.00 sec)"
      ]
     },
     "execution_count": 5,
     "metadata": {},
     "output_type": "execute_result"
    }
   ],
   "source": [
    "SELECT 'Boston' AS city,\n",
    "       UPPER(SUBSTR('Boston', 1, 3)) AS composite_function;"
   ]
  },
  {
   "cell_type": "code",
   "execution_count": 7,
   "id": "9215bbb7",
   "metadata": {},
   "outputs": [
    {
     "data": {
      "text/html": [
       "<table>\n",
       "<tr>\n",
       "<th>rating</th>\n",
       "<th>round_rating</th>\n",
       "</tr>\n",
       "<tr>\n",
       "<td>9.3</td>\n",
       "<td>9.0</td>\n",
       "</tr>\n",
       "<tr>\n",
       "<td>9.2</td>\n",
       "<td>9.0</td>\n",
       "</tr>\n",
       "<tr>\n",
       "<td>9</td>\n",
       "<td>9.0</td>\n",
       "</tr>\n",
       "<tr>\n",
       "<td>9</td>\n",
       "<td>9.0</td>\n",
       "</tr>\n",
       "<tr>\n",
       "<td>9</td>\n",
       "<td>9.0</td>\n",
       "</tr>\n",
       "</table>\n",
       "5 rows in set (0.00 sec)"
      ],
      "text/plain": [
       "+--------+--------------+\n",
       "| rating | round_rating |\n",
       "+--------+--------------+\n",
       "| 9.3    | 9.0          |\n",
       "+--------+--------------+\n",
       "| 9.2    | 9.0          |\n",
       "+--------+--------------+\n",
       "| 9      | 9.0          |\n",
       "+--------+--------------+\n",
       "| 9      | 9.0          |\n",
       "+--------+--------------+\n",
       "| 9      | 9.0          |\n",
       "+--------+--------------+\n",
       "5 rows in set (0.00 sec)"
      ]
     },
     "execution_count": 7,
     "metadata": {},
     "output_type": "execute_result"
    }
   ],
   "source": [
    "SELECT rating,\n",
    "       ROUND(rating) AS round_rating\n",
    "  FROM movies\n",
    " LIMIT 5;"
   ]
  },
  {
   "cell_type": "code",
   "execution_count": 8,
   "id": "dcbebf56",
   "metadata": {},
   "outputs": [
    {
     "data": {
      "text/html": [
       "<table>\n",
       "<tr>\n",
       "<th>title</th>\n",
       "<th>substr_title</th>\n",
       "</tr>\n",
       "<tr>\n",
       "<td>The Shawshank Redemption</td>\n",
       "<td>The</td>\n",
       "</tr>\n",
       "<tr>\n",
       "<td>The Godfather</td>\n",
       "<td>The</td>\n",
       "</tr>\n",
       "<tr>\n",
       "<td>The Dark Knight</td>\n",
       "<td>The</td>\n",
       "</tr>\n",
       "<tr>\n",
       "<td>The Godfather Part II</td>\n",
       "<td>The</td>\n",
       "</tr>\n",
       "</table>\n",
       "4 rows in set (0.00 sec)"
      ],
      "text/plain": [
       "+--------------------------+--------------+\n",
       "| title                    | substr_title |\n",
       "+--------------------------+--------------+\n",
       "| The Shawshank Redemption | The          |\n",
       "+--------------------------+--------------+\n",
       "| The Godfather            | The          |\n",
       "+--------------------------+--------------+\n",
       "| The Dark Knight          | The          |\n",
       "+--------------------------+--------------+\n",
       "| The Godfather Part II    | The          |\n",
       "+--------------------------+--------------+\n",
       "4 rows in set (0.00 sec)"
      ]
     },
     "execution_count": 8,
     "metadata": {},
     "output_type": "execute_result"
    }
   ],
   "source": [
    "SELECT title,\n",
    "       SUBSTR(title, 1, 3) AS substr_title\n",
    "  FROM movies\n",
    " LIMIT 4;"
   ]
  },
  {
   "cell_type": "code",
   "execution_count": 10,
   "id": "213cda84",
   "metadata": {},
   "outputs": [
    {
     "data": {
      "text/html": [
       "<table>\n",
       "<tr>\n",
       "<th>avg_rating</th>\n",
       "</tr>\n",
       "<tr>\n",
       "<td>8.3072</td>\n",
       "</tr>\n",
       "</table>\n",
       "1 row in set (0.00 sec)"
      ],
      "text/plain": [
       "+------------+\n",
       "| avg_rating |\n",
       "+------------+\n",
       "| 8.3072     |\n",
       "+------------+\n",
       "1 row in set (0.00 sec)"
      ]
     },
     "execution_count": 10,
     "metadata": {},
     "output_type": "execute_result"
    }
   ],
   "source": [
    "SELECT AVG(rating) AS avg_rating\n",
    "  FROM movies;"
   ]
  },
  {
   "cell_type": "code",
   "execution_count": 12,
   "id": "0430295a",
   "metadata": {},
   "outputs": [
    {
     "data": {
      "text/html": [
       "<table>\n",
       "<tr>\n",
       "<th>typeof_release_year</th>\n",
       "<th>typeof_rating</th>\n",
       "<th>typeof_title</th>\n",
       "</tr>\n",
       "<tr>\n",
       "<td>integer</td>\n",
       "<td>real</td>\n",
       "<td>text</td>\n",
       "</tr>\n",
       "</table>\n",
       "1 row in set (0.00 sec)"
      ],
      "text/plain": [
       "+---------------------+---------------+--------------+\n",
       "| typeof_release_year | typeof_rating | typeof_title |\n",
       "+---------------------+---------------+--------------+\n",
       "| integer             | real          | text         |\n",
       "+---------------------+---------------+--------------+\n",
       "1 row in set (0.00 sec)"
      ]
     },
     "execution_count": 12,
     "metadata": {},
     "output_type": "execute_result"
    }
   ],
   "source": [
    "SELECT TYPEOF(release_year) AS typeof_release_year,\n",
    "       TYPEOF(rating) AS typeof_rating,\n",
    "       TYPEOF(title) AS typeof_title\n",
    "  FROM movies\n",
    " LIMIT 1;"
   ]
  },
  {
   "cell_type": "code",
   "execution_count": 13,
   "id": "94bff361",
   "metadata": {},
   "outputs": [
    {
     "data": {
      "text/html": [
       "<table>\n",
       "<tr>\n",
       "<th>null_value</th>\n",
       "<th>text_value</th>\n",
       "</tr>\n",
       "<tr>\n",
       "<td>NULL</td>\n",
       "<td>Null replaced by text</td>\n",
       "</tr>\n",
       "</table>\n",
       "1 row in set (0.00 sec)"
      ],
      "text/plain": [
       "+------------+-----------------------+\n",
       "| null_value | text_value            |\n",
       "+------------+-----------------------+\n",
       "| NULL       | Null replaced by text |\n",
       "+------------+-----------------------+\n",
       "1 row in set (0.00 sec)"
      ]
     },
     "execution_count": 13,
     "metadata": {},
     "output_type": "execute_result"
    }
   ],
   "source": [
    "SELECT IFNULL(NULL, NULL) AS null_value,\n",
    "       IFNULL(NULL, 'Null replaced by text') AS text_value;"
   ]
  },
  {
   "cell_type": "code",
   "execution_count": 8,
   "id": "ba9d47fd",
   "metadata": {},
   "outputs": [
    {
     "data": {
      "text/html": [
       "<table>\n",
       "<tr>\n",
       "<th>Province_State</th>\n",
       "<th>province_or_text_value</th>\n",
       "<th>Admin2</th>\n",
       "<th>county_or_text_value</th>\n",
       "</tr>\n",
       "<tr>\n",
       "<td>NULL</td>\n",
       "<td>No province data</td>\n",
       "<td>NULL</td>\n",
       "<td>No county data</td>\n",
       "</tr>\n",
       "<tr>\n",
       "<td>NULL</td>\n",
       "<td>No province data</td>\n",
       "<td>NULL</td>\n",
       "<td>No county data</td>\n",
       "</tr>\n",
       "<tr>\n",
       "<td>NULL</td>\n",
       "<td>No province data</td>\n",
       "<td>NULL</td>\n",
       "<td>No county data</td>\n",
       "</tr>\n",
       "<tr>\n",
       "<td>NULL</td>\n",
       "<td>No province data</td>\n",
       "<td>NULL</td>\n",
       "<td>No county data</td>\n",
       "</tr>\n",
       "<tr>\n",
       "<td>American Samoa</td>\n",
       "<td>American Samoa</td>\n",
       "<td>NULL</td>\n",
       "<td>No county data</td>\n",
       "</tr>\n",
       "</table>\n",
       "5 rows in set (0.00 sec)"
      ],
      "text/plain": [
       "+----------------+------------------------+--------+----------------------+\n",
       "| Province_State | province_or_text_value | Admin2 | county_or_text_value |\n",
       "+----------------+------------------------+--------+----------------------+\n",
       "| NULL           | No province data       | NULL   | No county data       |\n",
       "+----------------+------------------------+--------+----------------------+\n",
       "| NULL           | No province data       | NULL   | No county data       |\n",
       "+----------------+------------------------+--------+----------------------+\n",
       "| NULL           | No province data       | NULL   | No county data       |\n",
       "+----------------+------------------------+--------+----------------------+\n",
       "| NULL           | No province data       | NULL   | No county data       |\n",
       "+----------------+------------------------+--------+----------------------+\n",
       "| American Samoa | American Samoa         | NULL   | No county data       |\n",
       "+----------------+------------------------+--------+----------------------+\n",
       "5 rows in set (0.00 sec)"
      ]
     },
     "execution_count": 8,
     "metadata": {},
     "output_type": "execute_result"
    }
   ],
   "source": [
    "SELECT Province_State,\n",
    "       IFNULL(Province_State, 'No province data') AS province_or_text_value,\n",
    "       Admin2,\n",
    "       IFNULL(Admin2, 'No county data') AS county_or_text_value\n",
    "  FROM lookup_table\n",
    " LIMIT 5;"
   ]
  },
  {
   "cell_type": "code",
   "execution_count": 9,
   "id": "bc08e26c",
   "metadata": {},
   "outputs": [
    {
     "data": {
      "text/html": [
       "<table>\n",
       "<tr>\n",
       "<th>null_value</th>\n",
       "<th>text_value</th>\n",
       "<th>text_value</th>\n",
       "</tr>\n",
       "<tr>\n",
       "<td>NULL</td>\n",
       "<td>Null replaced by text</td>\n",
       "<td>Null replaced by text</td>\n",
       "</tr>\n",
       "</table>\n",
       "1 row in set (0.00 sec)"
      ],
      "text/plain": [
       "+------------+-----------------------+-----------------------+\n",
       "| null_value | text_value            | text_value            |\n",
       "+------------+-----------------------+-----------------------+\n",
       "| NULL       | Null replaced by text | Null replaced by text |\n",
       "+------------+-----------------------+-----------------------+\n",
       "1 row in set (0.00 sec)"
      ]
     },
     "execution_count": 9,
     "metadata": {},
     "output_type": "execute_result"
    }
   ],
   "source": [
    "SELECT COALESCE(NULL, NULL) AS null_value,\n",
    "       COALESCE(NULL, 'Null replaced by text') AS text_value,\n",
    "       COALESCE(NULL, NULL, 'Null replaced by text') AS text_value;"
   ]
  },
  {
   "cell_type": "code",
   "execution_count": 10,
   "id": "5d5cc1f1",
   "metadata": {},
   "outputs": [
    {
     "data": {
      "text/html": [
       "<table>\n",
       "<tr>\n",
       "<th>Province_State</th>\n",
       "<th>Admin2</th>\n",
       "<th>province_or_null</th>\n",
       "<th>province_or_text_value</th>\n",
       "</tr>\n",
       "<tr>\n",
       "<td>NULL</td>\n",
       "<td>NULL</td>\n",
       "<td>NULL</td>\n",
       "<td>No province or county data</td>\n",
       "</tr>\n",
       "<tr>\n",
       "<td>NULL</td>\n",
       "<td>NULL</td>\n",
       "<td>NULL</td>\n",
       "<td>No province or county data</td>\n",
       "</tr>\n",
       "<tr>\n",
       "<td>NULL</td>\n",
       "<td>NULL</td>\n",
       "<td>NULL</td>\n",
       "<td>No province or county data</td>\n",
       "</tr>\n",
       "<tr>\n",
       "<td>NULL</td>\n",
       "<td>NULL</td>\n",
       "<td>NULL</td>\n",
       "<td>No province or county data</td>\n",
       "</tr>\n",
       "<tr>\n",
       "<td>American Samoa</td>\n",
       "<td>NULL</td>\n",
       "<td>American Samoa</td>\n",
       "<td>American Samoa</td>\n",
       "</tr>\n",
       "</table>\n",
       "5 rows in set (0.00 sec)"
      ],
      "text/plain": [
       "+----------------+--------+------------------+----------------------------+\n",
       "| Province_State | Admin2 | province_or_null | province_or_text_value     |\n",
       "+----------------+--------+------------------+----------------------------+\n",
       "| NULL           | NULL   | NULL             | No province or county data |\n",
       "+----------------+--------+------------------+----------------------------+\n",
       "| NULL           | NULL   | NULL             | No province or county data |\n",
       "+----------------+--------+------------------+----------------------------+\n",
       "| NULL           | NULL   | NULL             | No province or county data |\n",
       "+----------------+--------+------------------+----------------------------+\n",
       "| NULL           | NULL   | NULL             | No province or county data |\n",
       "+----------------+--------+------------------+----------------------------+\n",
       "| American Samoa | NULL   | American Samoa   | American Samoa             |\n",
       "+----------------+--------+------------------+----------------------------+\n",
       "5 rows in set (0.00 sec)"
      ]
     },
     "execution_count": 10,
     "metadata": {},
     "output_type": "execute_result"
    }
   ],
   "source": [
    "\n",
    "SELECT Province_State,\n",
    "       Admin2,\n",
    "       COALESCE(Province_State, Admin2) AS province_or_null,\n",
    "       COALESCE(Province_State, Admin2, 'No province or county data') AS province_or_text_value\n",
    "  FROM lookup_table\n",
    " LIMIT 5;"
   ]
  },
  {
   "cell_type": "code",
   "execution_count": 11,
   "id": "b5f2289d",
   "metadata": {},
   "outputs": [
    {
     "data": {
      "text/html": [
       "<table>\n",
       "<tr>\n",
       "<th>runtime</th>\n",
       "<th>hours_0</th>\n",
       "<th>hours_1</th>\n",
       "<th>hours_2</th>\n",
       "</tr>\n",
       "<tr>\n",
       "<td>142</td>\n",
       "<td>2.0</td>\n",
       "<td>2.4</td>\n",
       "<td>2.37</td>\n",
       "</tr>\n",
       "<tr>\n",
       "<td>175</td>\n",
       "<td>3.0</td>\n",
       "<td>2.9</td>\n",
       "<td>2.92</td>\n",
       "</tr>\n",
       "<tr>\n",
       "<td>152</td>\n",
       "<td>3.0</td>\n",
       "<td>2.5</td>\n",
       "<td>2.53</td>\n",
       "</tr>\n",
       "<tr>\n",
       "<td>202</td>\n",
       "<td>3.0</td>\n",
       "<td>3.4</td>\n",
       "<td>3.37</td>\n",
       "</tr>\n",
       "<tr>\n",
       "<td>96</td>\n",
       "<td>2.0</td>\n",
       "<td>1.6</td>\n",
       "<td>1.6</td>\n",
       "</tr>\n",
       "</table>\n",
       "5 rows in set (0.00 sec)"
      ],
      "text/plain": [
       "+---------+---------+---------+---------+\n",
       "| runtime | hours_0 | hours_1 | hours_2 |\n",
       "+---------+---------+---------+---------+\n",
       "| 142     | 2.0     | 2.4     | 2.37    |\n",
       "+---------+---------+---------+---------+\n",
       "| 175     | 3.0     | 2.9     | 2.92    |\n",
       "+---------+---------+---------+---------+\n",
       "| 152     | 3.0     | 2.5     | 2.53    |\n",
       "+---------+---------+---------+---------+\n",
       "| 202     | 3.0     | 3.4     | 3.37    |\n",
       "+---------+---------+---------+---------+\n",
       "| 96      | 2.0     | 1.6     | 1.6     |\n",
       "+---------+---------+---------+---------+\n",
       "5 rows in set (0.00 sec)"
      ]
     },
     "execution_count": 11,
     "metadata": {},
     "output_type": "execute_result"
    }
   ],
   "source": [
    "\n",
    "SELECT runtime,\n",
    "       ROUND(runtime/60.0) AS hours_0,    -- round to 0 digit\n",
    "       ROUND(runtime/60.0, 1) AS hours_1, -- round to 1 digit\n",
    "       ROUND(runtime/60.0, 2) AS hours_2  -- round to 2 digits\n",
    "  FROM movies\n",
    " LIMIT 5;"
   ]
  },
  {
   "cell_type": "code",
   "execution_count": 12,
   "id": "61967004",
   "metadata": {},
   "outputs": [
    {
     "data": {
      "text/html": [
       "<table>\n",
       "<tr>\n",
       "<th>title</th>\n",
       "<th>length_title</th>\n",
       "</tr>\n",
       "<tr>\n",
       "<td>The Shawshank Redemption</td>\n",
       "<td>24</td>\n",
       "</tr>\n",
       "<tr>\n",
       "<td>The Godfather</td>\n",
       "<td>13</td>\n",
       "</tr>\n",
       "<tr>\n",
       "<td>The Dark Knight</td>\n",
       "<td>15</td>\n",
       "</tr>\n",
       "<tr>\n",
       "<td>The Godfather Part II</td>\n",
       "<td>21</td>\n",
       "</tr>\n",
       "<tr>\n",
       "<td>12 Angry Men</td>\n",
       "<td>12</td>\n",
       "</tr>\n",
       "</table>\n",
       "5 rows in set (0.00 sec)"
      ],
      "text/plain": [
       "+--------------------------+--------------+\n",
       "| title                    | length_title |\n",
       "+--------------------------+--------------+\n",
       "| The Shawshank Redemption | 24           |\n",
       "+--------------------------+--------------+\n",
       "| The Godfather            | 13           |\n",
       "+--------------------------+--------------+\n",
       "| The Dark Knight          | 15           |\n",
       "+--------------------------+--------------+\n",
       "| The Godfather Part II    | 21           |\n",
       "+--------------------------+--------------+\n",
       "| 12 Angry Men             | 12           |\n",
       "+--------------------------+--------------+\n",
       "5 rows in set (0.00 sec)"
      ]
     },
     "execution_count": 12,
     "metadata": {},
     "output_type": "execute_result"
    }
   ],
   "source": [
    "SELECT title,\n",
    "       LENGTH(title) AS length_title\n",
    "  FROM movies\n",
    " LIMIT 5;"
   ]
  },
  {
   "cell_type": "code",
   "execution_count": 13,
   "id": "627cb550",
   "metadata": {},
   "outputs": [
    {
     "data": {
      "text/html": [
       "<table>\n",
       "<tr>\n",
       "<th>title</th>\n",
       "<th>substr_title</th>\n",
       "</tr>\n",
       "<tr>\n",
       "<td>The Shawshank Redemption</td>\n",
       "<td>The</td>\n",
       "</tr>\n",
       "<tr>\n",
       "<td>The Godfather</td>\n",
       "<td>The</td>\n",
       "</tr>\n",
       "<tr>\n",
       "<td>The Dark Knight</td>\n",
       "<td>The</td>\n",
       "</tr>\n",
       "<tr>\n",
       "<td>The Godfather Part II</td>\n",
       "<td>The</td>\n",
       "</tr>\n",
       "</table>\n",
       "4 rows in set (0.00 sec)"
      ],
      "text/plain": [
       "+--------------------------+--------------+\n",
       "| title                    | substr_title |\n",
       "+--------------------------+--------------+\n",
       "| The Shawshank Redemption | The          |\n",
       "+--------------------------+--------------+\n",
       "| The Godfather            | The          |\n",
       "+--------------------------+--------------+\n",
       "| The Dark Knight          | The          |\n",
       "+--------------------------+--------------+\n",
       "| The Godfather Part II    | The          |\n",
       "+--------------------------+--------------+\n",
       "4 rows in set (0.00 sec)"
      ]
     },
     "execution_count": 13,
     "metadata": {},
     "output_type": "execute_result"
    }
   ],
   "source": [
    "SELECT title,\n",
    "       SUBSTR(title, 1, 3) AS substr_title\n",
    "  FROM movies\n",
    " LIMIT 4;"
   ]
  },
  {
   "cell_type": "code",
   "execution_count": 14,
   "id": "477db722",
   "metadata": {},
   "outputs": [
    {
     "data": {
      "text/html": [
       "<table>\n",
       "<tr>\n",
       "<th>title</th>\n",
       "<th>lower_title</th>\n",
       "<th>upper_title</th>\n",
       "</tr>\n",
       "<tr>\n",
       "<td>The Shawshank Redemption</td>\n",
       "<td>the shawshank redemption</td>\n",
       "<td>THE SHAWSHANK REDEMPTION</td>\n",
       "</tr>\n",
       "<tr>\n",
       "<td>The Godfather</td>\n",
       "<td>the godfather</td>\n",
       "<td>THE GODFATHER</td>\n",
       "</tr>\n",
       "<tr>\n",
       "<td>The Dark Knight</td>\n",
       "<td>the dark knight</td>\n",
       "<td>THE DARK KNIGHT</td>\n",
       "</tr>\n",
       "<tr>\n",
       "<td>The Godfather Part II</td>\n",
       "<td>the godfather part ii</td>\n",
       "<td>THE GODFATHER PART II</td>\n",
       "</tr>\n",
       "<tr>\n",
       "<td>12 Angry Men</td>\n",
       "<td>12 angry men</td>\n",
       "<td>12 ANGRY MEN</td>\n",
       "</tr>\n",
       "</table>\n",
       "5 rows in set (0.00 sec)"
      ],
      "text/plain": [
       "+--------------------------+--------------------------+--------------------------+\n",
       "| title                    | lower_title              | upper_title              |\n",
       "+--------------------------+--------------------------+--------------------------+\n",
       "| The Shawshank Redemption | the shawshank redemption | THE SHAWSHANK REDEMPTION |\n",
       "+--------------------------+--------------------------+--------------------------+\n",
       "| The Godfather            | the godfather            | THE GODFATHER            |\n",
       "+--------------------------+--------------------------+--------------------------+\n",
       "| The Dark Knight          | the dark knight          | THE DARK KNIGHT          |\n",
       "+--------------------------+--------------------------+--------------------------+\n",
       "| The Godfather Part II    | the godfather part ii    | THE GODFATHER PART II    |\n",
       "+--------------------------+--------------------------+--------------------------+\n",
       "| 12 Angry Men             | 12 angry men             | 12 ANGRY MEN             |\n",
       "+--------------------------+--------------------------+--------------------------+\n",
       "5 rows in set (0.00 sec)"
      ]
     },
     "execution_count": 14,
     "metadata": {},
     "output_type": "execute_result"
    }
   ],
   "source": [
    "SELECT title,\n",
    "       LOWER(title) AS lower_title,\n",
    "       UPPER(title) AS upper_title\n",
    "  FROM movies\n",
    " LIMIT 5;"
   ]
  },
  {
   "cell_type": "code",
   "execution_count": 15,
   "id": "79b8473e",
   "metadata": {},
   "outputs": [
    {
     "data": {
      "text/html": [
       "<table>\n",
       "<tr>\n",
       "<th>date_20221231</th>\n",
       "<th>time_235959</th>\n",
       "<th>datetime_20221231235959</th>\n",
       "</tr>\n",
       "<tr>\n",
       "<td>2022-12-31</td>\n",
       "<td>23:59:59</td>\n",
       "<td>2022-12-31 23:59:59</td>\n",
       "</tr>\n",
       "</table>\n",
       "1 row in set (0.00 sec)"
      ],
      "text/plain": [
       "+---------------+-------------+-------------------------+\n",
       "| date_20221231 | time_235959 | datetime_20221231235959 |\n",
       "+---------------+-------------+-------------------------+\n",
       "| 2022-12-31    | 23:59:59    | 2022-12-31 23:59:59     |\n",
       "+---------------+-------------+-------------------------+\n",
       "1 row in set (0.00 sec)"
      ]
     },
     "execution_count": 15,
     "metadata": {},
     "output_type": "execute_result"
    }
   ],
   "source": [
    "SELECT DATE('2022-12-31') AS date_20221231,\n",
    "       TIME('23:59:59') AS time_235959,\n",
    "       DATETIME('2022-12-31 23:59:59') AS datetime_20221231235959;"
   ]
  },
  {
   "cell_type": "code",
   "execution_count": 16,
   "id": "4edbfa3b",
   "metadata": {},
   "outputs": [
    {
     "data": {
      "text/html": [
       "<table>\n",
       "<tr>\n",
       "<th>date_20221231</th>\n",
       "<th>time_235959</th>\n",
       "<th>datetime_20221231235959</th>\n",
       "</tr>\n",
       "<tr>\n",
       "<td>2024-04-16</td>\n",
       "<td>02:06:23</td>\n",
       "<td>2024-04-16 02:06:23</td>\n",
       "</tr>\n",
       "</table>\n",
       "1 row in set (0.00 sec)"
      ],
      "text/plain": [
       "+---------------+-------------+-------------------------+\n",
       "| date_20221231 | time_235959 | datetime_20221231235959 |\n",
       "+---------------+-------------+-------------------------+\n",
       "| 2024-04-16    | 02:06:23    | 2024-04-16 02:06:23     |\n",
       "+---------------+-------------+-------------------------+\n",
       "1 row in set (0.00 sec)"
      ]
     },
     "execution_count": 16,
     "metadata": {},
     "output_type": "execute_result"
    }
   ],
   "source": [
    "SELECT DATE('now') AS date_20221231,\n",
    "       TIME('now') AS time_235959,\n",
    "       DATETIME('now') AS datetime_20221231235959;"
   ]
  },
  {
   "cell_type": "code",
   "execution_count": 18,
   "id": "6f8300fe",
   "metadata": {},
   "outputs": [
    {
     "data": {
      "text/html": [
       "<table>\n",
       "<tr>\n",
       "<th>datetime_20221231235959</th>\n",
       "<th>day_part</th>\n",
       "<th>day_of_year</th>\n",
       "<th>month_part</th>\n",
       "<th>weekday</th>\n",
       "<th>nth_week</th>\n",
       "<th>year_part</th>\n",
       "<th>time_part</th>\n",
       "</tr>\n",
       "<tr>\n",
       "<td>2022-12-31 23:59:59</td>\n",
       "<td>31</td>\n",
       "<td>365</td>\n",
       "<td>12</td>\n",
       "<td>6</td>\n",
       "<td>52</td>\n",
       "<td>2022</td>\n",
       "<td>23:59:59</td>\n",
       "</tr>\n",
       "</table>\n",
       "1 row in set (0.00 sec)"
      ],
      "text/plain": [
       "+-------------------------+----------+-------------+------------+---------+----------+-----------+-----------+\n",
       "| datetime_20221231235959 | day_part | day_of_year | month_part | weekday | nth_week | year_part | time_part |\n",
       "+-------------------------+----------+-------------+------------+---------+----------+-----------+-----------+\n",
       "| 2022-12-31 23:59:59     | 31       | 365         | 12         | 6       | 52       | 2022      | 23:59:59  |\n",
       "+-------------------------+----------+-------------+------------+---------+----------+-----------+-----------+\n",
       "1 row in set (0.00 sec)"
      ]
     },
     "execution_count": 18,
     "metadata": {},
     "output_type": "execute_result"
    }
   ],
   "source": [
    "SELECT '2022-12-31 23:59:59' AS datetime_20221231235959,\n",
    "       STRFTIME('%d', '2022-12-31 23:59:59') AS day_part,\n",
    "       STRFTIME('%j', '2022-12-31 23:59:59') AS day_of_year,\n",
    "       STRFTIME('%m', '2022-12-31 23:59:59') AS month_part,\n",
    "       STRFTIME('%w', '2022-12-31 23:59:59') AS weekday,\n",
    "       STRFTIME('%W', '2022-12-31 23:59:59') AS nth_week,\n",
    "       STRFTIME('%Y', '2022-12-31 23:59:59') AS year_part,\n",
    "       STRFTIME('%H:%M:%S', '2022-12-31 23:59:59') AS time_part;"
   ]
  },
  {
   "cell_type": "code",
   "execution_count": 19,
   "id": "54baf632",
   "metadata": {},
   "outputs": [
    {
     "data": {
      "text/html": [
       "<table>\n",
       "<tr>\n",
       "<th>avg_rating</th>\n",
       "<th>min_rating</th>\n",
       "<th>max_rating</th>\n",
       "</tr>\n",
       "<tr>\n",
       "<td>8.3072</td>\n",
       "<td>8.0</td>\n",
       "<td>9.3</td>\n",
       "</tr>\n",
       "</table>\n",
       "1 row in set (0.00 sec)"
      ],
      "text/plain": [
       "+------------+------------+------------+\n",
       "| avg_rating | min_rating | max_rating |\n",
       "+------------+------------+------------+\n",
       "| 8.3072     | 8.0        | 9.3        |\n",
       "+------------+------------+------------+\n",
       "1 row in set (0.00 sec)"
      ]
     },
     "execution_count": 19,
     "metadata": {},
     "output_type": "execute_result"
    }
   ],
   "source": [
    "SELECT AVG(rating) AS avg_rating,\n",
    "       MIN(rating) AS min_rating,\n",
    "       MAX(rating) AS max_rating\n",
    "  FROM movies;"
   ]
  },
  {
   "cell_type": "code",
   "execution_count": 20,
   "id": "994dc9b0",
   "metadata": {},
   "outputs": [
    {
     "data": {
      "text/html": [
       "<table>\n",
       "<tr>\n",
       "<th>nrows_table</th>\n",
       "<th>non_null_province</th>\n",
       "<th>non_null_county</th>\n",
       "</tr>\n",
       "<tr>\n",
       "<td>4317</td>\n",
       "<td>4118</td>\n",
       "<td>3344</td>\n",
       "</tr>\n",
       "</table>\n",
       "1 row in set (0.00 sec)"
      ],
      "text/plain": [
       "+-------------+-------------------+-----------------+\n",
       "| nrows_table | non_null_province | non_null_county |\n",
       "+-------------+-------------------+-----------------+\n",
       "| 4317        | 4118              | 3344            |\n",
       "+-------------+-------------------+-----------------+\n",
       "1 row in set (0.00 sec)"
      ]
     },
     "execution_count": 20,
     "metadata": {},
     "output_type": "execute_result"
    }
   ],
   "source": [
    "\n",
    "SELECT COUNT(*) AS nrows_table,    -- table總列數\n",
    "       COUNT(Province_State) AS non_null_province,  -- 該欄位非NULL的總數\n",
    "       COUNT(Admin2) AS non_null_county\n",
    "  FROM lookup_table;"
   ]
  },
  {
   "cell_type": "code",
   "execution_count": 21,
   "id": "fb786087",
   "metadata": {},
   "outputs": [
    {
     "data": {
      "text/html": [
       "<table>\n",
       "<tr>\n",
       "<th>nrows_table</th>\n",
       "<th>non_null_combined_key</th>\n",
       "</tr>\n",
       "<tr>\n",
       "<td>4317</td>\n",
       "<td>4317</td>\n",
       "</tr>\n",
       "</table>\n",
       "1 row in set (0.00 sec)"
      ],
      "text/plain": [
       "+-------------+-----------------------+\n",
       "| nrows_table | non_null_combined_key |\n",
       "+-------------+-----------------------+\n",
       "| 4317        | 4317                  |\n",
       "+-------------+-----------------------+\n",
       "1 row in set (0.00 sec)"
      ]
     },
     "execution_count": 21,
     "metadata": {},
     "output_type": "execute_result"
    }
   ],
   "source": [
    "SELECT COUNT(*) AS nrows_table,\n",
    "       COUNT(Combined_Key) AS non_null_combined_key\n",
    "  FROM lookup_table;"
   ]
  },
  {
   "cell_type": "markdown",
   "id": "8784bcdc",
   "metadata": {},
   "source": [
    "# Exercise"
   ]
  },
  {
   "cell_type": "code",
   "execution_count": 26,
   "id": "0eb3cc1e",
   "metadata": {},
   "outputs": [
    {
     "data": {
      "text/html": [
       "<table>\n",
       "<tr>\n",
       "<th>heightMeters</th>\n",
       "<th>weightKilograms</th>\n",
       "<th>bmi</th>\n",
       "</tr>\n",
       "<tr>\n",
       "<td>2.06</td>\n",
       "<td>113.4</td>\n",
       "<td>26.72</td>\n",
       "</tr>\n",
       "<tr>\n",
       "<td>2.01</td>\n",
       "<td>108</td>\n",
       "<td>26.73</td>\n",
       "</tr>\n",
       "<tr>\n",
       "<td>2.03</td>\n",
       "<td>106.6</td>\n",
       "<td>25.87</td>\n",
       "</tr>\n",
       "<tr>\n",
       "<td>2.08</td>\n",
       "<td>120.2</td>\n",
       "<td>27.78</td>\n",
       "</tr>\n",
       "<tr>\n",
       "<td>1.98</td>\n",
       "<td>97.5</td>\n",
       "<td>24.87</td>\n",
       "</tr>\n",
       "</table>\n",
       "5 rows in set (0.00 sec)"
      ],
      "text/plain": [
       "+--------------+-----------------+-------+\n",
       "| heightMeters | weightKilograms | bmi   |\n",
       "+--------------+-----------------+-------+\n",
       "| 2.06         | 113.4           | 26.72 |\n",
       "+--------------+-----------------+-------+\n",
       "| 2.01         | 108             | 26.73 |\n",
       "+--------------+-----------------+-------+\n",
       "| 2.03         | 106.6           | 25.87 |\n",
       "+--------------+-----------------+-------+\n",
       "| 2.08         | 120.2           | 27.78 |\n",
       "+--------------+-----------------+-------+\n",
       "| 1.98         | 97.5            | 24.87 |\n",
       "+--------------+-----------------+-------+\n",
       "5 rows in set (0.00 sec)"
      ]
     },
     "execution_count": 26,
     "metadata": {},
     "output_type": "execute_result"
    }
   ],
   "source": [
    "SELECT heightMeters, weightKilograms,\n",
    "       ROUND( weightKilograms / (heightMeters * heightMeters) , 2) AS bmi\n",
    "  FROM nba.players\n",
    "  LIMIT 5;"
   ]
  },
  {
   "cell_type": "code",
   "execution_count": 27,
   "id": "ecf3aa97",
   "metadata": {},
   "outputs": [
    {
     "data": {
      "text/html": [
       "<table>\n",
       "<tr>\n",
       "<th>assists</th>\n",
       "<th>turnovers</th>\n",
       "<th>assist_turnover_ratio</th>\n",
       "</tr>\n",
       "<tr>\n",
       "<td>10045</td>\n",
       "<td>4788</td>\n",
       "<td>2.09795321637427</td>\n",
       "</tr>\n",
       "<tr>\n",
       "<td>3422</td>\n",
       "<td>3052</td>\n",
       "<td>1.12123197903014</td>\n",
       "</tr>\n",
       "<tr>\n",
       "<td>733</td>\n",
       "<td>809</td>\n",
       "<td>0.906056860321384</td>\n",
       "</tr>\n",
       "<tr>\n",
       "<td>1676</td>\n",
       "<td>3302</td>\n",
       "<td>0.507571168988492</td>\n",
       "</tr>\n",
       "<tr>\n",
       "<td>5128</td>\n",
       "<td>2231</td>\n",
       "<td>2.29852084267145</td>\n",
       "</tr>\n",
       "</table>\n",
       "5 rows in set (0.00 sec)"
      ],
      "text/plain": [
       "+---------+-----------+-----------------------+\n",
       "| assists | turnovers | assist_turnover_ratio |\n",
       "+---------+-----------+-----------------------+\n",
       "| 10045   | 4788      | 2.09795321637427      |\n",
       "+---------+-----------+-----------------------+\n",
       "| 3422    | 3052      | 1.12123197903014      |\n",
       "+---------+-----------+-----------------------+\n",
       "| 733     | 809       | 0.906056860321384     |\n",
       "+---------+-----------+-----------------------+\n",
       "| 1676    | 3302      | 0.507571168988492     |\n",
       "+---------+-----------+-----------------------+\n",
       "| 5128    | 2231      | 2.29852084267145      |\n",
       "+---------+-----------+-----------------------+\n",
       "5 rows in set (0.00 sec)"
      ]
     },
     "execution_count": 27,
     "metadata": {},
     "output_type": "execute_result"
    }
   ],
   "source": [
    "SELECT assists, turnovers,\n",
    "       assists *1.0 / turnovers AS assist_turnover_ratio\n",
    "  FROM nba.career_summaries\n",
    " LIMIT 5;"
   ]
  },
  {
   "cell_type": "code",
   "execution_count": 29,
   "id": "eeb32ae6",
   "metadata": {},
   "outputs": [
    {
     "data": {
      "text/html": [
       "<table>\n",
       "<tr>\n",
       "<th>assists</th>\n",
       "<th>turnovers</th>\n",
       "<th>assist_turnover_ratio</th>\n",
       "</tr>\n",
       "<tr>\n",
       "<td>10045</td>\n",
       "<td>4788</td>\n",
       "<td>2.09795321637427</td>\n",
       "</tr>\n",
       "<tr>\n",
       "<td>3422</td>\n",
       "<td>3052</td>\n",
       "<td>1.12123197903014</td>\n",
       "</tr>\n",
       "<tr>\n",
       "<td>733</td>\n",
       "<td>809</td>\n",
       "<td>0.906056860321384</td>\n",
       "</tr>\n",
       "<tr>\n",
       "<td>1676</td>\n",
       "<td>3302</td>\n",
       "<td>0.507571168988492</td>\n",
       "</tr>\n",
       "<tr>\n",
       "<td>5128</td>\n",
       "<td>2231</td>\n",
       "<td>2.29852084267145</td>\n",
       "</tr>\n",
       "</table>\n",
       "5 rows in set (0.00 sec)"
      ],
      "text/plain": [
       "+---------+-----------+-----------------------+\n",
       "| assists | turnovers | assist_turnover_ratio |\n",
       "+---------+-----------+-----------------------+\n",
       "| 10045   | 4788      | 2.09795321637427      |\n",
       "+---------+-----------+-----------------------+\n",
       "| 3422    | 3052      | 1.12123197903014      |\n",
       "+---------+-----------+-----------------------+\n",
       "| 733     | 809       | 0.906056860321384     |\n",
       "+---------+-----------+-----------------------+\n",
       "| 1676    | 3302      | 0.507571168988492     |\n",
       "+---------+-----------+-----------------------+\n",
       "| 5128    | 2231      | 2.29852084267145      |\n",
       "+---------+-----------+-----------------------+\n",
       "5 rows in set (0.00 sec)"
      ]
     },
     "execution_count": 29,
     "metadata": {},
     "output_type": "execute_result"
    }
   ],
   "source": [
    "SELECT assists, turnovers,\n",
    "       CAST( assists AS REAL) / turnovers AS assist_turnover_ratio\n",
    "  FROM nba.career_summaries\n",
    " LIMIT 5;"
   ]
  },
  {
   "cell_type": "code",
   "execution_count": 37,
   "id": "d2c314a3",
   "metadata": {},
   "outputs": [
    {
     "data": {
      "text/html": [
       "<table>\n",
       "<tr>\n",
       "<th>distinct_year_month</th>\n",
       "</tr>\n",
       "<tr>\n",
       "<td>2020-01</td>\n",
       "</tr>\n",
       "<tr>\n",
       "<td>2020-02</td>\n",
       "</tr>\n",
       "<tr>\n",
       "<td>2020-03</td>\n",
       "</tr>\n",
       "<tr>\n",
       "<td>2020-04</td>\n",
       "</tr>\n",
       "<tr>\n",
       "<td>2020-05</td>\n",
       "</tr>\n",
       "<tr>\n",
       "<td>2020-06</td>\n",
       "</tr>\n",
       "<tr>\n",
       "<td>2020-07</td>\n",
       "</tr>\n",
       "<tr>\n",
       "<td>2020-08</td>\n",
       "</tr>\n",
       "<tr>\n",
       "<td>2020-09</td>\n",
       "</tr>\n",
       "<tr>\n",
       "<td>2020-10</td>\n",
       "</tr>\n",
       "<tr>\n",
       "<td>2020-11</td>\n",
       "</tr>\n",
       "<tr>\n",
       "<td>2020-12</td>\n",
       "</tr>\n",
       "<tr>\n",
       "<td>2021-01</td>\n",
       "</tr>\n",
       "<tr>\n",
       "<td>2021-02</td>\n",
       "</tr>\n",
       "<tr>\n",
       "<td>2021-03</td>\n",
       "</tr>\n",
       "<tr>\n",
       "<td>2021-04</td>\n",
       "</tr>\n",
       "<tr>\n",
       "<td>2021-05</td>\n",
       "</tr>\n",
       "<tr>\n",
       "<td>2021-06</td>\n",
       "</tr>\n",
       "<tr>\n",
       "<td>2021-07</td>\n",
       "</tr>\n",
       "<tr>\n",
       "<td>2021-08</td>\n",
       "</tr>\n",
       "<tr>\n",
       "<td>2021-09</td>\n",
       "</tr>\n",
       "<tr>\n",
       "<td>2021-10</td>\n",
       "</tr>\n",
       "<tr>\n",
       "<td>2021-11</td>\n",
       "</tr>\n",
       "<tr>\n",
       "<td>2021-12</td>\n",
       "</tr>\n",
       "<tr>\n",
       "<td>2022-01</td>\n",
       "</tr>\n",
       "<tr>\n",
       "<td>2022-02</td>\n",
       "</tr>\n",
       "<tr>\n",
       "<td>2022-03</td>\n",
       "</tr>\n",
       "<tr>\n",
       "<td>2022-04</td>\n",
       "</tr>\n",
       "<tr>\n",
       "<td>2022-05</td>\n",
       "</tr>\n",
       "</table>\n",
       "29 rows in set (0.05 sec)"
      ],
      "text/plain": [
       "+---------------------+\n",
       "| distinct_year_month |\n",
       "+---------------------+\n",
       "| 2020-01             |\n",
       "+---------------------+\n",
       "| 2020-02             |\n",
       "+---------------------+\n",
       "| 2020-03             |\n",
       "+---------------------+\n",
       "| 2020-04             |\n",
       "+---------------------+\n",
       "| 2020-05             |\n",
       "+---------------------+\n",
       "| 2020-06             |\n",
       "+---------------------+\n",
       "| 2020-07             |\n",
       "+---------------------+\n",
       "| 2020-08             |\n",
       "+---------------------+\n",
       "| 2020-09             |\n",
       "+---------------------+\n",
       "| 2020-10             |\n",
       "+---------------------+\n",
       "| 2020-11             |\n",
       "+---------------------+\n",
       "| 2020-12             |\n",
       "+---------------------+\n",
       "| 2021-01             |\n",
       "+---------------------+\n",
       "| 2021-02             |\n",
       "+---------------------+\n",
       "| 2021-03             |\n",
       "+---------------------+\n",
       "| 2021-04             |\n",
       "+---------------------+\n",
       "| 2021-05             |\n",
       "+---------------------+\n",
       "| 2021-06             |\n",
       "+---------------------+\n",
       "| 2021-07             |\n",
       "+---------------------+\n",
       "| 2021-08             |\n",
       "+---------------------+\n",
       "| 2021-09             |\n",
       "+---------------------+\n",
       "| 2021-10             |\n",
       "+---------------------+\n",
       "| 2021-11             |\n",
       "+---------------------+\n",
       "| 2021-12             |\n",
       "+---------------------+\n",
       "| 2022-01             |\n",
       "+---------------------+\n",
       "| 2022-02             |\n",
       "+---------------------+\n",
       "| 2022-03             |\n",
       "+---------------------+\n",
       "| 2022-04             |\n",
       "+---------------------+\n",
       "| 2022-05             |\n",
       "+---------------------+\n",
       "29 rows in set (0.05 sec)"
      ]
     },
     "execution_count": 37,
     "metadata": {},
     "output_type": "execute_result"
    }
   ],
   "source": [
    "SELECT DISTINCT STRFTIME('%Y', Date) || '-' || STRFTIME('%m', Date) AS distinct_year_month\n",
    "  FROM covid19.time_series;"
   ]
  },
  {
   "cell_type": "code",
   "execution_count": 39,
   "id": "7fc5117e",
   "metadata": {},
   "outputs": [
    {
     "data": {
      "text/html": [
       "<table>\n",
       "<tr>\n",
       "<th>admin_region_id</th>\n",
       "<th>office</th>\n",
       "<th>candidate_id</th>\n",
       "<th>votes</th>\n",
       "</tr>\n",
       "<tr>\n",
       "<td>996</td>\n",
       "<td>1</td>\n",
       "<td>1</td>\n",
       "<td>37</td>\n",
       "</tr>\n",
       "<tr>\n",
       "<td>996</td>\n",
       "<td>2</td>\n",
       "<td>1</td>\n",
       "<td>31</td>\n",
       "</tr>\n",
       "<tr>\n",
       "<td>983</td>\n",
       "<td>3</td>\n",
       "<td>1</td>\n",
       "<td>19</td>\n",
       "</tr>\n",
       "<tr>\n",
       "<td>983</td>\n",
       "<td>4</td>\n",
       "<td>1</td>\n",
       "<td>29</td>\n",
       "</tr>\n",
       "<tr>\n",
       "<td>998</td>\n",
       "<td>5</td>\n",
       "<td>1</td>\n",
       "<td>25</td>\n",
       "</tr>\n",
       "</table>\n",
       "5 rows in set (0.00 sec)"
      ],
      "text/plain": [
       "+-----------------+--------+--------------+-------+\n",
       "| admin_region_id | office | candidate_id | votes |\n",
       "+-----------------+--------+--------------+-------+\n",
       "| 996             | 1      | 1            | 37    |\n",
       "+-----------------+--------+--------------+-------+\n",
       "| 996             | 2      | 1            | 31    |\n",
       "+-----------------+--------+--------------+-------+\n",
       "| 983             | 3      | 1            | 19    |\n",
       "+-----------------+--------+--------------+-------+\n",
       "| 983             | 4      | 1            | 29    |\n",
       "+-----------------+--------+--------------+-------+\n",
       "| 998             | 5      | 1            | 25    |\n",
       "+-----------------+--------+--------------+-------+\n",
       "5 rows in set (0.00 sec)"
      ]
     },
     "execution_count": 39,
     "metadata": {},
     "output_type": "execute_result"
    }
   ],
   "source": [
    "SELECT *\n",
    "  FROM twElection2020.presidential\n",
    " LIMIT 5;"
   ]
  },
  {
   "cell_type": "code",
   "execution_count": 44,
   "id": "cdd227cc",
   "metadata": {},
   "outputs": [
    {
     "data": {
      "text/html": [
       "<table>\n",
       "<tr>\n",
       "<th>total_presidential_votes</th>\n",
       "</tr>\n",
       "<tr>\n",
       "<td>14300940</td>\n",
       "</tr>\n",
       "</table>\n",
       "1 row in set (0.00 sec)"
      ],
      "text/plain": [
       "+--------------------------+\n",
       "| total_presidential_votes |\n",
       "+--------------------------+\n",
       "| 14300940                 |\n",
       "+--------------------------+\n",
       "1 row in set (0.00 sec)"
      ]
     },
     "execution_count": 44,
     "metadata": {},
     "output_type": "execute_result"
    }
   ],
   "source": [
    "SELECT SUM(votes) AS total_presidential_votes\n",
    "  FROM twElection2020.presidential;"
   ]
  },
  {
   "cell_type": "code",
   "execution_count": 45,
   "id": "73fd60a2",
   "metadata": {},
   "outputs": [
    {
     "data": {
      "text/html": [
       "<table>\n",
       "<tr>\n",
       "<th>Combined_Key</th>\n",
       "<th>Last_Update</th>\n",
       "<th>Confirmed</th>\n",
       "<th>Deaths</th>\n",
       "</tr>\n",
       "<tr>\n",
       "<td>Afghanistan</td>\n",
       "<td>2022-06-01 04:20:55</td>\n",
       "<td>180347</td>\n",
       "<td>7705</td>\n",
       "</tr>\n",
       "<tr>\n",
       "<td>Albania</td>\n",
       "<td>2022-06-01 04:20:55</td>\n",
       "<td>276101</td>\n",
       "<td>3497</td>\n",
       "</tr>\n",
       "<tr>\n",
       "<td>Algeria</td>\n",
       "<td>2022-06-01 04:20:55</td>\n",
       "<td>265884</td>\n",
       "<td>6875</td>\n",
       "</tr>\n",
       "<tr>\n",
       "<td>Andorra</td>\n",
       "<td>2022-06-01 04:20:55</td>\n",
       "<td>42894</td>\n",
       "<td>153</td>\n",
       "</tr>\n",
       "<tr>\n",
       "<td>Angola</td>\n",
       "<td>2022-06-01 04:20:55</td>\n",
       "<td>99761</td>\n",
       "<td>1900</td>\n",
       "</tr>\n",
       "</table>\n",
       "5 rows in set (0.00 sec)"
      ],
      "text/plain": [
       "+--------------+---------------------+-----------+--------+\n",
       "| Combined_Key | Last_Update         | Confirmed | Deaths |\n",
       "+--------------+---------------------+-----------+--------+\n",
       "| Afghanistan  | 2022-06-01 04:20:55 | 180347    | 7705   |\n",
       "+--------------+---------------------+-----------+--------+\n",
       "| Albania      | 2022-06-01 04:20:55 | 276101    | 3497   |\n",
       "+--------------+---------------------+-----------+--------+\n",
       "| Algeria      | 2022-06-01 04:20:55 | 265884    | 6875   |\n",
       "+--------------+---------------------+-----------+--------+\n",
       "| Andorra      | 2022-06-01 04:20:55 | 42894     | 153    |\n",
       "+--------------+---------------------+-----------+--------+\n",
       "| Angola       | 2022-06-01 04:20:55 | 99761     | 1900   |\n",
       "+--------------+---------------------+-----------+--------+\n",
       "5 rows in set (0.00 sec)"
      ]
     },
     "execution_count": 45,
     "metadata": {},
     "output_type": "execute_result"
    }
   ],
   "source": [
    "SELECT *\n",
    "  FROM covid19.daily_report\n",
    " LIMIT 5;"
   ]
  },
  {
   "cell_type": "code",
   "execution_count": 48,
   "id": "cc8f8962",
   "metadata": {},
   "outputs": [
    {
     "data": {
      "text/html": [
       "<table>\n",
       "<tr>\n",
       "<th>total_confirmed</th>\n",
       "<th>total_deaths</th>\n",
       "</tr>\n",
       "<tr>\n",
       "<td>529625234</td>\n",
       "<td>6292512</td>\n",
       "</tr>\n",
       "</table>\n",
       "1 row in set (0.00 sec)"
      ],
      "text/plain": [
       "+-----------------+--------------+\n",
       "| total_confirmed | total_deaths |\n",
       "+-----------------+--------------+\n",
       "| 529625234       | 6292512      |\n",
       "+-----------------+--------------+\n",
       "1 row in set (0.00 sec)"
      ]
     },
     "execution_count": 48,
     "metadata": {},
     "output_type": "execute_result"
    }
   ],
   "source": [
    "SELECT SUM(Confirmed) AS total_confirmed,\n",
    "       SUM(Deaths) AS total_deaths\n",
    "  FROM covid19.daily_report;"
   ]
  },
  {
   "cell_type": "code",
   "execution_count": null,
   "id": "d52eaac1",
   "metadata": {},
   "outputs": [],
   "source": []
  }
 ],
 "metadata": {
  "kernelspec": {
   "display_name": "xsql",
   "language": "sqlite",
   "name": "xsql"
  },
  "language_info": {
   "codemirror_mode": "sql",
   "file_extension": "",
   "mimetype": "",
   "name": "mysql",
   "version": "0.2.1"
  }
 },
 "nbformat": 4,
 "nbformat_minor": 5
}
